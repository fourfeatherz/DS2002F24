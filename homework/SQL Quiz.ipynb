{
 "cells": [
  {
   "cell_type": "code",
   "execution_count": 1,
   "id": "ed5b4c62-d5a8-44f3-8f2f-46450b0123be",
   "metadata": {},
   "outputs": [],
   "source": [
    "import sqlite3"
   ]
  },
  {
   "cell_type": "code",
   "execution_count": 3,
   "id": "95e0768f-8032-4d30-87d3-2394d42905b0",
   "metadata": {},
   "outputs": [],
   "source": [
    "connection = sqlite3.connect('store.db')\n",
    "\n",
    "#2. \n",
    "cursor = connection.cursor()"
   ]
  },
  {
   "cell_type": "code",
   "execution_count": 13,
   "id": "3840e399-cf72-4334-912b-fe2e8863e82d",
   "metadata": {},
   "outputs": [
    {
     "data": {
      "text/plain": [
       "<sqlite3.Cursor at 0x271b5f37ec0>"
      ]
     },
     "execution_count": 13,
     "metadata": {},
     "output_type": "execute_result"
    }
   ],
   "source": [
    "#Deletes tables if already exists. \n",
    "cursor.execute('DROP TABLE IF EXISTS Products')\n",
    "cursor.execute('DROP TABLE IF EXISTS Customers')\n",
    "cursor.execute('DROP TABLE IF EXISTS Orders')\n",
    "cursor.execute('DROP TABLE IF EXISTS OrderDetails')\n",
    "cursor.execute('DROP TABLE IF EXISTS Inventory')\n",
    "\n",
    "# Create the products tabl\n",
    "\n",
    "cursor.execute('''\n",
    "CREATE TABLE Products (\n",
    "    ProductID INTEGER PRIMARY KEY AUTOINCREMENT,\n",
    "    Name VARCHAR(100) NOT NULL,\n",
    "    Description TEXT,\n",
    "    Price DECIMAL(5, 2) NOT NULL,\n",
    "    Stock INT NOT NULL,\n",
    "    Category VARCHAR(50) NOT NULL\n",
    ")\n",
    "''')\n",
    "\n",
    "cursor.execute('''\n",
    "CREATE TABLE Customers (\n",
    "    CustomerID INTEGER PRIMARY KEY AUTOINCREMENT,\n",
    "    FirstName VARCHAR(50) NOT NULL,\n",
    "    LastName VARCHAR(50) NOT NULL,\n",
    "    Email VARCHAR(100),\n",
    "    Phone VARCHAR(20),\n",
    "    Address VARCHAR(255),\n",
    "    City VARCHAR(100),\n",
    "    PostalCode VARCHAR(10),\n",
    "    Country VARCHAR(50) NOT NULL\n",
    ")\n",
    "''')\n",
    "\n",
    "cursor.execute('''\n",
    "CREATE TABLE Orders (\n",
    "    OrderID INTEGER PRIMARY KEY AUTOINCREMENT,\n",
    "    CustomerID INT,\n",
    "    OrderDate DATETIME DEFAULT CURRENT_TIMESTAMP,\n",
    "    TotalAmount DECIMAL(7, 2) NOT NULL,\n",
    "    Status VARCHAR(20) NOT NULL DEFAULT 'Pending',\n",
    "    FOREIGN KEY (CustomerID) REFERENCES Customers(CustomerID)\n",
    ")\n",
    "''')\n",
    "\n",
    "cursor.execute('''\n",
    "CREATE TABLE OrderDetails (\n",
    "    OrderDetailID INTEGER PRIMARY KEY AUTOINCREMENT,\n",
    "    OrderID INT,\n",
    "    ProductID INT,\n",
    "    Quantity INT NOT NULL,\n",
    "    Price DECIMAL(5, 2) NOT NULL,\n",
    "    FOREIGN KEY (OrderID) REFERENCES Orders(OrderID),\n",
    "    FOREIGN KEY (ProductID) REFERENCES Products(ProductID)\n",
    ")\n",
    "''')\n",
    "\n",
    "cursor.execute('''\n",
    "CREATE TABLE Inventory (\n",
    "    InventoryID INTEGER PRIMARY KEY AUTOINCREMENT,\n",
    "    ProductID INT,\n",
    "    QuantityInStock INT NOT NULL,\n",
    "    LastRestockDate DATE,\n",
    "    FOREIGN KEY (ProductID) REFERENCES Products(ProductID)\n",
    ")\n",
    "''')\n",
    "\n",
    "cursor.execute('''\n",
    "\n",
    "''')"
   ]
  },
  {
   "cell_type": "code",
   "execution_count": 15,
   "id": "4a5a4bde-9497-463b-94f9-8744dd01890c",
   "metadata": {},
   "outputs": [
    {
     "data": {
      "text/plain": [
       "<sqlite3.Cursor at 0x271b5f37ec0>"
      ]
     },
     "execution_count": 15,
     "metadata": {},
     "output_type": "execute_result"
    }
   ],
   "source": [
    "# Insert data into the Products table\n",
    "cursor.execute('''\n",
    "INSERT INTO Products (Name, Description, Price, Stock, Category) VALUES\n",
    "('Laptop', '15-inch laptop with 8GB RAM', 999.99, 10, 'Electronics'),\n",
    "('Smartphone', '5G smartphone with 128GB storage', 699.99, 25, 'Electronics'),\n",
    "('Headphones', 'Noise-cancelling over-ear headphones', 199.99, 50, 'Accessories'),\n",
    "('Coffee Maker', 'Automatic drip coffee maker', 89.99, 30, 'Home Appliances'),\n",
    "('Book', 'Fiction novel, 300 pages', 14.99, 100, 'Books')\n",
    "''')\n",
    "\n",
    "# Insert data into the Customers table\n",
    "cursor.execute('''\n",
    "INSERT INTO Customers (FirstName, LastName, Email, Phone, Address, City, PostalCode, Country) VALUES\n",
    "('John', 'Doe', 'john.doe@example.com', '555-1234', '123 Main St', 'New York City', '12345', 'USA'),\n",
    "('Jane', 'Smith', 'jane.smith@example.com', '555-5678', '456 Oak Ave', 'New York City', '67890', 'USA'),\n",
    "('Alice', 'Johnson', 'alice.johnson@example.com', '555-8765', '789 Pine Rd', 'Sometown', '54321', 'USA'),\n",
    "('Bob', 'Brown', 'bob.brown@example.com', '555-4321', '321 Elm St', 'Anycity', '98765', 'USA'),\n",
    "('Carol', 'Davis', 'carol.davis@example.com', '555-6543', '654 Maple Dr', 'Othercity', '65432', 'USA')\n",
    "''')\n",
    "\n",
    "# Insert data into the Orders table\n",
    "cursor.execute('''\n",
    "INSERT INTO Orders (CustomerID, OrderDate, TotalAmount, Status) VALUES\n",
    "(1, '2023-09-01 10:00:00', 1199.97, 'Pending'),\n",
    "(2, '2023-09-02 11:30:00', 699.99, 'Completed'),\n",
    "(3, '2023-09-03 14:15:00', 214.98, 'Shipped'),\n",
    "(4, '2023-09-04 09:45:00', 89.99, 'Processing'),\n",
    "(5, '2023-09-05 13:00:00', 29.98, 'Cancelled')\n",
    "''')\n",
    "\n",
    "# Insert data into the OrderDetails table\n",
    "cursor.execute('''\n",
    "INSERT INTO OrderDetails (OrderID, ProductID, Quantity, Price) VALUES\n",
    "(1, 1, 1, 999.99),\n",
    "(1, 3, 1, 199.99),\n",
    "(2, 2, 1, 699.99),\n",
    "(3, 3, 1, 199.99),\n",
    "(3, 5, 1, 14.99)\n",
    "''')\n",
    "\n",
    "# Insert data into the Inventory table\n",
    "cursor.execute('''\n",
    "INSERT INTO Inventory (ProductID, QuantityInStock, LastRestockDate) VALUES\n",
    "(1, 0, '2023-08-25'),\n",
    "(2, 25, '2023-08-20'),\n",
    "(3, 50, '2023-08-15'),\n",
    "(4, 30, '2023-08-10'),\n",
    "(5, 100, '2023-08-05')\n",
    "''')\n"
   ]
  },
  {
   "cell_type": "code",
   "execution_count": 17,
   "id": "c27f2ebe-9137-4dc5-95a7-2eafffd69bd6",
   "metadata": {},
   "outputs": [
    {
     "name": "stdout",
     "output_type": "stream",
     "text": [
      "('Smartphone', 25)\n",
      "('Headphones', 50)\n",
      "('Coffee Maker', 30)\n",
      "('Book', 100)\n"
     ]
    }
   ],
   "source": [
    "cursor = connection.cursor()\n",
    "\n",
    "cursor.execute('''\n",
    "SELECT Name, QuantityInStock FROM Products\n",
    "JOIN Inventory ON Products.ProductID = Inventory.ProductID\n",
    "WHERE QuantityInStock > 0\n",
    "''')\n",
    "rows = cursor.fetchall()\n",
    "for row in rows:\n",
    "    print(row)"
   ]
  },
  {
   "cell_type": "code",
   "execution_count": 23,
   "id": "319b1b9a-14d0-4865-85f2-00985f366246",
   "metadata": {},
   "outputs": [
    {
     "name": "stdout",
     "output_type": "stream",
     "text": [
      "('John', 'Doe', 'New York City')\n",
      "('Jane', 'Smith', 'New York City')\n"
     ]
    }
   ],
   "source": [
    "cursor.execute('''\n",
    "SELECT FirstName, LastName, City FROM Customers\n",
    "WHERE City = \"New York City\"\n",
    "''')\n",
    "rows = cursor.fetchall()\n",
    "for row in rows:\n",
    "    print(row)"
   ]
  },
  {
   "cell_type": "code",
   "execution_count": 55,
   "id": "4fae57dc-b9b9-4955-904e-0ecafe52c3ea",
   "metadata": {},
   "outputs": [
    {
     "name": "stdout",
     "output_type": "stream",
     "text": [
      "('John', 'Doe', 'Laptop', 1)\n",
      "('John', 'Doe', 'Headphones', 1)\n",
      "('Jane', 'Smith', 'Smartphone', 1)\n",
      "('Alice', 'Johnson', 'Headphones', 1)\n",
      "('Alice', 'Johnson', 'Book', 1)\n"
     ]
    }
   ],
   "source": [
    "#Display the order details, including the customer's name, product name, and the quantity ordered\n",
    "\n",
    "cursor.execute('''\n",
    "SELECT FirstName, LastName, Name, Quantity FROM Customers\n",
    "    JOIN Orders ON Customers.CustomerID = Orders.CustomerID\n",
    "        JOIN OrderDetails ON Orders.OrderID = OrderDetails.OrderID\n",
    "            Join Products ON Products.ProductID = OrderDetails.ProductID\n",
    "''')\n",
    "rows = cursor.fetchall()\n",
    "for row in rows:\n",
    "    print(row)"
   ]
  },
  {
   "cell_type": "code",
   "execution_count": null,
   "id": "8654adf3-443d-4ce3-99e6-4f5ba84db36a",
   "metadata": {},
   "outputs": [],
   "source": []
  }
 ],
 "metadata": {
  "kernelspec": {
   "display_name": "Python 3 (ipykernel)",
   "language": "python",
   "name": "python3"
  },
  "language_info": {
   "codemirror_mode": {
    "name": "ipython",
    "version": 3
   },
   "file_extension": ".py",
   "mimetype": "text/x-python",
   "name": "python",
   "nbconvert_exporter": "python",
   "pygments_lexer": "ipython3",
   "version": "3.12.4"
  }
 },
 "nbformat": 4,
 "nbformat_minor": 5
}
