{
 "cells": [
  {
   "cell_type": "code",
   "execution_count": 3,
   "id": "431bca43-1764-4bb5-a5bd-e26bca2dd24a",
   "metadata": {},
   "outputs": [],
   "source": [
    "import sqlite3"
   ]
  },
  {
   "cell_type": "markdown",
   "id": "355a7b08-e40b-45ea-90f4-0b35169b159f",
   "metadata": {},
   "source": [
    "1. Set up the Database\n",
    "   1. **Create a connection** to an SQLite database file named student_grades.db. If the \n",
    "database file does not exist, SQLite will automatically create it\n",
    "   2. Create a cursor object to interact with the database.\r"
   ]
  },
  {
   "cell_type": "code",
   "execution_count": 5,
   "id": "1d7a622b-9495-42aa-9842-5639d7e85138",
   "metadata": {},
   "outputs": [],
   "source": [
    "#1. \n",
    "connection = sqlite3.connect('student_grades.db')\n",
    "\n",
    "#2. \n",
    "cursor = connection.cursor()"
   ]
  },
  {
   "cell_type": "markdown",
   "id": "d99e1d63-ee78-40ed-b338-d235cabb06c6",
   "metadata": {},
   "source": [
    "2. Create the Necessary Tables\r\n",
    "You will need two tables for this assignment:\r\n",
    "• students: A table to store student information.\r\n",
    "• grades: A table to store student grades for different subjects.\r\n",
    "The structure of the tables should be as follo**ws:\r\n",
    "stu**dents table:\r\n",
    "• student_id (INTEGER, Primary Key, Auto-increment)\r\n",
    "• first_name (TEXT)\r\n",
    "• last_nam\n",
    "**grades** table:\r\n",
    "• grade_id (INTEGER, Primary Key, Auto-increment)\r\n",
    "• student_id (INTEGER, Foreign Key linked to students table)\r\n",
    "• subject (TEXT)\r\n",
    "• grade (INTEER)\r",
    "e (TEXT)"
   ]
  },
  {
   "cell_type": "code",
   "execution_count": 7,
   "id": "c3bcd66d-19be-463b-ab40-4e4d58da7b66",
   "metadata": {},
   "outputs": [
    {
     "name": "stdout",
     "output_type": "stream",
     "text": [
      "students table created!\n",
      "grades table created!\n"
     ]
    }
   ],
   "source": [
    "#Deletes tables if already exists. \n",
    "cursor.execute('DROP TABLE IF EXISTS grades')\n",
    "cursor.execute('DROP TABLE IF EXISTS students')\n",
    "\n",
    "# Create the students table\n",
    "cursor.execute('''\n",
    "CREATE TABLE IF NOT EXISTS students (\n",
    "    student_id INTEGER PRIMARY KEY AUTOINCREMENT,\n",
    "    first_name TEXT NOT NULL,\n",
    "    last_name TEXT NOT NULL\n",
    ")\n",
    "''')\n",
    "print(\"students table created!\")\n",
    "\n",
    "# Create the grades table\n",
    "cursor.execute('''\n",
    "CREATE TABLE IF NOT EXISTS grades (\n",
    "    grade_id INTEGER PRIMARY KEY AUTOINCREMENT,\n",
    "    student_id INTEGER NOT NULL,\n",
    "    subject TEXT NOT NULL,\n",
    "    grade INTEGER NOT NULL,\n",
    "    FOREIGN KEY (student_id) REFERENCES students(student_ID)\n",
    ")\n",
    "''')\n",
    "print(\"grades table created!\")\n",
    "\n",
    "cursor.close()"
   ]
  },
  {
   "cell_type": "markdown",
   "id": "d536fd72-32d8-4e0c-bedf-ed42fe0949a3",
   "metadata": {},
   "source": [
    "3. Insert Data into the Tables\r\n",
    "Insert at least 5 students into the students table and at least 3 grades for each student int \r\n",
    "the grades tablle:"
   ]
  },
  {
   "cell_type": "code",
   "execution_count": 9,
   "id": "c9c751b0-8513-4c6c-8762-4d2cbabb07b2",
   "metadata": {},
   "outputs": [],
   "source": [
    "# Sample data to insert into the student table\n",
    "student_data = [\n",
    "    ('Alice', 'Johnson'),\n",
    "    ('Bob', 'Smith'),\n",
    "    ('Carol', 'White'),\n",
    "    ('David', 'Brown'),\n",
    "    ('Eve', 'Davis')\n",
    "]\n",
    "\n",
    "grade_data = [\n",
    "    (1, \"Math\", 95),\n",
    "    (1, \"English\", 88),\n",
    "    (1, \"History\", 90),\n",
    "    (2, \"Math\", 82),\n",
    "    (2, \"English\", 76),\n",
    "    (2, \"History\", 85),\n",
    "    (3, \"Math\", 89),\n",
    "    (3, \"English\", 92),\n",
    "    (3, \"History\", 87),\n",
    "    (4, \"Math\", 78),\n",
    "    (4, \"English\", 84),\n",
    "    (4, \"History\", 80),\n",
    "    (5, \"Math\", 91),\n",
    "    (5, \"English\", 79),\n",
    "    (5, \"History\", 88)\n",
    "]"
   ]
  },
  {
   "cell_type": "code",
   "execution_count": 14,
   "id": "6482a467-6a97-4fb3-b680-802094c4adfe",
   "metadata": {},
   "outputs": [],
   "source": [
    "cursor = connection.cursor()\n",
    "\n",
    "# Insert data into the table\n",
    "cursor.executemany('''\n",
    "INSERT INTO students (first_name, last_name) VALUES (?, ?)\n",
    "''', student_data)\n",
    "\n",
    "connection.commit()\n",
    "\n",
    "cursor.executemany('''\n",
    "INSERT INTO grades (student_id, subject, grade) VALUES (?, ?, ?)\n",
    "''', grade_data)\n",
    "\n",
    "# Commit the transaction\n",
    "connection.commit()\n",
    "\n",
    "cursor.close()"
   ]
  },
  {
   "cell_type": "markdown",
   "id": "4b4c56a2-bcb6-4a2f-9ee7-21d2e569901d",
   "metadata": {},
   "source": [
    "4. **Perform SQL Queries**\r\n",
    "Write SQL queries to answer the following questions:"
   ]
  },
  {
   "cell_type": "markdown",
   "id": "ed754b98-34f8-4883-b662-609ddc41f1a4",
   "metadata": {},
   "source": [
    "    1. Retrieve all students' names and their grades."
   ]
  },
  {
   "cell_type": "code",
   "execution_count": 12,
   "id": "c440baf0-6cb2-4e6e-9422-a2d641f64949",
   "metadata": {},
   "outputs": [
    {
     "name": "stdout",
     "output_type": "stream",
     "text": [
      "Student Grades:\n",
      "('Alice', 'Johnson', '95,88,90')\n",
      "('Bob', 'Smith', '82,76,85')\n",
      "('Carol', 'White', '89,92,87')\n",
      "('David', 'Brown', '78,84,80')\n",
      "('Eve', 'Davis', '91,79,88')\n"
     ]
    }
   ],
   "source": [
    "cursor = connection.cursor()\n",
    "\n",
    "cursor.execute('''\n",
    "SELECT first_name, last_name, GROUP_CONCAT(grade) AS grades\n",
    "FROM students\n",
    "JOIN grades ON students.student_id = grades.student_id\n",
    "GROUP BY students.student_id\n",
    "''')\n",
    "rows = cursor.fetchall()\n",
    "print(\"Student Grades:\")\n",
    "for row in rows:\n",
    "    print(row)"
   ]
  },
  {
   "cell_type": "markdown",
   "id": "cc162ae6-27c4-47ec-ae4a-9a01317c6d43",
   "metadata": {},
   "source": [
    "2. Find the average grade for each student."
   ]
  },
  {
   "cell_type": "code",
   "execution_count": 14,
   "id": "4f4f01fc-46e0-4bbf-ba43-c377480b905a",
   "metadata": {},
   "outputs": [
    {
     "name": "stdout",
     "output_type": "stream",
     "text": [
      "Student Grades:\n",
      "Alice Johnson - Average grade: 91.0\n",
      "Bob Smith - Average grade: 81.0\n",
      "Carol White - Average grade: 89.33\n",
      "David Brown - Average grade: 80.67\n",
      "Eve Davis - Average grade: 86.0\n"
     ]
    }
   ],
   "source": [
    "cursor.execute('''\n",
    "SELECT first_name, last_name, ROUND(AVG(grade),2) AS grades\n",
    "FROM students\n",
    "JOIN grades ON students.student_id = grades.student_id\n",
    "GROUP BY students.student_id\n",
    "''')\n",
    "rows = cursor.fetchall()\n",
    "print(\"Student Grades:\")\n",
    "for row in rows:\n",
    "    print(f\"{row[0]} {row[1]} - Average grade: {row[2]}\")"
   ]
  },
  {
   "cell_type": "markdown",
   "id": "fd0064fa-e9c9-4e17-8479-d2f16ee0958e",
   "metadata": {},
   "source": [
    "3. Find the student with the highest average grade."
   ]
  },
  {
   "cell_type": "code",
   "execution_count": 16,
   "id": "f176f307-9554-4cb4-9a8f-a48c70255171",
   "metadata": {},
   "outputs": [
    {
     "name": "stdout",
     "output_type": "stream",
     "text": [
      "Student Grades:\n",
      "('Alice', 'Johnson', 91.0)\n"
     ]
    }
   ],
   "source": [
    "cursor.execute('''\n",
    "SELECT first_name, last_name, MAX(avg_grades) AS max_average_grade\n",
    "FROM(\n",
    "    SELECT first_name, last_name, AVG(grade) AS avg_grades\n",
    "    FROM students\n",
    "    JOIN grades ON students.student_id = grades.student_id\n",
    "    GROUP BY students.student_id\n",
    "    )\n",
    "''')\n",
    "rows = cursor.fetchall()\n",
    "print(\"Student Grades:\")\n",
    "for row in rows:\n",
    "    print(row)"
   ]
  },
  {
   "cell_type": "markdown",
   "id": "c3dd6264-0c07-43b4-a960-6d98187dd713",
   "metadata": {},
   "source": [
    "4. Find the average grade for the Math subject."
   ]
  },
  {
   "cell_type": "code",
   "execution_count": 18,
   "id": "14d7c7b4-adcd-464a-8ac7-8e943d362bff",
   "metadata": {},
   "outputs": [
    {
     "name": "stdout",
     "output_type": "stream",
     "text": [
      "Student Grades:\n",
      "('Math', 87.0)\n"
     ]
    }
   ],
   "source": [
    "cursor.execute('''\n",
    "SELECT * FROM (\n",
    "SELECT subject AS subject, AVG(grade) AS avg_grade FROM grades\n",
    "GROUP BY subject\n",
    ") WHERE subject = \"Math\"\n",
    "''')\n",
    "rows = cursor.fetchall()\n",
    "print(\"Student Grades:\")\n",
    "for row in rows:\n",
    "    print(row)"
   ]
  },
  {
   "cell_type": "markdown",
   "id": "15981426-7e3a-42af-b0a4-7b4a29802c5c",
   "metadata": {},
   "source": [
    "5. List all students who scored above 90 in any subject."
   ]
  },
  {
   "cell_type": "code",
   "execution_count": 20,
   "id": "74533463-82c9-4b94-aeb1-662c81bb08db",
   "metadata": {},
   "outputs": [
    {
     "name": "stdout",
     "output_type": "stream",
     "text": [
      "Student who scored above 90:\n",
      "('Alice', 'Johnson')\n",
      "('Carol', 'White')\n",
      "('Eve', 'Davis')\n"
     ]
    }
   ],
   "source": [
    "cursor.execute('''\n",
    "SELECT first_name, last_name FROM\n",
    "(\n",
    "SELECT * \n",
    "FROM students\n",
    "JOIN grades ON grades.student_id = students.student_id\n",
    ") WHERE grade > 90\n",
    "''')\n",
    "rows = cursor.fetchall()\n",
    "print(\"Student who scored above 90:\")\n",
    "for row in rows:\n",
    "    print(row)"
   ]
  },
  {
   "cell_type": "markdown",
   "id": "5e275c08-63e9-4ea5-8cee-47dfdd01d103",
   "metadata": {},
   "source": [
    "5. **Load Data into Pandas**\n",
    "    1. Use Pandas to load the data from the students and grades tables into DataFrames."
   ]
  },
  {
   "cell_type": "code",
   "execution_count": 22,
   "id": "2ea0659c-c863-4545-a3f1-a5e78f815e91",
   "metadata": {},
   "outputs": [],
   "source": [
    "import pandas as pd\n",
    "\n",
    "students = pd.read_sql_query('SELECT * FROM students', connection)\n",
    "grades = pd.read_sql_query('SELECT * FROM grades', connection)"
   ]
  },
  {
   "cell_type": "markdown",
   "id": "04021dd3-e7f0-4c18-adef-394c0829bcd1",
   "metadata": {},
   "source": [
    "    2. Use JOIN queries to combine the data from both tables into a single DataFrame that \n",
    "includes each student's name, subject, and grade\r"
   ]
  },
  {
   "cell_type": "code",
   "execution_count": 24,
   "id": "82c4dcd0-3ff2-44e6-8213-1c2b78673ba0",
   "metadata": {},
   "outputs": [
    {
     "data": {
      "text/html": [
       "<div>\n",
       "<style scoped>\n",
       "    .dataframe tbody tr th:only-of-type {\n",
       "        vertical-align: middle;\n",
       "    }\n",
       "\n",
       "    .dataframe tbody tr th {\n",
       "        vertical-align: top;\n",
       "    }\n",
       "\n",
       "    .dataframe thead th {\n",
       "        text-align: right;\n",
       "    }\n",
       "</style>\n",
       "<table border=\"1\" class=\"dataframe\">\n",
       "  <thead>\n",
       "    <tr style=\"text-align: right;\">\n",
       "      <th></th>\n",
       "      <th>first_name</th>\n",
       "      <th>last_name</th>\n",
       "      <th>subject</th>\n",
       "      <th>grade</th>\n",
       "    </tr>\n",
       "  </thead>\n",
       "  <tbody>\n",
       "    <tr>\n",
       "      <th>0</th>\n",
       "      <td>Alice</td>\n",
       "      <td>Johnson</td>\n",
       "      <td>Math</td>\n",
       "      <td>95</td>\n",
       "    </tr>\n",
       "    <tr>\n",
       "      <th>1</th>\n",
       "      <td>Alice</td>\n",
       "      <td>Johnson</td>\n",
       "      <td>English</td>\n",
       "      <td>88</td>\n",
       "    </tr>\n",
       "    <tr>\n",
       "      <th>2</th>\n",
       "      <td>Alice</td>\n",
       "      <td>Johnson</td>\n",
       "      <td>History</td>\n",
       "      <td>90</td>\n",
       "    </tr>\n",
       "    <tr>\n",
       "      <th>3</th>\n",
       "      <td>Bob</td>\n",
       "      <td>Smith</td>\n",
       "      <td>Math</td>\n",
       "      <td>82</td>\n",
       "    </tr>\n",
       "    <tr>\n",
       "      <th>4</th>\n",
       "      <td>Bob</td>\n",
       "      <td>Smith</td>\n",
       "      <td>English</td>\n",
       "      <td>76</td>\n",
       "    </tr>\n",
       "  </tbody>\n",
       "</table>\n",
       "</div>"
      ],
      "text/plain": [
       "  first_name last_name  subject  grade\n",
       "0      Alice   Johnson     Math     95\n",
       "1      Alice   Johnson  English     88\n",
       "2      Alice   Johnson  History     90\n",
       "3        Bob     Smith     Math     82\n",
       "4        Bob     Smith  English     76"
      ]
     },
     "execution_count": 24,
     "metadata": {},
     "output_type": "execute_result"
    }
   ],
   "source": [
    "combinedDf = pd.read_sql_query('SELECT first_name, last_name, subject, grade FROM students JOIN grades ON grades.student_id = students.student_id', connection)\n",
    "combinedDf.head()"
   ]
  },
  {
   "cell_type": "markdown",
   "id": "6269bcaf-bf8d-4868-83c2-fe353b0465be",
   "metadata": {},
   "source": [
    "    3. Visualize the data with Matplotlib:\n",
    "        a.  Plot the average grades for each student\n",
    "        b. o Create a bar chart showing the average grade for each subject"
   ]
  },
  {
   "cell_type": "code",
   "execution_count": 26,
   "id": "583081ea-5100-4fd3-894d-d9d8543ded3c",
   "metadata": {},
   "outputs": [
    {
     "data": {
      "image/png": "[encoded data removed]",
      "text/plain": [
       "<Figure size 1000x600 with 1 Axes>"
      ]
     },
     "metadata": {},
     "output_type": "display_data"
    },
    {
     "data": {
      "image/png": "[encoded data removed]",
      "text/plain": [
       "<Figure size 1000x600 with 1 Axes>"
      ]
     },
     "metadata": {},
     "output_type": "display_data"
    }
   ],
   "source": [
    "import matplotlib.pyplot as plt\n",
    "\n",
    "averageStudent = pd.read_sql_query(\n",
    "    '''SELECT CONCAT(first_name,\" \", last_name) AS 'Full Name', ROUND(AVG(grade),2) AS 'Average grade'\n",
    "    FROM students\n",
    "    JOIN grades ON students.student_id = grades.student_id\n",
    "    GROUP BY students.student_id\n",
    "    ''', connection)\n",
    "\n",
    "# Plot sales data\n",
    "plt.figure(figsize=(10,6))\n",
    "plt.bar(averageStudent['Full Name'], averageStudent['Average grade'], color='lightgreen')\n",
    "plt.xlabel('Student')\n",
    "plt.ylabel('Average Grade')\n",
    "plt.title('Average Grade by Student')\n",
    "plt.show()\n",
    "\n",
    "averageGrade = pd.read_sql_query('''SELECT subject AS Subject, AVG(grade) AS \"Average grade\" FROM grades\n",
    "GROUP BY subject''', connection)\n",
    "\n",
    "plt.figure(figsize=(10,6))\n",
    "plt.bar(averageGrade['Subject'], averageGrade['Average grade'], color='lightblue')\n",
    "plt.xlabel('Subject')\n",
    "plt.ylabel('Average Grade')\n",
    "plt.title('Average Grade by Subject')\n",
    "plt.show()"
   ]
  },
  {
   "cell_type": "markdown",
   "id": "47abfa1c-dd94-4600-af90-b86f61ad139a",
   "metadata": {},
   "source": [
    "Bonus Task: (5pts)\r\n",
    "• Implement a query that finds the student with the highest grade in each subject.\r\n",
    "• Visualize the results using a grouped bar chart"
   ]
  },
  {
   "cell_type": "code",
   "execution_count": 28,
   "id": "68a41ce3-7055-49a2-94a9-b2bb4ff42eb6",
   "metadata": {},
   "outputs": [
    {
     "data": {
      "text/html": [
       "<div>\n",
       "<style scoped>\n",
       "    .dataframe tbody tr th:only-of-type {\n",
       "        vertical-align: middle;\n",
       "    }\n",
       "\n",
       "    .dataframe tbody tr th {\n",
       "        vertical-align: top;\n",
       "    }\n",
       "\n",
       "    .dataframe thead th {\n",
       "        text-align: right;\n",
       "    }\n",
       "</style>\n",
       "<table border=\"1\" class=\"dataframe\">\n",
       "  <thead>\n",
       "    <tr style=\"text-align: right;\">\n",
       "      <th></th>\n",
       "      <th>subject</th>\n",
       "      <th>Full name</th>\n",
       "      <th>Top grade</th>\n",
       "    </tr>\n",
       "  </thead>\n",
       "  <tbody>\n",
       "    <tr>\n",
       "      <th>0</th>\n",
       "      <td>English</td>\n",
       "      <td>Carol White</td>\n",
       "      <td>92</td>\n",
       "    </tr>\n",
       "    <tr>\n",
       "      <th>1</th>\n",
       "      <td>History</td>\n",
       "      <td>Alice Johnson</td>\n",
       "      <td>90</td>\n",
       "    </tr>\n",
       "    <tr>\n",
       "      <th>2</th>\n",
       "      <td>Math</td>\n",
       "      <td>Alice Johnson</td>\n",
       "      <td>95</td>\n",
       "    </tr>\n",
       "  </tbody>\n",
       "</table>\n",
       "</div>"
      ],
      "text/plain": [
       "   subject      Full name  Top grade\n",
       "0  English    Carol White         92\n",
       "1  History  Alice Johnson         90\n",
       "2     Math  Alice Johnson         95"
      ]
     },
     "execution_count": 28,
     "metadata": {},
     "output_type": "execute_result"
    }
   ],
   "source": [
    "topScore = pd.read_sql_query(\n",
    "'''\n",
    "SELECT subject, CONCAT(first_name, \" \", last_name) AS 'Full name', MAX(grade) AS 'Top grade' from grades\n",
    "JOIN students ON students.student_id = grades.student_id\n",
    "GROUP BY subject\n",
    "''', connection)\n",
    "\n",
    "topScore.head()"
   ]
  },
  {
   "cell_type": "code",
   "execution_count": 110,
   "id": "e0c04baf-64df-485e-b75d-f195cd1aa3b6",
   "metadata": {},
   "outputs": [
    {
     "data": {
      "text/html": [
       "<div>\n",
       "<style scoped>\n",
       "    .dataframe tbody tr th:only-of-type {\n",
       "        vertical-align: middle;\n",
       "    }\n",
       "\n",
       "    .dataframe tbody tr th {\n",
       "        vertical-align: top;\n",
       "    }\n",
       "\n",
       "    .dataframe thead th {\n",
       "        text-align: right;\n",
       "    }\n",
       "</style>\n",
       "<table border=\"1\" class=\"dataframe\">\n",
       "  <thead>\n",
       "    <tr style=\"text-align: right;\">\n",
       "      <th></th>\n",
       "      <th>Full name</th>\n",
       "      <th>subject</th>\n",
       "      <th>grade</th>\n",
       "    </tr>\n",
       "  </thead>\n",
       "  <tbody>\n",
       "    <tr>\n",
       "      <th>0</th>\n",
       "      <td>Alice Johnson</td>\n",
       "      <td>Math</td>\n",
       "      <td>95</td>\n",
       "    </tr>\n",
       "    <tr>\n",
       "      <th>1</th>\n",
       "      <td>Carol White</td>\n",
       "      <td>English</td>\n",
       "      <td>92</td>\n",
       "    </tr>\n",
       "    <tr>\n",
       "      <th>2</th>\n",
       "      <td>Eve Davis</td>\n",
       "      <td>Math</td>\n",
       "      <td>91</td>\n",
       "    </tr>\n",
       "    <tr>\n",
       "      <th>3</th>\n",
       "      <td>Alice Johnson</td>\n",
       "      <td>History</td>\n",
       "      <td>90</td>\n",
       "    </tr>\n",
       "    <tr>\n",
       "      <th>4</th>\n",
       "      <td>Carol White</td>\n",
       "      <td>Math</td>\n",
       "      <td>89</td>\n",
       "    </tr>\n",
       "  </tbody>\n",
       "</table>\n",
       "</div>"
      ],
      "text/plain": [
       "       Full name  subject  grade\n",
       "0  Alice Johnson     Math     95\n",
       "1    Carol White  English     92\n",
       "2      Eve Davis     Math     91\n",
       "3  Alice Johnson  History     90\n",
       "4    Carol White     Math     89"
      ]
     },
     "execution_count": 110,
     "metadata": {},
     "output_type": "execute_result"
    }
   ],
   "source": [
    "topScore2 = pd.read_sql_query(\n",
    "'''\n",
    "SELECT CONCAT(first_name,\" \", last_name) AS 'Full name', subject, grade FROM grades\n",
    "JOIN students ON students.student_id = grades.student_id\n",
    "ORDER BY grade DESC\n",
    "''', connection)\n",
    "\n",
    "topScore2.head()\n",
    "\n",
    "#I can't figure out how to visualize it"
   ]
  }
 ],
 "metadata": {
  "kernelspec": {
   "display_name": "Python 3 (ipykernel)",
   "language": "python",
   "name": "python3"
  },
  "language_info": {
   "codemirror_mode": {
    "name": "ipython",
    "version": 3
   },
   "file_extension": ".py",
   "mimetype": "text/x-python",
   "name": "python",
   "nbconvert_exporter": "python",
   "pygments_lexer": "ipython3",
   "version": "3.12.4"
  }
 },
 "nbformat": 4,
 "nbformat_minor": 5
}
