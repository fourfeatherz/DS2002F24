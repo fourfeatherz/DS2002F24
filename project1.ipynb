{
  "nbformat": 4,
  "nbformat_minor": 0,
  "metadata": {
    "colab": {
      "provenance": [],
      "authorship_tag": "ABX9TyMw3CmsOWekEhLR5D0vzHlu",
      "include_colab_link": true
    },
    "kernelspec": {
      "name": "python3",
      "display_name": "Python 3"
    },
    "language_info": {
      "name": "python"
    }
  },
  "cells": [
    {
      "cell_type": "markdown",
      "metadata": {
        "id": "view-in-github",
        "colab_type": "text"
      },
      "source": [
        "<a href=\"https://colab.research.google.com/github/rixprakash/DS2002F24/blob/main/project1.ipynb\" target=\"_parent\"><img src=\"https://colab.research.google.com/assets/colab-badge.svg\" alt=\"Open In Colab\"/></a>"
      ]
    },
    {
      "cell_type": "code",
      "source": [
        "! git clone https://github.com/rixprakash/DS2002F24"
      ],
      "metadata": {
        "colab": {
          "base_uri": "https://localhost:8080/"
        },
        "id": "_4NfZ3zta_Rn",
        "outputId": "34d9970a-a2ae-493e-c4ff-aca4214c67e7"
      },
      "execution_count": 2,
      "outputs": [
        {
          "output_type": "stream",
          "name": "stdout",
          "text": [
            "fatal: destination path 'DS2002F24' already exists and is not an empty directory.\n"
          ]
        }
      ]
    },
    {
      "cell_type": "code",
      "source": [
        "import pandas as pd\n",
        "import json\n",
        "import sqlite3\n",
        "import os\n",
        "\n",
        "# Function to convert CSV file to JSON\n",
        "def convert_to_json(file_path):\n",
        "    try:\n",
        "        df = pd.read_csv(file_path)\n",
        "        json_data = df.to_json(orient='records')\n",
        "        json_file_path = file_path.replace('.csv', '.json')\n",
        "        with open(json_file_path, 'w') as json_file:\n",
        "            json_file.write(json_data)\n",
        "        print(f\"File converted to JSON format and saved as {json_file_path}\")\n",
        "    except Exception as e:\n",
        "        print(f\"Error converting file to JSON: {e}\")\n",
        "\n",
        "# Function to convert CSV file to SQL\n",
        "def convert_to_sql(file_path, db_name='mydatabase.db', table_name='mytable'):\n",
        "    try:\n",
        "        # Read the CSV file into a pandas dataframe\n",
        "        df = pd.read_csv(file_path)\n",
        "\n",
        "        # Connect to SQLite database (or create it if it doesn't exist)\n",
        "        conn = sqlite3.connect(db_name)\n",
        "\n",
        "        # Write the dataframe to the SQL database\n",
        "        df.to_sql(table_name, conn, if_exists='replace', index=False)\n",
        "        conn.close()\n",
        "        print(f\"File converted to SQL and saved in {db_name} database, table: {table_name}\")\n",
        "    except Exception as e:\n",
        "        print(f\"Error converting file to SQL: {e}\")\n",
        "\n",
        "# Main function\n",
        "def main():\n",
        "    file_path = input(\"Enter the CSV file path: \")\n",
        "\n",
        "    # Check if file exists\n",
        "    if not os.path.exists(file_path):\n",
        "        print(\"File does not exist!\")\n",
        "        return\n",
        "\n",
        "    choice = input(\"Do you want to convert the file to (1) JSON or (2) SQL DataFrame? Enter 1 or 2: \")\n",
        "\n",
        "    if choice == '1':\n",
        "        convert_to_json(file_path)\n",
        "    elif choice == '2':\n",
        "        convert_to_sql(file_path)\n",
        "    else:\n",
        "        print(\"Invalid choice! Please enter 1 or 2.\")\n",
        "\n",
        "if __name__ == \"__main__\":\n",
        "    main()\n"
      ],
      "metadata": {
        "colab": {
          "base_uri": "https://localhost:8080/"
        },
        "id": "04nV5ERWGM3G",
        "outputId": "b2b708d1-c88f-4f8f-b8e7-fdecc043b4ce"
      },
      "execution_count": 9,
      "outputs": [
        {
          "output_type": "stream",
          "name": "stdout",
          "text": [
            "Enter the CSV file path: /content/Crime_Data.csv\n",
            "Do you want to convert the file to (1) JSON or (2) SQL DataFrame? Enter 1 or 2: 1\n",
            "File converted to JSON format and saved as /content/Crime_Data.json\n"
          ]
        }
      ]
    },
    {
      "cell_type": "code",
      "source": [
        "import pandas as pd\n",
        "import json\n",
        "import os\n",
        "\n",
        "# Function to convert CSV file to JSON\n",
        "def convert_csv_to_json(file_path):\n",
        "    try:\n",
        "        df = pd.read_csv(file_path)\n",
        "        json_data = df.to_json(orient='records')\n",
        "        json_file_path = file_path.replace('.csv', '.json')\n",
        "        with open(json_file_path, 'w') as json_file:\n",
        "            json_file.write(json_data)\n",
        "        print(f\"CSV file converted to JSON format and saved as {json_file_path}\")\n",
        "    except Exception as e:\n",
        "        print(f\"Error converting CSV to JSON: {e}\")\n",
        "\n",
        "# Function to convert JSON file to CSV\n",
        "def convert_json_to_csv(file_path):\n",
        "    try:\n",
        "        with open(file_path, 'r') as json_file:\n",
        "            json_data = json.load(json_file)\n",
        "        df = pd.DataFrame(json_data)\n",
        "        csv_file_path = file_path.replace('.json', '.csv')\n",
        "        df.to_csv(csv_file_path, index=False)\n",
        "        print(f\"JSON file converted to CSV format and saved as {csv_file_path}\")\n",
        "    except Exception as e:\n",
        "        print(f\"Error converting JSON to CSV: {e}\")\n",
        "\n",
        "# Main function\n",
        "def main():\n",
        "    file_type = input(\"Is the file you are converting (1) CSV or (2) JSON? Enter 1 for CSV or 2 for JSON: \")\n",
        "\n",
        "    if file_type == '1':\n",
        "        file_path = input(\"Enter the CSV file path: \")\n",
        "\n",
        "        if not os.path.exists(file_path):\n",
        "            print(\"File does not exist!\")\n",
        "            return\n",
        "\n",
        "        choice = input(\"Do you want to convert the CSV file to (1) JSON? Enter 1: \")\n",
        "\n",
        "        if choice == '1':\n",
        "            convert_csv_to_json(file_path)\n",
        "        else:\n",
        "            print(\"Invalid choice! Please enter 1.\")\n",
        "\n",
        "    elif file_type == '2':\n",
        "        file_path = input(\"Enter the JSON file path: \")\n",
        "\n",
        "        if not os.path.exists(file_path):\n",
        "            print(\"File does not exist!\")\n",
        "            return\n",
        "\n",
        "        choice = input(\"Do you want to convert the JSON file to (1) CSV? Enter 1: \")\n",
        "\n",
        "        if choice == '1':\n",
        "            convert_json_to_csv(file_path)\n",
        "        else:\n",
        "            print(\"Invalid choice! Please enter 1.\")\n",
        "\n",
        "    else:\n",
        "        print(\"Invalid file type! Please enter 1 for CSV or 2 for JSON.\")\n",
        "\n",
        "if __name__ == \"__main__\":\n",
        "    main()\n"
      ],
      "metadata": {
        "colab": {
          "base_uri": "https://localhost:8080/"
        },
        "id": "RMNBRQKHI0CL",
        "outputId": "802fe578-f219-442a-ce34-2431eb337331"
      },
      "execution_count": 11,
      "outputs": [
        {
          "output_type": "stream",
          "name": "stdout",
          "text": [
            "Is the file you are converting (1) CSV or (2) JSON? Enter 1 for CSV or 2 for JSON: 2\n",
            "Enter the JSON file path: /content/Crime_Data.json\n",
            "Do you want to convert the JSON file to (1) CSV? Enter 1: 1\n",
            "JSON file converted to CSV format and saved as /content/Crime_Data.csv\n"
          ]
        }
      ]
    },
    {
      "cell_type": "code",
      "source": [
        "import pandas as pd\n",
        "import json\n",
        "import sqlite3\n",
        "import os\n",
        "\n",
        "# Load the CSV file\n",
        "file_path = '/mnt/data/Crime_Data.csv'\n",
        "df = pd.read_csv(file_path)\n",
        "\n",
        "# Function to convert CSV file to JSON\n",
        "def convert_csv_to_json(df, file_path):\n",
        "    try:\n",
        "        json_data = df.to_json(orient='records')\n",
        "        json_file_path = file_path.replace('.csv', '.json')\n",
        "        with open(json_file_path, 'w') as json_file:\n",
        "            json_file.write(json_data)\n",
        "        print(f\"CSV file converted to JSON format and saved as {json_file_path}\")\n",
        "    except Exception as e:\n",
        "        print(f\"Error converting CSV to JSON: {e}\")\n",
        "\n",
        "# Function to convert CSV file to SQL\n",
        "def convert_csv_to_sql(df, file_path, db_name='crime_data.db', table_name='crime_records'):\n",
        "    try:\n",
        "        # Connect to SQLite database (or create it if it doesn't exist)\n",
        "        conn = sqlite3.connect(db_name)\n",
        "\n",
        "        # Write the dataframe to the SQL database\n",
        "        df.to_sql(table_name, conn, if_exists='replace', index=False)\n",
        "        conn.close()\n",
        "        print(f\"CSV file converted to SQL and saved in {db_name} database, table: {table_name}\")\n",
        "    except Exception as e:\n",
        "        print(f\"Error converting CSV to SQL: {e}\")\n",
        "\n",
        "# Main function to let the user choose\n",
        "def main():\n",
        "    choice = input(\"Do you want to convert the CSV file to (1) JSON or (2) SQL Database? Enter 1 or 2: \")\n",
        "\n",
        "    if choice == '1':\n",
        "        convert_csv_to_json(df, file_path)\n",
        "    elif choice == '2':\n",
        "        convert_csv_to_sql(df, file_path)\n",
        "    else:\n",
        "        print(\"Invalid choice! Please enter 1 or 2.\")\n",
        "\n",
        "if __name__ == \"__main__\":\n",
        "    main()\n"
      ],
      "metadata": {
        "id": "fICrAwQ8b7KN"
      },
      "execution_count": null,
      "outputs": []
    }
  ]
}