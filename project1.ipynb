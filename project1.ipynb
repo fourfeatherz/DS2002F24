{
  "nbformat": 4,
  "nbformat_minor": 0,
  "metadata": {
    "colab": {
      "provenance": [],
      "authorship_tag": "ABX9TyO5aNx8m7Zp0cp5h/wizLgV",
      "include_colab_link": true
    },
    "kernelspec": {
      "name": "python3",
      "display_name": "Python 3"
    },
    "language_info": {
      "name": "python"
    }
  },
  "cells": [
    {
      "cell_type": "markdown",
      "metadata": {
        "id": "view-in-github",
        "colab_type": "text"
      },
      "source": [
        "<a href=\"https://colab.research.google.com/github/rixprakash/DS2002F24/blob/main/project1.ipynb\" target=\"_parent\"><img src=\"https://colab.research.google.com/assets/colab-badge.svg\" alt=\"Open In Colab\"/></a>"
      ]
    },
    {
      "cell_type": "code",
      "source": [
        "! git clone https://github.com/rixprakash/DS2002F24"
      ],
      "metadata": {
        "colab": {
          "base_uri": "https://localhost:8080/"
        },
        "id": "_4NfZ3zta_Rn",
        "outputId": "727d30c4-eb4b-4bbe-aa5e-107ecfeaf5df"
      },
      "execution_count": 1,
      "outputs": [
        {
          "output_type": "stream",
          "name": "stdout",
          "text": [
            "Cloning into 'DS2002F24'...\n",
            "remote: Enumerating objects: 359, done.\u001b[K\n",
            "remote: Counting objects: 100% (192/192), done.\u001b[K\n",
            "remote: Compressing objects: 100% (123/123), done.\u001b[K\n",
            "remote: Total 359 (delta 123), reused 101 (delta 64), pack-reused 167 (from 1)\u001b[K\n",
            "Receiving objects: 100% (359/359), 17.59 MiB | 16.23 MiB/s, done.\n",
            "Resolving deltas: 100% (166/166), done.\n"
          ]
        }
      ]
    },
    {
      "cell_type": "code",
      "source": [
        "import pandas as pd\n",
        "import json\n",
        "import sqlite3\n",
        "import os\n",
        "\n",
        "# Load the CSV file\n",
        "file_path = '/content/DS2002F24/dataproject1/Crime_Data.csv'\n",
        "df = pd.read_csv(file_path)\n",
        "dfbefore = df.copy()\n",
        "\n",
        "# Function to add the new file for Exact Date Report\n",
        "def add_exact_date_report_column(df):\n",
        "    try:\n",
        "        # Extract the date part (first 10 characters) from 'DateReported'\n",
        "        df['ExactDateReport'] = df['DateReported'].str[:10]\n",
        "    except Exception as e:\n",
        "        print(f\"Error adding 'ExactDateReport' column: {e}\")\n",
        "    return df\n",
        "\n",
        "# Function to split Officer Name\n",
        "def split_reporting_officer(df):\n",
        "    try:\n",
        "        # Split the 'ReportingOfficer' column by the comma\n",
        "        df[['OfficerLastName', 'OfficerFirstName']] = df['ReportingOfficer'].str.split(', ', expand=True)\n",
        "    except Exception as e:\n",
        "        print(f\"Error splitting 'ReportingOfficer' into 'OfficerFirstName' and 'OfficerLastName': {e}\")\n",
        "    return df\n",
        "\n",
        "# Function to convert CSV file to JSON\n",
        "def convert_csv_to_json(df, file_path):\n",
        "    try:\n",
        "        json_data = df.to_json(orient='records')\n",
        "        json_file_path = file_path.replace('.csv', '.json')\n",
        "        with open(json_file_path, 'w') as json_file:\n",
        "            json_file.write(json_data)\n",
        "        print(f\"CSV file converted to JSON format and saved as {json_file_path}\")\n",
        "    except Exception as e:\n",
        "        print(f\"Error converting CSV to JSON: {e}\")\n",
        "\n",
        "# Function to convert CSV file to SQL\n",
        "def convert_csv_to_sql(df, file_path, db_name='crime_data.db', table_name='crime_records'):\n",
        "    try:\n",
        "        # Connect to SQLite database (or create it if it doesn't exist)\n",
        "        conn = sqlite3.connect(db_name)\n",
        "\n",
        "        # Write the dataframe to the SQL database\n",
        "        df.to_sql(table_name, conn, if_exists='replace', index=False)\n",
        "        conn.close()\n",
        "        print(f\"CSV file converted to SQL and saved in {db_name} database, table: {table_name}\")\n",
        "    except Exception as e:\n",
        "        print(f\"Error converting CSV to SQL: {e}\")\n",
        "\n",
        "# Function to summarize data\n",
        "def summarize_data(df):\n",
        "    print(f\"Number of records: {len(df)}\")\n",
        "    print(f\"Number of columns: {len(df.columns)}\")\n",
        "    print(f\"Columns: {list(df.columns)}\\n\")\n",
        "\n",
        "# Main function to let the user choose\n",
        "def main():\n",
        "    df_modified = add_exact_date_report_column(df)\n",
        "    df_modified = split_reporting_officer(df_modified)\n",
        "    choice = input(\"Do you want to convert the CSV file to JSON or SQL Database? Enter 'JSON' or 'SQL': \")\n",
        "\n",
        "    if choice == 'JSON':\n",
        "        convert_csv_to_json(df, file_path)\n",
        "    elif choice == 'SQL':\n",
        "        convert_csv_to_sql(df, file_path)\n",
        "    else:\n",
        "        print(\"Invalid choice! Please enter 'JSON' or 'SQL'.\")\n",
        "\n",
        "    print(\"Pre-modified Data Summary:\")\n",
        "    summarize_data(dfbefore)\n",
        "    print(\"Post-modified Summary:\")\n",
        "    summarize_data(df_modified)\n",
        "\n",
        "if __name__ == \"__main__\":\n",
        "    main()\n"
      ],
      "metadata": {
        "id": "fICrAwQ8b7KN",
        "colab": {
          "base_uri": "https://localhost:8080/"
        },
        "outputId": "6fd0c909-0ba3-4700-f3f1-88b17ce2efa1"
      },
      "execution_count": 9,
      "outputs": [
        {
          "output_type": "stream",
          "name": "stdout",
          "text": [
            "Do you want to convert the CSV file to JSON or SQL Database? Enter 'JSON' or 'SQL': JSON\n",
            "CSV file converted to JSON format and saved as /content/DS2002F24/dataproject1/Crime_Data.json\n",
            "Pre-modified Data Summary:\n",
            "Number of records: 25111\n",
            "Number of columns: 9\n",
            "Columns: ['RecordID', 'Offense', 'IncidentID', 'BlockNumber', 'StreetName', 'Agency', 'DateReported', 'HourReported', 'ReportingOfficer']\n",
            "\n",
            "Post-modified Summary:\n",
            "Number of records: 25111\n",
            "Number of columns: 12\n",
            "Columns: ['RecordID', 'Offense', 'IncidentID', 'BlockNumber', 'StreetName', 'Agency', 'DateReported', 'HourReported', 'ReportingOfficer', 'ExactDateReport', 'OfficerLastName', 'OfficerFirstName']\n",
            "\n"
          ]
        }
      ]
    },
    {
      "cell_type": "code",
      "source": [
        "import pandas as pd\n",
        "import json\n",
        "import sqlite3\n",
        "import os\n",
        "\n",
        "file_path = '/content/DS2002F24/dataproject1/sportscarprice.json'\n",
        "with open(file_path, 'r') as f:\n",
        "    df = json.load(f)\n",
        "\n",
        "# Function to load JSON file\n",
        "def load_json_file(file_path):\n",
        "    try:\n",
        "        with open(file_path, 'r') as json_file:\n",
        "            json_data = json.load(json_file)\n",
        "        df = pd.DataFrame(json_data)\n",
        "        print(f\"JSON file loaded successfully from {file_path}\")\n",
        "        return df\n",
        "    except Exception as e:\n",
        "        print(f\"Error loading JSON file: {e}\")\n",
        "        return None\n",
        "\n",
        "# Function to convert JSON (DataFrame) to CSV\n",
        "def convert_json_to_csv(df, file_path):\n",
        "    try:\n",
        "        csv_file_path = file_path.replace('.json', '.csv')\n",
        "        df.to_csv(csv_file_path, index=False)\n",
        "        print(f\"JSON file converted to CSV and saved as {csv_file_path}\")\n",
        "    except Exception as e:\n",
        "        print(f\"Error converting JSON to CSV: {e}\")\n",
        "\n",
        "# Function to convert JSON (DataFrame) to SQL\n",
        "def convert_json_to_sql(df, file_path, db_name='json_data.db', table_name='json_records'):\n",
        "    try:\n",
        "        # Connect to SQLite database (or create it if it doesn't exist)\n",
        "        conn = sqlite3.connect(db_name)\n",
        "\n",
        "        # Write the dataframe to the SQL database\n",
        "        df.to_sql(table_name, conn, if_exists='replace', index=False)\n",
        "        conn.close()\n",
        "        print(f\"JSON file converted to SQL and saved in {db_name} database, table: {table_name}\")\n",
        "    except Exception as e:\n",
        "        print(f\"Error converting JSON to SQL: {e}\")\n",
        "\n",
        "# Main function to let the user choose\n",
        "def main():\n",
        "    file_path = input(\"Enter the JSON file path: \")\n",
        "\n",
        "    # Check if file exists\n",
        "    if not os.path.exists(file_path):\n",
        "        print(\"File does not exist!\")\n",
        "        return\n",
        "\n",
        "    # Load JSON file into a DataFrame\n",
        "    df = load_json_file(file_path)\n",
        "\n",
        "    if df is not None:\n",
        "        # Ask user for the conversion choice\n",
        "        choice = input(\"Do you want to convert the JSON file to CSV or SQL Database? Enter 'CSV' or 'SQL': \")\n",
        "\n",
        "        if choice == 'CSV':\n",
        "            convert_json_to_csv(df, file_path)\n",
        "        elif choice == 'SQL':\n",
        "            convert_json_to_sql(df, file_path)\n",
        "        else:\n",
        "            print(\"Invalid choice! Please enter 'CSV' or 'SQL'.\")\n",
        "    else:\n",
        "        print(\"Unable to load the JSON file. Please check the file format.\")\n",
        "\n",
        "if __name__ == \"__main__\":\n",
        "    main()\n"
      ],
      "metadata": {
        "id": "qg3ywKlQpfJf",
        "outputId": "30ad63ee-b891-4061-9d99-da54aa4fa8ae",
        "colab": {
          "base_uri": "https://localhost:8080/"
        }
      },
      "execution_count": 8,
      "outputs": [
        {
          "output_type": "stream",
          "name": "stdout",
          "text": [
            "Enter the JSON file path: /content/DS2002F24/dataproject1/sportscarprice.json\n",
            "JSON file loaded successfully from /content/DS2002F24/dataproject1/sportscarprice.json\n",
            "Do you want to convert the JSON file to CSV or SQL Database? Enter 'CSV' or 'SQL': CSV\n",
            "JSON file converted to CSV and saved as /content/DS2002F24/dataproject1/sportscarprice.csv\n"
          ]
        }
      ]
    }
  ]
}