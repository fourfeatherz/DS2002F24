{
  "nbformat": 4,
  "nbformat_minor": 0,
  "metadata": {
    "colab": {
      "provenance": [],
      "authorship_tag": "ABX9TyN10Wy+UiH+YlViJE155ORM",
      "include_colab_link": true
    },
    "kernelspec": {
      "name": "python3",
      "display_name": "Python 3"
    },
    "language_info": {
      "name": "python"
    }
  },
  "cells": [
    {
      "cell_type": "markdown",
      "metadata": {
        "id": "view-in-github",
        "colab_type": "text"
      },
      "source": [
        "<a href=\"https://colab.research.google.com/github/rixprakash/DS2002F24/blob/main/project1.ipynb\" target=\"_parent\"><img src=\"https://colab.research.google.com/assets/colab-badge.svg\" alt=\"Open In Colab\"/></a>"
      ]
    },
    {
      "cell_type": "markdown",
      "source": [
        "Data collected from https://opendata.charlottesville.org/"
      ],
      "metadata": {
        "id": "Nyyer-tMkDgw"
      }
    },
    {
      "cell_type": "code",
      "source": [
        "! git clone https://github.com/rixprakash/DS2002F24"
      ],
      "metadata": {
        "colab": {
          "base_uri": "https://localhost:8080/"
        },
        "id": "_4NfZ3zta_Rn",
        "outputId": "e0b74841-a705-40f6-c4a6-6fbfb015e88e"
      },
      "execution_count": 1,
      "outputs": [
        {
          "output_type": "stream",
          "name": "stdout",
          "text": [
            "Cloning into 'DS2002F24'...\n",
            "remote: Enumerating objects: 372, done.\u001b[K\n",
            "remote: Counting objects: 100% (143/143), done.\u001b[K\n",
            "remote: Compressing objects: 100% (67/67), done.\u001b[K\n",
            "remote: Total 372 (delta 128), reused 76 (delta 76), pack-reused 229 (from 1)\u001b[K\n",
            "Receiving objects: 100% (372/372), 17.61 MiB | 11.68 MiB/s, done.\n",
            "Resolving deltas: 100% (177/177), done.\n"
          ]
        }
      ]
    },
    {
      "cell_type": "code",
      "source": [
        "import pandas as pd\n",
        "import json\n",
        "import sqlite3\n",
        "import os\n",
        "\n",
        "# Load the CSV file\n",
        "file_path = '/content/DS2002F24/dataproject1/Crime_Data.csv'\n",
        "df = pd.read_csv(file_path)\n",
        "dfbefore = df.copy() # Copies the original file\n",
        "\n",
        "# Function to add the new file for Exact Date Report\n",
        "def add_exact_date_report_column(df):\n",
        "    try:\n",
        "        # Extract the date part (first 10 characters) from 'DateReported'\n",
        "        df['ExactDateReport'] = df['DateReported'].str[:10]\n",
        "    except Exception as e:\n",
        "        print(f\"Error adding 'ExactDateReport' column: {e}\")\n",
        "    return df\n",
        "\n",
        "# Function to split Officer Name\n",
        "def split_reporting_officer(df):\n",
        "    try:\n",
        "        # Split the 'ReportingOfficer' column by the comma\n",
        "        df[['OfficerLastName', 'OfficerFirstName']] = df['ReportingOfficer'].str.split(', ', expand=True)\n",
        "    except Exception as e:\n",
        "        print(f\"Error splitting 'ReportingOfficer' into 'OfficerFirstName' and 'OfficerLastName': {e}\") # If an error occurs\n",
        "    return df\n",
        "\n",
        "# Function to convert CSV file to JSON\n",
        "def convert_csv_to_json(df, file_path):\n",
        "    try:\n",
        "        json_data = df.to_json(orient='records')\n",
        "        json_file_path = file_path.replace('.csv', '.json') # Changing to json\n",
        "        with open(json_file_path, 'w') as json_file:\n",
        "            json_file.write(json_data)\n",
        "        print(f\"CSV file converted to JSON and saved as {json_file_path}\")\n",
        "    except Exception as e:\n",
        "        print(f\"Error converting CSV to JSON: {e}\")\n",
        "\n",
        "# Function to convert CSV file to SQL\n",
        "def convert_csv_to_sql(df, file_path, db_name='crime_data.db', table_name='crime_records'):\n",
        "    try:\n",
        "        # Connect to SQLite database (or create it if it doesn't exist)\n",
        "        conn = sqlite3.connect(db_name)\n",
        "\n",
        "        # Write the dataframe to the SQL database\n",
        "        df.to_sql(table_name, conn, if_exists='replace', index=False) # Stores as a SQL database\n",
        "        conn.close()\n",
        "        print(f\"CSV file converted to SQL and saved in {db_name} database, table: {table_name}\")\n",
        "    except Exception as e:\n",
        "        print(f\"Error converting CSV to SQL: {e}\")\n",
        "\n",
        "# Function to summarize data\n",
        "def summarize_data(df):\n",
        "    print(f\"Number of records: {len(df)}\")\n",
        "    print(f\"Number of columns: {len(df.columns)}\")\n",
        "    print(f\"Columns: {list(df.columns)}\\n\")\n",
        "\n",
        "# Main function to let the user choose\n",
        "def main():\n",
        "    df_modified = add_exact_date_report_column(df)\n",
        "    df_modified = split_reporting_officer(df_modified)\n",
        "    choice = input(\"Do you want to convert the CSV file to JSON or SQL Database? Enter 'JSON' or 'SQL': \")\n",
        "\n",
        "    if choice == 'JSON':\n",
        "        convert_csv_to_json(df, file_path)\n",
        "    elif choice == 'SQL':\n",
        "        convert_csv_to_sql(df, file_path)\n",
        "    else:\n",
        "        print(\"Invalid choice! Please enter 'JSON' or 'SQL'.\") # Prompting user to put only these two options\n",
        "\n",
        "    print(\"Pre-modified Data Summary:\")\n",
        "    summarize_data(dfbefore)\n",
        "    print(\"Post-modified Summary:\")\n",
        "    summarize_data(df_modified)\n",
        "\n",
        "\n",
        "if __name__ == \"__main__\":\n",
        "    main()\n"
      ],
      "metadata": {
        "id": "fICrAwQ8b7KN",
        "colab": {
          "base_uri": "https://localhost:8080/"
        },
        "outputId": "135ffa78-1629-40e8-8a64-c91a296ef8d8"
      },
      "execution_count": 2,
      "outputs": [
        {
          "output_type": "stream",
          "name": "stdout",
          "text": [
            "Do you want to convert the CSV file to JSON or SQL Database? Enter 'JSON' or 'SQL': JSON\n",
            "CSV file converted to JSON and saved as /content/DS2002F24/dataproject1/Crime_Data.json\n",
            "Pre-modified Data Summary:\n",
            "Number of records: 25111\n",
            "Number of columns: 9\n",
            "Columns: ['RecordID', 'Offense', 'IncidentID', 'BlockNumber', 'StreetName', 'Agency', 'DateReported', 'HourReported', 'ReportingOfficer']\n",
            "\n",
            "Post-modified Summary:\n",
            "Number of records: 25111\n",
            "Number of columns: 12\n",
            "Columns: ['RecordID', 'Offense', 'IncidentID', 'BlockNumber', 'StreetName', 'Agency', 'DateReported', 'HourReported', 'ReportingOfficer', 'ExactDateReport', 'OfficerLastName', 'OfficerFirstName']\n",
            "\n"
          ]
        }
      ]
    },
    {
      "cell_type": "code",
      "source": [
        "import pandas as pd\n",
        "import json\n",
        "import sqlite3\n",
        "import os\n",
        "\n",
        "# Set file path (hardcoded)\n",
        "file_path = '/content/DS2002F24/dataproject1/sportscarprice.json'\n",
        "\n",
        "# Function to delete 'Engine Size (L)' column from a JSON file\n",
        "def delete_engine_size_column_json(file_path):\n",
        "    try:\n",
        "        # Load the JSON file into a DataFrame\n",
        "        with open(file_path, 'r') as json_file:\n",
        "            json_data = json.load(json_file)\n",
        "        df = pd.DataFrame(json_data) # Convert JSON data to a DataFrame for easier manipulation\n",
        "\n",
        "\n",
        "        # Summary before processing (Ingestion Summary)\n",
        "        print(\"Ingestion Summary:\")\n",
        "        print(f\"Number of records: {len(df)}\")\n",
        "        print(f\"Number of columns: {len(df.columns)}\")\n",
        "\n",
        "        # Drop the Engine Size (L) column\n",
        "        df = df.drop(columns=['Engine Size (L)'])\n",
        "\n",
        "        # Save the updated DataFrame back to JSON\n",
        "        new_file_path = file_path.replace('.json', '_updated.json')\n",
        "        df.to_json(new_file_path, orient='records', indent=4)\n",
        "\n",
        "        # Summary after processing (Post-Processing Summary)\n",
        "        print(\"\\nPost-Processing Summary:\")\n",
        "        print(f\"Number of records: {len(df)}\")\n",
        "        print(f\"Number of columns: {len(df.columns)}\")\n",
        "\n",
        "        return df  # Return the modified DataFrame (optional)\n",
        "\n",
        "    except Exception as e:\n",
        "        print(f\"Error processing JSON file: {e}\")\n",
        "        return None\n",
        "\n",
        "# Function to convert DataFrame to CSV\n",
        "def convert_json_to_csv(df, file_path):\n",
        "    try:\n",
        "        csv_file_path = file_path.replace('.json', '.csv') # Replace the file extension to create CSV file path\n",
        "        df.to_csv(csv_file_path, index=False)\n",
        "        print(f\"JSON file converted to CSV and saved as {csv_file_path}\")\n",
        "    except Exception as e:\n",
        "        print(f\"Error converting JSON to CSV: {e}\")\n",
        "\n",
        "# Function to convert DataFrame to SQL\n",
        "def convert_json_to_sql(df, file_path, db_name='json_data.db', table_name='json_records'):\n",
        "    try:\n",
        "        # Connecting to the SQLite database\n",
        "        conn = sqlite3.connect(db_name)\n",
        "\n",
        "        # Write the dataframe to the SQL database\n",
        "        df.to_sql(table_name, conn, if_exists='replace', index=False) # Write DataFrame to SQL table, replace if exists\n",
        "        conn.close()\n",
        "        print(f\"JSON file converted to SQL and saved in {db_name} database, table: {table_name}\")\n",
        "    except Exception as e:\n",
        "        print(f\"Error converting JSON to SQL: {e}\")\n",
        "\n",
        "# Main function to allow user to choose conversion type\n",
        "def main():\n",
        "    # Delete Engine Size (L) column\n",
        "    df_modified = delete_engine_size_column_json(file_path)\n",
        "\n",
        "    if df_modified is not None:\n",
        "        choice = input(\"Do you want to convert the modified JSON file to CSV or SQL Database? Enter 'CSV' or 'SQL': \") # Prompting user choice\n",
        "\n",
        "        if choice.upper() == 'CSV':\n",
        "            convert_json_to_csv(df_modified, file_path)\n",
        "        elif choice.upper() == 'SQL':\n",
        "            convert_json_to_sql(df_modified, file_path)\n",
        "        else:\n",
        "            print(\"Invalid choice! Please enter 'CSV' or 'SQL'.\")\n",
        "    else:\n",
        "        print(\"Unable to load the JSON file. Please check the file format.\") # If it can not open\n",
        "\n",
        "if __name__ == \"__main__\":\n",
        "    main()\n"
      ],
      "metadata": {
        "colab": {
          "base_uri": "https://localhost:8080/"
        },
        "id": "uSBcwUGbXDBR",
        "outputId": "a9533dac-404f-40a6-ce09-ec32f107ec79"
      },
      "execution_count": 3,
      "outputs": [
        {
          "output_type": "stream",
          "name": "stdout",
          "text": [
            "Ingestion Summary:\n",
            "Number of records: 1007\n",
            "Number of columns: 8\n",
            "\n",
            "Post-Processing Summary:\n",
            "Number of records: 1007\n",
            "Number of columns: 7\n",
            "Do you want to convert the modified JSON file to CSV or SQL Database? Enter 'CSV' or 'SQL': CSV\n",
            "JSON file converted to CSV and saved as /content/DS2002F24/dataproject1/sportscarprice.csv\n"
          ]
        }
      ]
    }
  ]
}