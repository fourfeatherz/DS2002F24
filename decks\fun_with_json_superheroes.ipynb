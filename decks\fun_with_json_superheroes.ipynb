{
  "cells": [
    {
      "cell_type": "markdown",
      "metadata": {
        "id": "view-in-github",
        "colab_type": "text"
      },
      "source": [
        "<a href=\"https://colab.research.google.com/github/fourfeatherz/DS2002F24/blob/main/decks%5Cfun_with_json_superheroes.ipynb\" target=\"_parent\"><img src=\"https://colab.research.google.com/assets/colab-badge.svg\" alt=\"Open In Colab\"/></a>"
      ]
    },
    {
      "cell_type": "markdown",
      "id": "fd1bf387",
      "metadata": {
        "id": "fd1bf387"
      },
      "source": [
        "# Fun with JSON: Superheroes and Villains\n",
        "\n",
        "Today, we will learn about JSON (JavaScript Object Notation) by working with examples from the exciting world of superheroes and villains!"
      ]
    },
    {
      "cell_type": "markdown",
      "id": "d6e152e4",
      "metadata": {
        "id": "d6e152e4"
      },
      "source": [
        "### What is JSON?\n",
        "\n",
        "JSON is a lightweight data-interchange format that is easy for humans to read and write, and easy for machines to parse and generate. It is often used to send data between web servers and clients.\n",
        "\n",
        "Let's start with a simple example of a superhero in JSON format:"
      ]
    },
    {
      "cell_type": "code",
      "execution_count": 1,
      "id": "b2f61af7",
      "metadata": {
        "colab": {
          "base_uri": "https://localhost:8080/"
        },
        "id": "b2f61af7",
        "outputId": "49341fba-ff97-4166-a95c-c918a4f6d5a0"
      },
      "outputs": [
        {
          "output_type": "execute_result",
          "data": {
            "text/plain": [
              "{'name': 'Iron Man',\n",
              " 'real_name': 'Tony Stark',\n",
              " 'powers': ['Genius intellect', 'Powered armor suit'],\n",
              " 'team': 'Avengers'}"
            ]
          },
          "metadata": {},
          "execution_count": 1
        }
      ],
      "source": [
        "{\n",
        "  \"name\": \"Iron Man\",\n",
        "  \"real_name\": \"Tony Stark\",\n",
        "  \"powers\": [\"Genius intellect\", \"Powered armor suit\"],\n",
        "  \"team\": \"Avengers\"\n",
        "}"
      ]
    },
    {
      "cell_type": "markdown",
      "id": "8fc87b5f",
      "metadata": {
        "id": "8fc87b5f"
      },
      "source": [
        "### JSON Structure\n",
        "\n",
        "JSON consists of key-value pairs, objects, arrays, and nested structures. Let's look at an example where we have a team of superheroes."
      ]
    },
    {
      "cell_type": "code",
      "execution_count": 2,
      "id": "9fcfe0c3",
      "metadata": {
        "colab": {
          "base_uri": "https://localhost:8080/"
        },
        "id": "9fcfe0c3",
        "outputId": "062736e3-4b70-445e-9005-684198489d29"
      },
      "outputs": [
        {
          "output_type": "execute_result",
          "data": {
            "text/plain": [
              "{'team_name': 'Avengers',\n",
              " 'members': [{'name': 'Iron Man',\n",
              "   'powers': ['Genius intellect', 'Powered armor suit']},\n",
              "  {'name': 'Thor', 'powers': ['God of Thunder', 'Superhuman strength']}]}"
            ]
          },
          "metadata": {},
          "execution_count": 2
        }
      ],
      "source": [
        "{\n",
        "  \"team_name\": \"Avengers\",\n",
        "  \"members\": [\n",
        "    {\n",
        "      \"name\": \"Iron Man\",\n",
        "      \"powers\": [\"Genius intellect\", \"Powered armor suit\"]\n",
        "    },\n",
        "    {\n",
        "      \"name\": \"Thor\",\n",
        "      \"powers\": [\"God of Thunder\", \"Superhuman strength\"]\n",
        "    }\n",
        "  ]\n",
        "}"
      ]
    },
    {
      "cell_type": "markdown",
      "id": "3f2c9c2b",
      "metadata": {
        "id": "3f2c9c2b"
      },
      "source": [
        "### Working with JSON in Python\n",
        "\n",
        "We can easily work with JSON data in Python using the `json` module. Here's an example of loading a JSON string into a Python dictionary and accessing its values."
      ]
    },
    {
      "cell_type": "code",
      "execution_count": 3,
      "id": "6f42264b",
      "metadata": {
        "colab": {
          "base_uri": "https://localhost:8080/"
        },
        "id": "6f42264b",
        "outputId": "f2593ab5-61ea-43f2-e7ec-aeb8d9acd4cb"
      },
      "outputs": [
        {
          "output_type": "stream",
          "name": "stdout",
          "text": [
            "Iron Man\n",
            "['Genius intellect', 'Powered armor suit']\n"
          ]
        }
      ],
      "source": [
        "import json\n",
        "\n",
        "# JSON string\n",
        "json_data = '''\n",
        "{\n",
        "  \"name\": \"Iron Man\",\n",
        "  \"real_name\": \"Tony Stark\",\n",
        "  \"powers\": [\"Genius intellect\", \"Powered armor suit\"]\n",
        "}\n",
        "'''\n",
        "\n",
        "# Parse JSON into a Python dictionary\n",
        "hero = json.loads(json_data)\n",
        "print(hero[\"name\"])\n",
        "print(hero[\"powers\"])"
      ]
    },
    {
      "cell_type": "markdown",
      "id": "331ba719",
      "metadata": {
        "id": "331ba719"
      },
      "source": [
        "### Nested JSON: Superhero Battle\n",
        "\n",
        "Let's look at a more complex example of a JSON object representing a battle between superheroes and villains."
      ]
    },
    {
      "cell_type": "code",
      "execution_count": 4,
      "id": "dbb606f4",
      "metadata": {
        "colab": {
          "base_uri": "https://localhost:8080/"
        },
        "id": "dbb606f4",
        "outputId": "068b63b0-283e-494b-b5fa-32cf047ea069"
      },
      "outputs": [
        {
          "output_type": "stream",
          "name": "stdout",
          "text": [
            "Hero: Iron Man, Powers: ['Genius intellect', 'Powered armor suit']\n",
            "Hero: Captain America, Powers: ['Superhuman strength', 'Expert tactician']\n",
            "Villain: Loki, Powers: ['Sorcery', 'Shapeshifting']\n"
          ]
        }
      ],
      "source": [
        "battle_data = '''\n",
        "{\n",
        "  \"battle\": {\n",
        "    \"heroes\": [\n",
        "      {\"name\": \"Iron Man\", \"powers\": [\"Genius intellect\", \"Powered armor suit\"]},\n",
        "      {\"name\": \"Captain America\", \"powers\": [\"Superhuman strength\", \"Expert tactician\"]}\n",
        "    ],\n",
        "    \"villains\": [\n",
        "      {\"name\": \"Loki\", \"powers\": [\"Sorcery\", \"Shapeshifting\"]}\n",
        "    ]\n",
        "  }\n",
        "}\n",
        "'''\n",
        "\n",
        "# Load JSON and access nested fields\n",
        "battle = json.loads(battle_data)\n",
        "for hero in battle[\"battle\"][\"heroes\"]:\n",
        "    print(f'Hero: {hero[\"name\"]}, Powers: {hero[\"powers\"]}')\n",
        "\n",
        "for villain in battle[\"battle\"][\"villains\"]:\n",
        "    print(f'Villain: {villain[\"name\"]}, Powers: {villain[\"powers\"]}')"
      ]
    },
    {
      "cell_type": "markdown",
      "id": "99f595b8",
      "metadata": {
        "id": "99f595b8"
      },
      "source": [
        "### JSON Serialization and Deserialization\n",
        "\n",
        "We can also convert Python objects to JSON strings and back. This is called **serialization** (Python to JSON) and **deserialization** (JSON to Python)."
      ]
    },
    {
      "cell_type": "code",
      "execution_count": 5,
      "id": "e8434215",
      "metadata": {
        "colab": {
          "base_uri": "https://localhost:8080/"
        },
        "id": "e8434215",
        "outputId": "593a3adf-1e76-4817-f72c-ecb0e41937ac"
      },
      "outputs": [
        {
          "output_type": "stream",
          "name": "stdout",
          "text": [
            "{\n",
            "    \"name\": \"Black Panther\",\n",
            "    \"powers\": [\n",
            "        \"Superhuman agility\",\n",
            "        \"Enhanced senses\"\n",
            "    ]\n",
            "}\n",
            "Black Panther\n"
          ]
        }
      ],
      "source": [
        "# Create a Python dictionary for a new hero\n",
        "new_hero = {\n",
        "    \"name\": \"Black Panther\",\n",
        "    \"powers\": [\"Superhuman agility\", \"Enhanced senses\"]\n",
        "}\n",
        "\n",
        "# Serialize to JSON\n",
        "new_hero_json = json.dumps(new_hero, indent=4)\n",
        "print(new_hero_json)\n",
        "\n",
        "# Deserialize back to Python object\n",
        "new_hero_obj = json.loads(new_hero_json)\n",
        "print(new_hero_obj[\"name\"])"
      ]
    },
    {
      "cell_type": "markdown",
      "id": "f71306cf",
      "metadata": {
        "id": "f71306cf"
      },
      "source": [
        "### Fun Activity: Create Your Own Superhero!\n",
        "\n",
        "Create a JSON object for your own superhero or villain. Once you've created it, use Python to validate that your JSON has the required fields: `name` and `powers`."
      ]
    },
    {
      "cell_type": "code",
      "execution_count": 6,
      "id": "05e71c9b",
      "metadata": {
        "colab": {
          "base_uri": "https://localhost:8080/"
        },
        "id": "05e71c9b",
        "outputId": "3d7bcdb7-6f73-497f-e2f5-e3a59f81cd70"
      },
      "outputs": [
        {
          "output_type": "stream",
          "name": "stdout",
          "text": [
            "Hero Flash is valid!\n"
          ]
        }
      ],
      "source": [
        "def validate_hero(hero_json):\n",
        "    try:\n",
        "        hero = json.loads(hero_json)\n",
        "        if \"name\" in hero and \"powers\" in hero:\n",
        "            print(f'Hero {hero[\"name\"]} is valid!')\n",
        "        else:\n",
        "            print(\"Invalid hero structure.\")\n",
        "    except json.JSONDecodeError:\n",
        "        print(\"Invalid JSON format.\")\n",
        "\n",
        "# Example hero to validate\n",
        "student_hero = '''\n",
        "{\n",
        "  \"name\": \"Flash\",\n",
        "  \"real_name\": \"Barry Allen\",\n",
        "  \"powers\": [\"Superhuman speed\", \"Time travel\"]\n",
        "}\n",
        "'''\n",
        "\n",
        "validate_hero(student_hero)"
      ]
    },
    {
      "cell_type": "markdown",
      "source": [
        "Let's take some JSON and put it in a Data Frame"
      ],
      "metadata": {
        "id": "ai2MiP_sqIZu"
      },
      "id": "ai2MiP_sqIZu"
    },
    {
      "cell_type": "code",
      "source": [
        "{\n",
        "  \"weather_data\": [\n",
        "    {\n",
        "      \"city\": \"Asgard\",\n",
        "      \"temperature\": 72,\n",
        "      \"high\": 80,\n",
        "      \"low\": 65,\n",
        "      \"pressure\": 1015\n",
        "    },\n",
        "    {\n",
        "      \"city\": \"Knowhere\",\n",
        "      \"temperature\": 30,\n",
        "      \"high\": 40,\n",
        "      \"low\": 20,\n",
        "      \"pressure\": 980\n",
        "    },\n",
        "    {\n",
        "      \"city\": \"Xandar\",\n",
        "      \"temperature\": 85,\n",
        "      \"high\": 90,\n",
        "      \"low\": 78,\n",
        "      \"pressure\": 1020\n",
        "    }\n",
        "  ]\n",
        "}\n"
      ],
      "metadata": {
        "colab": {
          "base_uri": "https://localhost:8080/"
        },
        "id": "JEDxXQ3CqLiP",
        "outputId": "3883fd6d-b5ce-4ac0-af08-0c636796ace0"
      },
      "id": "JEDxXQ3CqLiP",
      "execution_count": 7,
      "outputs": [
        {
          "output_type": "execute_result",
          "data": {
            "text/plain": [
              "{'weather_data': [{'city': 'Asgard',\n",
              "   'temperature': 72,\n",
              "   'high': 80,\n",
              "   'low': 65,\n",
              "   'pressure': 1015},\n",
              "  {'city': 'Knowhere',\n",
              "   'temperature': 30,\n",
              "   'high': 40,\n",
              "   'low': 20,\n",
              "   'pressure': 980},\n",
              "  {'city': 'Xandar',\n",
              "   'temperature': 85,\n",
              "   'high': 90,\n",
              "   'low': 78,\n",
              "   'pressure': 1020}]}"
            ]
          },
          "metadata": {},
          "execution_count": 7
        }
      ]
    },
    {
      "cell_type": "markdown",
      "source": [
        "Now, we will load this JSON into a Python dictionary and convert it into a Pandas DataFrame for better visualization"
      ],
      "metadata": {
        "id": "yE9S86RFqO7v"
      },
      "id": "yE9S86RFqO7v"
    },
    {
      "cell_type": "code",
      "source": [
        "import json\n",
        "import pandas as pd\n",
        "\n",
        "# JSON weather data for 3 fictional Marvel Universe cities\n",
        "weather_json = '''\n",
        "{\n",
        "  \"weather_data\": [\n",
        "    {\n",
        "      \"city\": \"Asgard\",\n",
        "      \"temperature\": 72,\n",
        "      \"high\": 80,\n",
        "      \"low\": 65,\n",
        "      \"pressure\": 1015\n",
        "    },\n",
        "    {\n",
        "      \"city\": \"Knowhere\",\n",
        "      \"temperature\": 30,\n",
        "      \"high\": 40,\n",
        "      \"low\": 20,\n",
        "      \"pressure\": 980\n",
        "    },\n",
        "    {\n",
        "      \"city\": \"Xandar\",\n",
        "      \"temperature\": 85,\n",
        "      \"high\": 90,\n",
        "      \"low\": 78,\n",
        "      \"pressure\": 1020\n",
        "    }\n",
        "  ]\n",
        "}\n",
        "'''\n",
        "\n",
        "# Parse JSON\n",
        "weather_data = json.loads(weather_json)\n",
        "\n",
        "# Convert JSON data to a DataFrame\n",
        "weather_df = pd.DataFrame(weather_data['weather_data'])\n",
        "\n",
        "weather_df\n",
        "# Display the DataFrame to the user\n",
        "#import ace_tools as tools; tools.display_dataframe_to_user(name=\"Marvel Universe Weather Data\", dataframe=weather_df)\n"
      ],
      "metadata": {
        "colab": {
          "base_uri": "https://localhost:8080/",
          "height": 143
        },
        "id": "MHrKdYPkqRTv",
        "outputId": "78c1672b-de87-44ed-c3eb-83fa81377273"
      },
      "id": "MHrKdYPkqRTv",
      "execution_count": 9,
      "outputs": [
        {
          "output_type": "execute_result",
          "data": {
            "text/plain": [
              "       city  temperature  high  low  pressure\n",
              "0    Asgard           72    80   65      1015\n",
              "1  Knowhere           30    40   20       980\n",
              "2    Xandar           85    90   78      1020"
            ],
            "text/html": [
              "\n",
              "  <div id=\"df-7cdc20d7-4702-40eb-9a0d-1fe3eda91b45\" class=\"colab-df-container\">\n",
              "    <div>\n",
              "<style scoped>\n",
              "    .dataframe tbody tr th:only-of-type {\n",
              "        vertical-align: middle;\n",
              "    }\n",
              "\n",
              "    .dataframe tbody tr th {\n",
              "        vertical-align: top;\n",
              "    }\n",
              "\n",
              "    .dataframe thead th {\n",
              "        text-align: right;\n",
              "    }\n",
              "</style>\n",
              "<table border=\"1\" class=\"dataframe\">\n",
              "  <thead>\n",
              "    <tr style=\"text-align: right;\">\n",
              "      <th></th>\n",
              "      <th>city</th>\n",
              "      <th>temperature</th>\n",
              "      <th>high</th>\n",
              "      <th>low</th>\n",
              "      <th>pressure</th>\n",
              "    </tr>\n",
              "  </thead>\n",
              "  <tbody>\n",
              "    <tr>\n",
              "      <th>0</th>\n",
              "      <td>Asgard</td>\n",
              "      <td>72</td>\n",
              "      <td>80</td>\n",
              "      <td>65</td>\n",
              "      <td>1015</td>\n",
              "    </tr>\n",
              "    <tr>\n",
              "      <th>1</th>\n",
              "      <td>Knowhere</td>\n",
              "      <td>30</td>\n",
              "      <td>40</td>\n",
              "      <td>20</td>\n",
              "      <td>980</td>\n",
              "    </tr>\n",
              "    <tr>\n",
              "      <th>2</th>\n",
              "      <td>Xandar</td>\n",
              "      <td>85</td>\n",
              "      <td>90</td>\n",
              "      <td>78</td>\n",
              "      <td>1020</td>\n",
              "    </tr>\n",
              "  </tbody>\n",
              "</table>\n",
              "</div>\n",
              "    <div class=\"colab-df-buttons\">\n",
              "\n",
              "  <div class=\"colab-df-container\">\n",
              "    <button class=\"colab-df-convert\" onclick=\"convertToInteractive('df-7cdc20d7-4702-40eb-9a0d-1fe3eda91b45')\"\n",
              "            title=\"Convert this dataframe to an interactive table.\"\n",
              "            style=\"display:none;\">\n",
              "\n",
              "  <svg xmlns=\"http://www.w3.org/2000/svg\" height=\"24px\" viewBox=\"0 -960 960 960\">\n",
              "    <path d=\"M120-120v-720h720v720H120Zm60-500h600v-160H180v160Zm220 220h160v-160H400v160Zm0 220h160v-160H400v160ZM180-400h160v-160H180v160Zm440 0h160v-160H620v160ZM180-180h160v-160H180v160Zm440 0h160v-160H620v160Z\"/>\n",
              "  </svg>\n",
              "    </button>\n",
              "\n",
              "  <style>\n",
              "    .colab-df-container {\n",
              "      display:flex;\n",
              "      gap: 12px;\n",
              "    }\n",
              "\n",
              "    .colab-df-convert {\n",
              "      background-color: #E8F0FE;\n",
              "      border: none;\n",
              "      border-radius: 50%;\n",
              "      cursor: pointer;\n",
              "      display: none;\n",
              "      fill: #1967D2;\n",
              "      height: 32px;\n",
              "      padding: 0 0 0 0;\n",
              "      width: 32px;\n",
              "    }\n",
              "\n",
              "    .colab-df-convert:hover {\n",
              "      background-color: #E2EBFA;\n",
              "      box-shadow: 0px 1px 2px rgba(60, 64, 67, 0.3), 0px 1px 3px 1px rgba(60, 64, 67, 0.15);\n",
              "      fill: #174EA6;\n",
              "    }\n",
              "\n",
              "    .colab-df-buttons div {\n",
              "      margin-bottom: 4px;\n",
              "    }\n",
              "\n",
              "    [theme=dark] .colab-df-convert {\n",
              "      background-color: #3B4455;\n",
              "      fill: #D2E3FC;\n",
              "    }\n",
              "\n",
              "    [theme=dark] .colab-df-convert:hover {\n",
              "      background-color: #434B5C;\n",
              "      box-shadow: 0px 1px 3px 1px rgba(0, 0, 0, 0.15);\n",
              "      filter: drop-shadow(0px 1px 2px rgba(0, 0, 0, 0.3));\n",
              "      fill: #FFFFFF;\n",
              "    }\n",
              "  </style>\n",
              "\n",
              "    <script>\n",
              "      const buttonEl =\n",
              "        document.querySelector('#df-7cdc20d7-4702-40eb-9a0d-1fe3eda91b45 button.colab-df-convert');\n",
              "      buttonEl.style.display =\n",
              "        google.colab.kernel.accessAllowed ? 'block' : 'none';\n",
              "\n",
              "      async function convertToInteractive(key) {\n",
              "        const element = document.querySelector('#df-7cdc20d7-4702-40eb-9a0d-1fe3eda91b45');\n",
              "        const dataTable =\n",
              "          await google.colab.kernel.invokeFunction('convertToInteractive',\n",
              "                                                    [key], {});\n",
              "        if (!dataTable) return;\n",
              "\n",
              "        const docLinkHtml = 'Like what you see? Visit the ' +\n",
              "          '<a target=\"_blank\" href=https://colab.research.google.com/notebooks/data_table.ipynb>data table notebook</a>'\n",
              "          + ' to learn more about interactive tables.';\n",
              "        element.innerHTML = '';\n",
              "        dataTable['output_type'] = 'display_data';\n",
              "        await google.colab.output.renderOutput(dataTable, element);\n",
              "        const docLink = document.createElement('div');\n",
              "        docLink.innerHTML = docLinkHtml;\n",
              "        element.appendChild(docLink);\n",
              "      }\n",
              "    </script>\n",
              "  </div>\n",
              "\n",
              "\n",
              "<div id=\"df-893d3671-94f4-4b61-b3c2-fc7f827da802\">\n",
              "  <button class=\"colab-df-quickchart\" onclick=\"quickchart('df-893d3671-94f4-4b61-b3c2-fc7f827da802')\"\n",
              "            title=\"Suggest charts\"\n",
              "            style=\"display:none;\">\n",
              "\n",
              "<svg xmlns=\"http://www.w3.org/2000/svg\" height=\"24px\"viewBox=\"0 0 24 24\"\n",
              "     width=\"24px\">\n",
              "    <g>\n",
              "        <path d=\"M19 3H5c-1.1 0-2 .9-2 2v14c0 1.1.9 2 2 2h14c1.1 0 2-.9 2-2V5c0-1.1-.9-2-2-2zM9 17H7v-7h2v7zm4 0h-2V7h2v10zm4 0h-2v-4h2v4z\"/>\n",
              "    </g>\n",
              "</svg>\n",
              "  </button>\n",
              "\n",
              "<style>\n",
              "  .colab-df-quickchart {\n",
              "      --bg-color: #E8F0FE;\n",
              "      --fill-color: #1967D2;\n",
              "      --hover-bg-color: #E2EBFA;\n",
              "      --hover-fill-color: #174EA6;\n",
              "      --disabled-fill-color: #AAA;\n",
              "      --disabled-bg-color: #DDD;\n",
              "  }\n",
              "\n",
              "  [theme=dark] .colab-df-quickchart {\n",
              "      --bg-color: #3B4455;\n",
              "      --fill-color: #D2E3FC;\n",
              "      --hover-bg-color: #434B5C;\n",
              "      --hover-fill-color: #FFFFFF;\n",
              "      --disabled-bg-color: #3B4455;\n",
              "      --disabled-fill-color: #666;\n",
              "  }\n",
              "\n",
              "  .colab-df-quickchart {\n",
              "    background-color: var(--bg-color);\n",
              "    border: none;\n",
              "    border-radius: 50%;\n",
              "    cursor: pointer;\n",
              "    display: none;\n",
              "    fill: var(--fill-color);\n",
              "    height: 32px;\n",
              "    padding: 0;\n",
              "    width: 32px;\n",
              "  }\n",
              "\n",
              "  .colab-df-quickchart:hover {\n",
              "    background-color: var(--hover-bg-color);\n",
              "    box-shadow: 0 1px 2px rgba(60, 64, 67, 0.3), 0 1px 3px 1px rgba(60, 64, 67, 0.15);\n",
              "    fill: var(--button-hover-fill-color);\n",
              "  }\n",
              "\n",
              "  .colab-df-quickchart-complete:disabled,\n",
              "  .colab-df-quickchart-complete:disabled:hover {\n",
              "    background-color: var(--disabled-bg-color);\n",
              "    fill: var(--disabled-fill-color);\n",
              "    box-shadow: none;\n",
              "  }\n",
              "\n",
              "  .colab-df-spinner {\n",
              "    border: 2px solid var(--fill-color);\n",
              "    border-color: transparent;\n",
              "    border-bottom-color: var(--fill-color);\n",
              "    animation:\n",
              "      spin 1s steps(1) infinite;\n",
              "  }\n",
              "\n",
              "  @keyframes spin {\n",
              "    0% {\n",
              "      border-color: transparent;\n",
              "      border-bottom-color: var(--fill-color);\n",
              "      border-left-color: var(--fill-color);\n",
              "    }\n",
              "    20% {\n",
              "      border-color: transparent;\n",
              "      border-left-color: var(--fill-color);\n",
              "      border-top-color: var(--fill-color);\n",
              "    }\n",
              "    30% {\n",
              "      border-color: transparent;\n",
              "      border-left-color: var(--fill-color);\n",
              "      border-top-color: var(--fill-color);\n",
              "      border-right-color: var(--fill-color);\n",
              "    }\n",
              "    40% {\n",
              "      border-color: transparent;\n",
              "      border-right-color: var(--fill-color);\n",
              "      border-top-color: var(--fill-color);\n",
              "    }\n",
              "    60% {\n",
              "      border-color: transparent;\n",
              "      border-right-color: var(--fill-color);\n",
              "    }\n",
              "    80% {\n",
              "      border-color: transparent;\n",
              "      border-right-color: var(--fill-color);\n",
              "      border-bottom-color: var(--fill-color);\n",
              "    }\n",
              "    90% {\n",
              "      border-color: transparent;\n",
              "      border-bottom-color: var(--fill-color);\n",
              "    }\n",
              "  }\n",
              "</style>\n",
              "\n",
              "  <script>\n",
              "    async function quickchart(key) {\n",
              "      const quickchartButtonEl =\n",
              "        document.querySelector('#' + key + ' button');\n",
              "      quickchartButtonEl.disabled = true;  // To prevent multiple clicks.\n",
              "      quickchartButtonEl.classList.add('colab-df-spinner');\n",
              "      try {\n",
              "        const charts = await google.colab.kernel.invokeFunction(\n",
              "            'suggestCharts', [key], {});\n",
              "      } catch (error) {\n",
              "        console.error('Error during call to suggestCharts:', error);\n",
              "      }\n",
              "      quickchartButtonEl.classList.remove('colab-df-spinner');\n",
              "      quickchartButtonEl.classList.add('colab-df-quickchart-complete');\n",
              "    }\n",
              "    (() => {\n",
              "      let quickchartButtonEl =\n",
              "        document.querySelector('#df-893d3671-94f4-4b61-b3c2-fc7f827da802 button');\n",
              "      quickchartButtonEl.style.display =\n",
              "        google.colab.kernel.accessAllowed ? 'block' : 'none';\n",
              "    })();\n",
              "  </script>\n",
              "</div>\n",
              "\n",
              "  <div id=\"id_9b630876-1e34-4fed-ba04-43ef2a9e11b7\">\n",
              "    <style>\n",
              "      .colab-df-generate {\n",
              "        background-color: #E8F0FE;\n",
              "        border: none;\n",
              "        border-radius: 50%;\n",
              "        cursor: pointer;\n",
              "        display: none;\n",
              "        fill: #1967D2;\n",
              "        height: 32px;\n",
              "        padding: 0 0 0 0;\n",
              "        width: 32px;\n",
              "      }\n",
              "\n",
              "      .colab-df-generate:hover {\n",
              "        background-color: #E2EBFA;\n",
              "        box-shadow: 0px 1px 2px rgba(60, 64, 67, 0.3), 0px 1px 3px 1px rgba(60, 64, 67, 0.15);\n",
              "        fill: #174EA6;\n",
              "      }\n",
              "\n",
              "      [theme=dark] .colab-df-generate {\n",
              "        background-color: #3B4455;\n",
              "        fill: #D2E3FC;\n",
              "      }\n",
              "\n",
              "      [theme=dark] .colab-df-generate:hover {\n",
              "        background-color: #434B5C;\n",
              "        box-shadow: 0px 1px 3px 1px rgba(0, 0, 0, 0.15);\n",
              "        filter: drop-shadow(0px 1px 2px rgba(0, 0, 0, 0.3));\n",
              "        fill: #FFFFFF;\n",
              "      }\n",
              "    </style>\n",
              "    <button class=\"colab-df-generate\" onclick=\"generateWithVariable('weather_df')\"\n",
              "            title=\"Generate code using this dataframe.\"\n",
              "            style=\"display:none;\">\n",
              "\n",
              "  <svg xmlns=\"http://www.w3.org/2000/svg\" height=\"24px\"viewBox=\"0 0 24 24\"\n",
              "       width=\"24px\">\n",
              "    <path d=\"M7,19H8.4L18.45,9,17,7.55,7,17.6ZM5,21V16.75L18.45,3.32a2,2,0,0,1,2.83,0l1.4,1.43a1.91,1.91,0,0,1,.58,1.4,1.91,1.91,0,0,1-.58,1.4L9.25,21ZM18.45,9,17,7.55Zm-12,3A5.31,5.31,0,0,0,4.9,8.1,5.31,5.31,0,0,0,1,6.5,5.31,5.31,0,0,0,4.9,4.9,5.31,5.31,0,0,0,6.5,1,5.31,5.31,0,0,0,8.1,4.9,5.31,5.31,0,0,0,12,6.5,5.46,5.46,0,0,0,6.5,12Z\"/>\n",
              "  </svg>\n",
              "    </button>\n",
              "    <script>\n",
              "      (() => {\n",
              "      const buttonEl =\n",
              "        document.querySelector('#id_9b630876-1e34-4fed-ba04-43ef2a9e11b7 button.colab-df-generate');\n",
              "      buttonEl.style.display =\n",
              "        google.colab.kernel.accessAllowed ? 'block' : 'none';\n",
              "\n",
              "      buttonEl.onclick = () => {\n",
              "        google.colab.notebook.generateWithVariable('weather_df');\n",
              "      }\n",
              "      })();\n",
              "    </script>\n",
              "  </div>\n",
              "\n",
              "    </div>\n",
              "  </div>\n"
            ],
            "application/vnd.google.colaboratory.intrinsic+json": {
              "type": "dataframe",
              "variable_name": "weather_df",
              "summary": "{\n  \"name\": \"weather_df\",\n  \"rows\": 3,\n  \"fields\": [\n    {\n      \"column\": \"city\",\n      \"properties\": {\n        \"dtype\": \"string\",\n        \"num_unique_values\": 3,\n        \"samples\": [\n          \"Asgard\",\n          \"Knowhere\",\n          \"Xandar\"\n        ],\n        \"semantic_type\": \"\",\n        \"description\": \"\"\n      }\n    },\n    {\n      \"column\": \"temperature\",\n      \"properties\": {\n        \"dtype\": \"number\",\n        \"std\": 28,\n        \"min\": 30,\n        \"max\": 85,\n        \"num_unique_values\": 3,\n        \"samples\": [\n          72,\n          30,\n          85\n        ],\n        \"semantic_type\": \"\",\n        \"description\": \"\"\n      }\n    },\n    {\n      \"column\": \"high\",\n      \"properties\": {\n        \"dtype\": \"number\",\n        \"std\": 26,\n        \"min\": 40,\n        \"max\": 90,\n        \"num_unique_values\": 3,\n        \"samples\": [\n          80,\n          40,\n          90\n        ],\n        \"semantic_type\": \"\",\n        \"description\": \"\"\n      }\n    },\n    {\n      \"column\": \"low\",\n      \"properties\": {\n        \"dtype\": \"number\",\n        \"std\": 30,\n        \"min\": 20,\n        \"max\": 78,\n        \"num_unique_values\": 3,\n        \"samples\": [\n          65,\n          20,\n          78\n        ],\n        \"semantic_type\": \"\",\n        \"description\": \"\"\n      }\n    },\n    {\n      \"column\": \"pressure\",\n      \"properties\": {\n        \"dtype\": \"number\",\n        \"std\": 21,\n        \"min\": 980,\n        \"max\": 1020,\n        \"num_unique_values\": 3,\n        \"samples\": [\n          1015,\n          980,\n          1020\n        ],\n        \"semantic_type\": \"\",\n        \"description\": \"\"\n      }\n    }\n  ]\n}"
            }
          },
          "metadata": {},
          "execution_count": 9
        }
      ]
    },
    {
      "cell_type": "markdown",
      "source": [
        "Let's take the DF and push it back to JSON"
      ],
      "metadata": {
        "id": "wEryLUJFqn7H"
      },
      "id": "wEryLUJFqn7H"
    },
    {
      "cell_type": "code",
      "source": [
        "# Convert the entire DataFrame back to JSON\n",
        "json_output = weather_df.to_json(orient='records', indent=4)\n",
        "\n",
        "print(json_output)\n"
      ],
      "metadata": {
        "colab": {
          "base_uri": "https://localhost:8080/"
        },
        "id": "5Nw0mypsq1xi",
        "outputId": "6d425c19-edd6-4040-fdec-14990c3c64fe"
      },
      "id": "5Nw0mypsq1xi",
      "execution_count": 10,
      "outputs": [
        {
          "output_type": "stream",
          "name": "stdout",
          "text": [
            "[\n",
            "    {\n",
            "        \"city\":\"Asgard\",\n",
            "        \"temperature\":72,\n",
            "        \"high\":80,\n",
            "        \"low\":65,\n",
            "        \"pressure\":1015\n",
            "    },\n",
            "    {\n",
            "        \"city\":\"Knowhere\",\n",
            "        \"temperature\":30,\n",
            "        \"high\":40,\n",
            "        \"low\":20,\n",
            "        \"pressure\":980\n",
            "    },\n",
            "    {\n",
            "        \"city\":\"Xandar\",\n",
            "        \"temperature\":85,\n",
            "        \"high\":90,\n",
            "        \"low\":78,\n",
            "        \"pressure\":1020\n",
            "    }\n",
            "]\n"
          ]
        }
      ]
    },
    {
      "cell_type": "markdown",
      "source": [
        "Let's push this to SQL LIte\n"
      ],
      "metadata": {
        "id": "5onAc4wvrFdL"
      },
      "id": "5onAc4wvrFdL"
    },
    {
      "cell_type": "code",
      "source": [
        "import json\n",
        "import sqlite3\n",
        "\n",
        "# JSON data (from the previous example)\n",
        "weather_json = '''\n",
        "{\n",
        "  \"weather_data\": [\n",
        "    {\n",
        "      \"city\": \"Asgard\",\n",
        "      \"temperature\": 72,\n",
        "      \"high\": 80,\n",
        "      \"low\": 65,\n",
        "      \"pressure\": 1015\n",
        "    },\n",
        "    {\n",
        "      \"city\": \"Knowhere\",\n",
        "      \"temperature\": 30,\n",
        "      \"high\": 40,\n",
        "      \"low\": 20,\n",
        "      \"pressure\": 980\n",
        "    },\n",
        "    {\n",
        "      \"city\": \"Xandar\",\n",
        "      \"temperature\": 85,\n",
        "      \"high\": 90,\n",
        "      \"low\": 78,\n",
        "      \"pressure\": 1020\n",
        "    }\n",
        "  ]\n",
        "}\n",
        "'''\n",
        "\n",
        "# Parse the JSON data\n",
        "weather_data = json.loads(weather_json)\n",
        "\n",
        "# Connect to SQLite (it will create a database file named \"weather.db\")\n",
        "conn = sqlite3.connect('weather.db')\n",
        "c = conn.cursor()\n",
        "\n",
        "# Create a table\n",
        "c.execute('''\n",
        "    CREATE TABLE IF NOT EXISTS weather (\n",
        "        city TEXT,\n",
        "        temperature INTEGER,\n",
        "        high INTEGER,\n",
        "        low INTEGER,\n",
        "        pressure INTEGER\n",
        "    )\n",
        "''')\n",
        "\n",
        "# Insert JSON data into the SQLite table\n",
        "for entry in weather_data['weather_data']:\n",
        "    c.execute('''\n",
        "        INSERT INTO weather (city, temperature, high, low, pressure)\n",
        "        VALUES (?, ?, ?, ?, ?)\n",
        "    ''', (entry['city'], entry['temperature'], entry['high'], entry['low'], entry['pressure']))\n",
        "\n",
        "# Commit and close the connection\n",
        "conn.commit()\n",
        "conn.close()\n"
      ],
      "metadata": {
        "id": "Z7dD5jUGrH1-"
      },
      "id": "Z7dD5jUGrH1-",
      "execution_count": 11,
      "outputs": []
    }
  ],
  "metadata": {
    "colab": {
      "provenance": [],
      "include_colab_link": true
    },
    "language_info": {
      "name": "python"
    },
    "kernelspec": {
      "name": "python3",
      "display_name": "Python 3"
    }
  },
  "nbformat": 4,
  "nbformat_minor": 5
}