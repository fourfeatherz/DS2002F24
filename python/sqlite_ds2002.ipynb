{
 "cells": [
  {
   "cell_type": "markdown",
   "id": "209c138b-520f-4a91-b7c7-3d5d0512a6a4",
   "metadata": {},
   "source": [
    "# **Part 1: Introduction to SQLite and Comparisons with Other RDBMS**\r\n",
    "\r\n",
    "## **1.1 What is SQLite?**\r\n",
    "\r\n",
    "SQLite is a relational database management system (RDBMS) that is embedded into the application that uses it. Unlike other databases, SQLite is serverless, meaning it doesn’t require a separate server process or a service. Instead, the database engine runs as part of the application itself. It is highly portable, making it ideal for applications where simplicity and portability are important.\r\n",
    "\r\n",
    "Some features of SQLite include:\r\n",
    "- **Lightweight and Compact**: The entire database is stored in a single cross-platform disk file.\r\n",
    "- **Zero Configuration**: It doesn’t need any configuration or setup to get started.\r\n",
    "- **Cross-Platform**: SQLite databases can be shared between systems with different architectures (e.g., Windows, Linux, macOS).\r\n",
    "\r\n",
    "## **1.2 Differences Between SQLite and Other RDBMS (MySQL, SQL Server)**\r\n",
    "\r\n",
    "Here is a comparison of SQLite with other popular RDBMS like MySQL and SQL Server:\r\n",
    "\r\n",
    "| Feature              | **SQLite**                               | **MySQL**                              | **SQL Server**                        |\r\n",
    "|----------------------|------------------------------------------|----------------------------------------|---------------------------------------|\r\n",
    "| **Architecture**      | Serverless, embedded within application  | Client-server model                    | Client-server model                   |\r\n",
    "| **Concurrency**       | Limited concurrency (single writer)      | Supports many simultaneous connections | Supports many simultaneous connections|\r\n",
    "| **Scalability**       | Not suited for large-scale applications  | Scalable for large apps                | Highly scalable                       |\r\n",
    "| **Setup**             | No setup required, built into the app    | Requires server installation           | Requires server installation          |\r\n",
    "| **Transactions**      | ACID compliant, but lacks fine-grained locking | Fully ACID compliant                   | Fully ACID compliant                  |\r\n",
    "| **Data Types**        | Dynamic typing                          | Static typing (specific data types)    | Static typing (specific data types)   |\r\n",
    "| **Storage**           | Single file database                    | Data stored across multiple files      | Data stored across multiple files     |\r\n",
    "| **Ideal Use Cases**   | Embedded systems, small apps, testing    | Web applications, moderate to large-scale applications | Enterprise-level, large applications  |\r\n",
    "\r\n",
    "### **Explanation of the Key Differences**:\r\n",
    "\r\n",
    "- **Architecture**: Unlike MySQL and SQL Server, which follow a client-server architecture where the database runs on a server and applications connect to it over a network, SQLite is serverless. The entire database is a single file, and it is embedded directly into the application.\r\n",
    "  \r\n",
    "- **Concurrency**: SQLite allows many simultaneous read operations but only one write operation at a time. In contrast, MySQL and SQL Server can handle many concurrent readers and writers, making them better suited for larger, high-traffic applications.\r\n",
    "  \r\n",
    "- **Scalability**: While SQLite can handle small to medium-sized applications, it is not ideal for large applications that require heavy concurrency, high availability, or enterprise-level features like replication and load balancing. MySQL and SQL Server, however, are designed to handle such workloads.\r\n",
    "\r\n",
    "- **Setup**: SQLite is extremely easy to set up because it doesn’t require any external server. It’s built into the application, so there's no need to install or configure anything. MySQL and SQL Server require server installations and configurations.\r\n",
    "\r\n",
    "- **Transactions and Data Integrity**: SQLite is ACID (Atomicity, Consistency, Isolation, Durability) compliant, ensuring data integrity during transactions, but lacks the fine-grained locking mechanisms that MySQL and SQL Server provide for handling highly concurrent writes.\r\n",
    "\r\n",
    "- **Data Types**: SQLite uses dynamic typing, which means that data types are not strictly enforced. For example, you could insert a string into an integer field. MySQL and SQL Server use static typing, ensuring that data stored in a column strictly adheres to the defined data type.\r\n",
    "\r\n",
    "## **1.3 Limitations of SQLite**\r\n",
    "\r\n",
    "While SQLite is powerful and easy to use, it has some key limitations when compared to other RDBMS:\r\n",
    "\r\n",
    "1. **Concurrency**: SQLite allows multiple readers but only one writer at a time. This limits its ability to scale to high-concurrency environments, such as web applications with many simultaneous writes.\r\n",
    "  \r\n",
    "2. **Size Limitations**: While SQLite databases can grow to be quite large (up to 281 terabytes), performance begins to degrade as the database grows beyond 1TB, making it unsuitable for very large datasets.\r\n",
    "  \r\n",
    "3. **No User Management**: Unlike MySQL or SQL Server, which allow you to define users and grant permissions, SQLite does not support user authentication or role-based access control. This makes it less secure in environments with multiple users.\r\n",
    "  \r\n",
    "4. **No Stored Procedures or Triggers**: SQLite does not have built-in support for stored procedures or triggers, features commonly used in enterprise databases for complex logic and automation.\r\n",
    "\r\n",
    "5. **Limited Data Integrity**: Because of dynamic typing, SQLite does not strictly enforce data types, which can lead to data integrity issues in certain use cases.\r\n",
    "\r\n",
    "## **1.4 What is SQLite Really Good For?**\r\n",
    "\r\n",
    "Despite its limitations, SQLite has several advantages that make it the right choice for many use cases:\r\n",
    "\r\n",
    "- **Mobile Applications**: SQLite is used extensively in mobile applications because it is small, fast, and can easily store local data. Both Android and iOS use SQLite as their default database engine.\r\n",
    "  \r\n",
    "- **Embedded Systems**: Devices like TVs, cars, cameras, and other electronics often use SQLite as a lightweight database system for configuration settings and local storage.\r\n",
    "  \r\n",
    "- **Testing and Development**: Developers frequently use SQLite as a testing or development database because it’s easy to set up and requires no external dependencies. It allows you to quickly create and manipulate databases without the overhead of a full RDBMS.\r\n",
    "  \r\n",
    "- **Browser Data Storage**: Browsers like Mozilla Firefox use SQLite to store local data (e.g., user preferences, history, and cookies). It’s also popular in desktop apps that require simple, local data storage without the complexity of managing a separate server.\r\n",
    "  \r\n",
    "- **Data Analysis**: SQLite can be used for small-scale data analysis, as it can store structured data in a simple, self-contained database file that can be queried without any complex setup.\r\n",
    "\r\n",
    "---\r\n",
    "\r\n",
    "Now that we have a better understanding of SQLite, let’s move on to  But Wait...what is ACID? We didn't talk much about that....creating and interacting with a real-world database example in Part 2!\r\n"
   ]
  },
  {
   "cell_type": "markdown",
   "id": "ea319368-a2dc-43e1-a7e5-6535e8f44124",
   "metadata": {},
   "source": [
    "# **ACID Properties in Databases**\r\n",
    "\r\n",
    "ACID is an acronym used to describe the four essential properties that ensure the reliability and integrity of a database system during a transaction. These properties are **Atomicity**, **Consistency**, **Isolation**, and **Durability**.\r\n",
    "\r\n",
    "## **1. Atomicity**\r\n",
    "\r\n",
    "Atomicity ensures that each transaction is treated as a single, indivisible unit of work. This means that either **all** operations within the transaction are executed successfully, or **none** of them are executed. In case of any error or failure during a transaction, the database must rollback to its previous state, ensuring that partial transactions don’t corrupt the database.\r\n",
    "\r\n",
    "- **Example**: If you're transferring money between two accounts, either both the debit and credit operations succeed, or neither happens. If only one operation occurs and the system crashes, the data would become inconsistent.\r\n",
    "\r\n",
    "## **2. Consistency**\r\n",
    "\r\n",
    "Consistency ensures that a transaction brings the database from one valid state to another, maintaining the predefined rules, constraints, and integrity of the data. After a transaction, the database must remain in a valid state, and any constraints such as primary keys, foreign keys, or unique constraints must still be satisfied.\r\n",
    "\r\n",
    "- **Example**: If a bank account's balance cannot go negative, a transaction that attempts to overdraw the account must be rejected. Even if multiple transactions are running, the rules of the system must be followed, ensuring that only valid data persists in the database.\r\n",
    "\r\n",
    "## **3. Isolation**\r\n",
    "\r\n",
    "Isolation guarantees that concurrent transactions occur independently without interfering with each other. Even if transactions are executed simultaneously, the final outcome should be as if they were executed sequentially. This prevents issues like \"dirty reads\" or \"lost updates,\" where one transaction could read or modify data being used by another transaction.\r\n",
    "\r\n",
    "There are multiple levels of isolation, ranging from:\r\n",
    "- **Read Uncommitted**: Lowest isolation level, allowing dirty reads.\r\n",
    "- **Serializable**: Highest isolation level, ensuring full isolation but may reduce concurrency.\r\n",
    "\r\n",
    "- **Example**: If two users are booking the last seat on a flight at the same time, isolation ensures that only one booking will succeed, preventing double booking.\r\n",
    "\r\n",
    "## **4. Durability**\r\n",
    "\r\n",
    "Durability guarantees that once a transaction is committed, the changes made by the transaction are permanent, even in the event of a system crash or power failure. The database must ensure that the data is saved to persistent storage (e.g., disk) and can be recovered after a system reboot or crash.\r\n",
    "\r\n",
    "- **Example**: If you submit an order on an e-commerce site and the transaction is committed, even if the system crashes immediately after, the order will still be saved and processed once the system is back online.\r\n",
    "\r\n",
    "---\r\n",
    "\r\n",
    "## **Conclusion**\r\n",
    "\r\n",
    "ACID properties are fundamental to ensuring data integrity, reliability, and robustness in a database system. They are especially important for databases that handle financial transactions, user data, and other mission-critical applications. By following the ACID properties, databases ensure that data remains accurate, consistent, and durable in the face of system failures, concurrent transactions, and unforeseen errors.\r\n"
   ]
  },
  {
   "cell_type": "markdown",
   "id": "ee1269c5-bac1-4362-a41d-da5d3e4be27c",
   "metadata": {},
   "source": [
    "# **Part 2: Setting Up SQLite for the Ice Cream Database**\r\n",
    "\r\n",
    "In this section, we'll cover how to set up an SQLite database for the ice cream shop, including creating connections, understanding cursors, and handling database files in both Jupyter notebooks and regular Python scripts.\r\n",
    "\r\n",
    "---\r\n",
    "\r\n",
    "## **Step 1: Creating a Connection to SQLite**\r\n",
    "\r\n",
    "In SQLite, the first thing you need to do is establish a **connection** to the database. The connection serves as the link between your Python code and the SQLite databas and connected!\")\r\n"
   ]
  },
  {
   "cell_type": "code",
   "execution_count": 75,
   "id": "14273944-131d-4495-bb83-e76d7441a090",
   "metadata": {},
   "outputs": [
    {
     "name": "stdout",
     "output_type": "stream",
     "text": [
      "Database created and connected!\n"
     ]
    }
   ],
   "source": [
    "import sqlite3\n",
    "\n",
    "# Create or connect to an SQLite database\n",
    "connection = sqlite3.connect('ice_cream_shop.db')\n",
    "\n",
    "# Check if the connection was successful\n",
    "print(\"Database created and connected!\")"
   ]
  },
  {
   "cell_type": "markdown",
   "id": "d52d8dd1-95a5-422c-8057-be50d267df2d",
   "metadata": {},
   "source": [
    "\n",
    "The sqlite3.connect() function creates a connection object representing the database.\n",
    "If the file ice_cream_shop.db already exists, SQLite will connect to it. If it doesn’t exist, SQLite will create a new file with that name in the working directory."
   ]
  },
  {
   "cell_type": "markdown",
   "id": "5d14236e-b842-42e3-aa3f-505b7d3b7d7c",
   "metadata": {},
   "source": [
    "## **Step 2: Understanding the Cursor**\n",
    "\n",
    "Once you've created a connection to the SQLite database, the next thing you'll need is a **cursor** object. The cursor allows you to execute SQL commands and interact with the database.\n",
    "\n"
   ]
  },
  {
   "cell_type": "code",
   "execution_count": 79,
   "id": "29599b78-8971-4bb0-b251-bcc4a883f35d",
   "metadata": {},
   "outputs": [
    {
     "name": "stdout",
     "output_type": "stream",
     "text": [
      "Cursor created!\n"
     ]
    }
   ],
   "source": [
    "# Create a cursor object\n",
    "cursor = connection.cursor()\n",
    "\n",
    "# Explanation\n",
    "print(\"Cursor created!\")"
   ]
  },
  {
   "cell_type": "markdown",
   "id": "57e3e90f-43f3-462c-b422-5e8de6b26084",
   "metadata": {},
   "source": [
    "**Explanation**:\n",
    "The cursor is like a controller that interacts with the database. It allows you to:\n",
    "Execute SQL queries (e.g., creating tables, inserting data, retrieving records).\n",
    "Fetch results from queries.\n",
    "Without a cursor, your Python code wouldn’t be able to send SQL commands to the database.\n",
    "After you’ve created the cursor, you can start executing SQL commands."
   ]
  },
  {
   "cell_type": "markdown",
   "id": "c3497b9c-5646-4faa-bab8-5ff6a383ddfd",
   "metadata": {},
   "source": [
    "**Why Do We Need a Cursor?**\n",
    "In SQLite (and other relational databases), the cursor acts as the intermediary between your Python code and the database. It runs SQL queries and fetches results. Think of it as a \"pointer\" that moves through the database.\n",
    "\n",
    "The cursor enables these important functions:\n",
    "\n",
    "- Executing SQL Statements: It allows you to execute SQL statements such as SELECT, INSERT, UPDATE, and DELETE.\n",
    "Fetching Results: \n",
    "- It retrieves the results from a SELECT query, allowing you to process the returned data in your Python code.\n",
    "You must create a cursor for each connection to the database"
   ]
  },
  {
   "cell_type": "markdown",
   "id": "5d1d2fc4-7b29-4dc7-894a-62a03bd2b446",
   "metadata": {},
   "source": [
    "**Example: Executing an SQL Query**\n",
    "Let’s use the cursor to create a table for our ice cream sales data:"
   ]
  },
  {
   "cell_type": "code",
   "execution_count": 84,
   "id": "64475ebc-d09d-42d7-b1d5-87f724d67cb4",
   "metadata": {},
   "outputs": [
    {
     "name": "stdout",
     "output_type": "stream",
     "text": [
      "Sales table created!\n"
     ]
    }
   ],
   "source": [
    "# Create the sales table\n",
    "cursor.execute('''\n",
    "CREATE TABLE IF NOT EXISTS sales (\n",
    "    id INTEGER PRIMARY KEY AUTOINCREMENT,\n",
    "    flavor TEXT NOT NULL,\n",
    "    sales INTEGER,\n",
    "    revenue INTEGER\n",
    ")\n",
    "''')\n",
    "\n",
    "print(\"Sales table created!\")\n"
   ]
  },
  {
   "cell_type": "markdown",
   "id": "b154032a-f7b3-4fd0-a3eb-82252622aa2b",
   "metadata": {},
   "source": [
    "**Explanation:**\n",
    "\n",
    "The SQL statement CREATE TABLE IF NOT EXISTS ensures that the table is only created if it doesn't already exist.\n",
    "The table sales includes four columns:\n",
    "- id: A unique identifier for each record, automatically incremented.\n",
    "- flavor: The flavor of the ice cream (a TEXT field).\n",
    "- sales: The number of ice creams sold.\n",
    "- revenue: The total revenue generated from each flavor.\n",
    "\n",
    "The cursor executes this command to create the sales table in the database.\n",
    "\n",
    "**What Happens If the Table Already Exists?**\n",
    "\n",
    "The **CREATE TABLE IF NOT EXISTS** statement ensures that the table will not be recreated if it already exists in the database. This is useful when you need to rerun your script or notebook without causing errors due to an existing table."
   ]
  },
  {
   "cell_type": "markdown",
   "id": "0c142f10-f212-432b-a91e-72123616f272",
   "metadata": {},
   "source": [
    "**Closing the Cursor**\n",
    "\n",
    "Once you’re done executing SQL commands, it’s a good practice to close the cursor."
   ]
  },
  {
   "cell_type": "code",
   "execution_count": 88,
   "id": "84ed0e4a-a864-4324-a3be-b4a3772132a8",
   "metadata": {},
   "outputs": [
    {
     "name": "stdout",
     "output_type": "stream",
     "text": [
      "Cursor closed!\n"
     ]
    }
   ],
   "source": [
    "# Close the cursor\n",
    "cursor.close()\n",
    "\n",
    "# Explanation\n",
    "print(\"Cursor closed!\")\n"
   ]
  },
  {
   "cell_type": "markdown",
   "id": "d5584e13-dbd6-437c-a75a-13791726122f",
   "metadata": {},
   "source": [
    "\n",
    "\n",
    "## **Step 3: Creating Tables for the Ice Cream Shop**\n",
    "\n",
    "Now that we have a connection and cursor, let’s create the necessary tables for storing ice cream sales data. This table will hold details like the flavor, number of sales, and revenue generated.\n",
    "\n",
    "\n"
   ]
  },
  {
   "cell_type": "code",
   "execution_count": 91,
   "id": "31cf0394-f14b-400a-aeb7-ea21bb2c9777",
   "metadata": {},
   "outputs": [
    {
     "name": "stdout",
     "output_type": "stream",
     "text": [
      "Cursor created!\n",
      "Sales table created!\n"
     ]
    }
   ],
   "source": [
    "# Create the sales table\n",
    "# Create a cursor object\n",
    "cursor = connection.cursor()\n",
    "\n",
    "# Explanation\n",
    "print(\"Cursor created!\")\n",
    "cursor.execute('''\n",
    "CREATE TABLE IF NOT EXISTS sales (\n",
    "    id INTEGER PRIMARY KEY AUTOINCREMENT,\n",
    "    flavor TEXT NOT NULL,\n",
    "    sales INTEGER,\n",
    "    revenue INTEGER\n",
    ")\n",
    "''')\n",
    "\n",
    "print(\"Sales table created!\")"
   ]
  },
  {
   "cell_type": "markdown",
   "id": "46b2cb56-eb28-42a3-a396-d4daf149cba1",
   "metadata": {},
   "source": [
    "\n",
    "\n",
    "Let’s create a new table called `flavor_details`, which will store additional information about each ice cream flavor.\n"
   ]
  },
  {
   "cell_type": "code",
   "execution_count": 94,
   "id": "739e0ba9-7f08-4920-9a7f-2a4b085efee6",
   "metadata": {},
   "outputs": [
    {
     "name": "stdout",
     "output_type": "stream",
     "text": [
      "Flavor details table created!\n"
     ]
    }
   ],
   "source": [
    "\n",
    "\n",
    "# Create the flavor_details table\n",
    "cursor.execute('''\n",
    "CREATE TABLE IF NOT EXISTS flavor_details (\n",
    "    flavor_id INTEGER PRIMARY KEY AUTOINCREMENT,\n",
    "    flavor TEXT NOT NULL,\n",
    "    category TEXT,\n",
    "    supplier TEXT\n",
    ")\n",
    "''')\n",
    "\n",
    "print(\"Flavor details table created!\")\n"
   ]
  },
  {
   "cell_type": "markdown",
   "id": "ebaf0ecd-2887-492e-83cb-3e60eb6878b0",
   "metadata": {},
   "source": [
    "Now let's do an insert"
   ]
  },
  {
   "cell_type": "code",
   "execution_count": 97,
   "id": "b9123be7-d6a3-4fc9-a51b-512ebcb2aa30",
   "metadata": {},
   "outputs": [
    {
     "name": "stdout",
     "output_type": "stream",
     "text": [
      "Data inserted into the sales table!\n"
     ]
    }
   ],
   "source": [
    "# Sample data to insert into the sales table\n",
    "sales_data = [\n",
    "    ('Vanilla', 100, 200),\n",
    "    ('Chocolate', 150, 300),\n",
    "    ('Strawberry', 80, 160),\n",
    "    ('Mint', 70, 140),\n",
    "    ('Cookie Dough', 120, 240)\n",
    "]\n",
    "\n",
    "# Insert data into the table\n",
    "cursor.executemany('''\n",
    "INSERT INTO sales (flavor, sales, revenue) VALUES (?, ?, ?)\n",
    "''', sales_data)\n",
    "\n",
    "# Commit the transaction\n",
    "connection.commit()\n",
    "\n",
    "print(\"Data inserted into the sales table!\")\n"
   ]
  },
  {
   "cell_type": "code",
   "execution_count": 99,
   "id": "7be11365-6670-4c43-9d3e-fe2951347433",
   "metadata": {},
   "outputs": [
    {
     "name": "stdout",
     "output_type": "stream",
     "text": [
      "Data inserted into the flavor details table!\n"
     ]
    }
   ],
   "source": [
    "# Sample data for the flavor_details table\n",
    "flavor_details_data = [\n",
    "    ('Vanilla', 'Classic', 'Supplier A'),\n",
    "    ('Chocolate', 'Classic', 'Supplier B'),\n",
    "    ('Strawberry', 'Premium', 'Supplier C'),\n",
    "    ('Mint', 'Classic', 'Supplier A'),\n",
    "    ('Cookie Dough', 'Premium', 'Supplier B')\n",
    "]\n",
    "\n",
    "# Insert data into the flavor_details table\n",
    "cursor.executemany('''\n",
    "INSERT INTO flavor_details (flavor, category, supplier) VALUES (?, ?, ?)\n",
    "''', flavor_details_data)\n",
    "\n",
    "# Commit the transaction\n",
    "connection.commit()\n",
    "\n",
    "print(\"Data inserted into the flavor details table!\")\n"
   ]
  },
  {
   "cell_type": "markdown",
   "id": "87c85991-14b3-415b-94c6-9bae9c9f8609",
   "metadata": {},
   "source": [
    "**Querying Data in SQLITE**"
   ]
  },
  {
   "cell_type": "markdown",
   "id": "2b4d4185-b06f-4a1f-8243-ff107a3ddd8c",
   "metadata": {},
   "source": [
    "## **Step 5: Querying the Data**\n",
    "\n",
    "Once the data is inserted into the `sales` table, we can execute various SQL queries to retrieve and analyze the information. Let’s go through a few examples of queries that provide useful insights.\n",
    "\n",
    "---\n",
    "\n",
    "### **1. Fetch All Data from the Sales Table**\n",
    "\n",
    "\n"
   ]
  },
  {
   "cell_type": "code",
   "execution_count": 103,
   "id": "eeb727b1-95df-4c5c-92d2-a4543947acf5",
   "metadata": {},
   "outputs": [
    {
     "name": "stdout",
     "output_type": "stream",
     "text": [
      "All sales data:\n",
      "(1, 'Vanilla', 100, 200)\n",
      "(2, 'Chocolate', 150, 300)\n",
      "(3, 'Strawberry', 80, 160)\n",
      "(4, 'Mint', 70, 140)\n",
      "(5, 'Cookie Dough', 120, 240)\n",
      "(6, 'Vanilla', 100, 200)\n",
      "(7, 'Chocolate', 150, 300)\n",
      "(8, 'Strawberry', 80, 160)\n",
      "(9, 'Mint', 70, 140)\n",
      "(10, 'Cookie Dough', 120, 240)\n",
      "(11, 'Vanilla', 100, 200)\n",
      "(12, 'Chocolate', 150, 300)\n",
      "(13, 'Strawberry', 80, 160)\n",
      "(14, 'Mint', 70, 140)\n",
      "(15, 'Cookie Dough', 120, 240)\n",
      "(16, 'Vanilla', 100, 200)\n",
      "(17, 'Chocolate', 150, 300)\n",
      "(18, 'Strawberry', 80, 160)\n",
      "(19, 'Mint', 70, 140)\n",
      "(20, 'Cookie Dough', 120, 240)\n"
     ]
    }
   ],
   "source": [
    "\n",
    "# Fetch all data from the sales table\n",
    "cursor.execute(\"SELECT * FROM sales\")\n",
    "rows = cursor.fetchall()\n",
    "\n",
    "# Print the results\n",
    "print(\"All sales data:\")\n",
    "for row in rows:\n",
    "    print(row)"
   ]
  },
  {
   "cell_type": "code",
   "execution_count": 112,
   "id": "7571863a-8383-46f8-9826-800929cdb424",
   "metadata": {},
   "outputs": [
    {
     "name": "stdout",
     "output_type": "stream",
     "text": [
      "Flavor with the highest sales: Chocolate\n"
     ]
    }
   ],
   "source": [
    "# Query for the flavor with the highest sales\n",
    "cursor.execute('''\n",
    "SELECT flavor, MAX(sales) FROM sales\n",
    "''')\n",
    "highest_sales = cursor.fetchone()\n",
    "\n",
    "# Display the result\n",
    "print(f\"Flavor with the highest sales: {highest_sales[0]}\")\n"
   ]
  },
  {
   "cell_type": "markdown",
   "id": "1faf71d6-3b4e-4a79-9096-04858731f33e",
   "metadata": {},
   "source": [
    "- cursor.fetchall() fetches all the rows returned by the query, and we use a loop to print each row.\n",
    "\n",
    "- The MAX() function in SQL returns the maximum value in a column, which in this case is the highest number of sales.\n",
    "- We use cursor.fetchone() to retrieve the first (and only) result of this query, which gives us the flavor with the most sales.\n",
    "- This query identifies which ice cream flavor has the best performance in terms of sales.\n"
   ]
  },
  {
   "cell_type": "code",
   "execution_count": 115,
   "id": "a0a81174-d6f3-4294-b85e-6cc464bcdf4c",
   "metadata": {},
   "outputs": [
    {
     "name": "stdout",
     "output_type": "stream",
     "text": [
      "Total revenue: $4160\n"
     ]
    }
   ],
   "source": [
    "# Query for the total revenue\n",
    "cursor.execute('''\n",
    "SELECT SUM(revenue) FROM sales\n",
    "''')\n",
    "total_revenue = cursor.fetchone()[0]\n",
    "\n",
    "# Display the result\n",
    "print(f\"Total revenue: ${total_revenue}\")\n"
   ]
  },
  {
   "cell_type": "markdown",
   "id": "ff53ed06-498e-49b9-adea-4908ddfb6b38",
   "metadata": {},
   "source": [
    "- The SUM() function adds up all the values in the revenue column, calculating the total revenue generated by all flavors combined.\n",
    "- We use cursor.fetchone()[0] to get the total revenue since the query returns just one row with one column.\n",
    "- This query provides insight into how much money the ice cream shop has made from all its sales."
   ]
  },
  {
   "cell_type": "code",
   "execution_count": 118,
   "id": "36dce074-ae30-4730-bceb-34dedb0e0f76",
   "metadata": {},
   "outputs": [
    {
     "name": "stdout",
     "output_type": "stream",
     "text": [
      "Average revenue per flavor: $208.0\n"
     ]
    }
   ],
   "source": [
    "# Query for the average revenue per flavor\n",
    "cursor.execute('''\n",
    "SELECT AVG(revenue) FROM sales\n",
    "''')\n",
    "average_revenue = cursor.fetchone()[0]\n",
    "\n",
    "# Display the result\n",
    "print(f\"Average revenue per flavor: ${average_revenue}\")\n"
   ]
  },
  {
   "cell_type": "code",
   "execution_count": 120,
   "id": "e933725d-bb04-4c75-93db-a2a3b9761cde",
   "metadata": {},
   "outputs": [
    {
     "name": "stdout",
     "output_type": "stream",
     "text": [
      "Flavors sorted by sales:\n",
      "Chocolate: 150 sales\n",
      "Chocolate: 150 sales\n",
      "Chocolate: 150 sales\n",
      "Chocolate: 150 sales\n",
      "Cookie Dough: 120 sales\n",
      "Cookie Dough: 120 sales\n",
      "Cookie Dough: 120 sales\n",
      "Cookie Dough: 120 sales\n",
      "Vanilla: 100 sales\n",
      "Vanilla: 100 sales\n",
      "Vanilla: 100 sales\n",
      "Vanilla: 100 sales\n",
      "Strawberry: 80 sales\n",
      "Strawberry: 80 sales\n",
      "Strawberry: 80 sales\n",
      "Strawberry: 80 sales\n",
      "Mint: 70 sales\n",
      "Mint: 70 sales\n",
      "Mint: 70 sales\n",
      "Mint: 70 sales\n"
     ]
    }
   ],
   "source": [
    "# Query to sort flavors by sales in descending order\n",
    "cursor.execute('''\n",
    "SELECT flavor, sales FROM sales ORDER BY sales DESC\n",
    "''')\n",
    "sorted_sales = cursor.fetchall()\n",
    "\n",
    "# Display the results\n",
    "print(\"Flavors sorted by sales:\")\n",
    "for sale in sorted_sales:\n",
    "    print(f\"{sale[0]}: {sale[1]} sales\")\n"
   ]
  },
  {
   "cell_type": "markdown",
   "id": "dce3de4c-8d51-4e7d-a5b6-94b1084d3782",
   "metadata": {},
   "source": [
    "\r\n",
    "---\r\n",
    "\r\n",
    "### **Summary of Step 5**:\r\n",
    "\r\n",
    "This step demonstrates how to:\r\n",
    "1. **Retrieve all data** from the `sales` table.\r\n",
    "2. **Find the flavor with the highest sales** using the `MAX()` function.\r\n",
    "3. **Calculate total revenue** using the `SUM()` function.\r\n",
    "4. **Find average revenue per flavor** using the `AVG()` function.\r\n",
    "5. **Sort flavors by sales** in descending order using `ORy anything!\r\n"
   ]
  },
  {
   "cell_type": "markdown",
   "id": "710945f1-957e-4fd7-971b-01f77ce2a274",
   "metadata": {},
   "source": [
    "# **Step 6: Performing JOIN Queries**\n",
    "\n",
    "In this section, we’ll perform SQL **JOIN** queries to combine data from the `sales` table and the `flavor_details` table. JOINs allow us to retrieve related data from multiple tables in a single query.\n",
    "\n",
    "---\n",
    "\n",
    "### **1. Join Sales and Flavor Details to Get Full Information**\n",
    "\n",
    "Let’s perform an **INNER JOIN** to combine the sales data with additional flavor details like category and supplier.\n",
    "\n",
    "\n"
   ]
  },
  {
   "cell_type": "code",
   "execution_count": 148,
   "id": "a1b04809-fc10-4b51-aa76-d168ca61f594",
   "metadata": {},
   "outputs": [
    {
     "name": "stdout",
     "output_type": "stream",
     "text": [
      "Joined sales and flavor details:\n",
      "('Vanilla', 100, 200, 'Classic', 'Supplier A')\n",
      "('Chocolate', 150, 300, 'Classic', 'Supplier B')\n",
      "('Strawberry', 80, 160, 'Premium', 'Supplier C')\n",
      "('Mint', 70, 140, 'Classic', 'Supplier A')\n",
      "('Cookie Dough', 120, 240, 'Premium', 'Supplier B')\n"
     ]
    }
   ],
   "source": [
    "\n",
    "# Perform a JOIN query between sales and flavor_details\n",
    "cursor.execute('''\n",
    "SELECT sales.flavor, sales.sales, sales.revenue, flavor_details.category, flavor_details.supplier\n",
    "FROM sales\n",
    "JOIN flavor_details ON sales.flavor = flavor_details.flavor\n",
    "''')\n",
    "\n",
    "# Fetch and display the results\n",
    "joined_data = cursor.fetchall()\n",
    "\n",
    "print(\"Joined sales and flavor details:\")\n",
    "for row in joined_data:\n",
    "    print(row)\n",
    "    "
   ]
  },
  {
   "cell_type": "code",
   "execution_count": 128,
   "id": "6dc1bce1-aa17-4ec2-82ab-e6445b9ce775",
   "metadata": {},
   "outputs": [
    {
     "data": {
      "text/html": [
       "<div>\n",
       "<style scoped>\n",
       "    .dataframe tbody tr th:only-of-type {\n",
       "        vertical-align: middle;\n",
       "    }\n",
       "\n",
       "    .dataframe tbody tr th {\n",
       "        vertical-align: top;\n",
       "    }\n",
       "\n",
       "    .dataframe thead th {\n",
       "        text-align: right;\n",
       "    }\n",
       "</style>\n",
       "<table border=\"1\" class=\"dataframe\">\n",
       "  <thead>\n",
       "    <tr style=\"text-align: right;\">\n",
       "      <th></th>\n",
       "      <th>id</th>\n",
       "      <th>flavor</th>\n",
       "      <th>sales</th>\n",
       "      <th>revenue</th>\n",
       "    </tr>\n",
       "  </thead>\n",
       "  <tbody>\n",
       "    <tr>\n",
       "      <th>0</th>\n",
       "      <td>1</td>\n",
       "      <td>Vanilla</td>\n",
       "      <td>100</td>\n",
       "      <td>200</td>\n",
       "    </tr>\n",
       "    <tr>\n",
       "      <th>1</th>\n",
       "      <td>2</td>\n",
       "      <td>Chocolate</td>\n",
       "      <td>150</td>\n",
       "      <td>300</td>\n",
       "    </tr>\n",
       "    <tr>\n",
       "      <th>2</th>\n",
       "      <td>3</td>\n",
       "      <td>Strawberry</td>\n",
       "      <td>80</td>\n",
       "      <td>160</td>\n",
       "    </tr>\n",
       "    <tr>\n",
       "      <th>3</th>\n",
       "      <td>4</td>\n",
       "      <td>Mint</td>\n",
       "      <td>70</td>\n",
       "      <td>140</td>\n",
       "    </tr>\n",
       "    <tr>\n",
       "      <th>4</th>\n",
       "      <td>5</td>\n",
       "      <td>Cookie Dough</td>\n",
       "      <td>120</td>\n",
       "      <td>240</td>\n",
       "    </tr>\n",
       "  </tbody>\n",
       "</table>\n",
       "</div>"
      ],
      "text/plain": [
       "   id        flavor  sales  revenue\n",
       "0   1       Vanilla    100      200\n",
       "1   2     Chocolate    150      300\n",
       "2   3    Strawberry     80      160\n",
       "3   4          Mint     70      140\n",
       "4   5  Cookie Dough    120      240"
      ]
     },
     "execution_count": 128,
     "metadata": {},
     "output_type": "execute_result"
    }
   ],
   "source": [
    "import pandas as pd\n",
    "\n",
    "# Query the sales data into a DataFrame\n",
    "df = pd.read_sql_query('SELECT * FROM sales', connection)\n",
    "\n",
    "# Display the DataFrame\n",
    "df.head()\n"
   ]
  },
  {
   "cell_type": "code",
   "execution_count": 132,
   "id": "e5459e47-69d1-467c-881a-ccb45d114313",
   "metadata": {},
   "outputs": [
    {
     "data": {
      "image/png": "[encoded data removed]",
      "text/plain": [
       "<Figure size 1000x600 with 1 Axes>"
      ]
     },
     "metadata": {},
     "output_type": "display_data"
    },
    {
     "data": {
      "image/png": "[encoded data removed]",
      "text/plain": [
       "<Figure size 1000x600 with 1 Axes>"
      ]
     },
     "metadata": {},
     "output_type": "display_data"
    }
   ],
   "source": [
    "import matplotlib.pyplot as plt\n",
    "\n",
    "# Plot sales data\n",
    "plt.figure(figsize=(10,6))\n",
    "plt.bar(df['flavor'], df['sales'], color='lightgreen')\n",
    "plt.xlabel('Flavor')\n",
    "plt.ylabel('Sales')\n",
    "plt.title('Ice Cream Sales by Flavor')\n",
    "plt.show()\n",
    "\n",
    "# Plot revenue data\n",
    "plt.figure(figsize=(10,6))\n",
    "plt.bar(df['flavor'], df['revenue'], color='lightblue')\n",
    "plt.xlabel('Flavor')\n",
    "plt.ylabel('Revenue')\n",
    "plt.title('Ice Cream Revenue by Flavor')\n",
    "plt.show()\n"
   ]
  },
  {
   "cell_type": "markdown",
   "id": "3983b2f5-05d2-4158-87d6-d146c78d2a3d",
   "metadata": {},
   "source": [
    "# **Step 7: Emptying the Database and Loading Data from a CSV File**\n",
    "\n",
    "---\n",
    "\n",
    "## **1. Emptying the Existing Tables**"
   ]
  },
  {
   "cell_type": "code",
   "execution_count": 134,
   "id": "c46fc1ab-2d27-4311-85be-a3ada7afd79f",
   "metadata": {},
   "outputs": [
    {
     "name": "stdout",
     "output_type": "stream",
     "text": [
      "All data from sales and flavor_details tables has been deleted.\n"
     ]
    }
   ],
   "source": [
    "# Delete all data from the sales and flavor_details tables\n",
    "cursor.execute(\"DELETE FROM sales\")\n",
    "cursor.execute(\"DELETE FROM flavor_details\")\n",
    "connection.commit()\n",
    "\n",
    "print(\"All data from sales and flavor_details tables has been deleted.\")"
   ]
  },
  {
   "cell_type": "markdown",
   "id": "4d2e3786-3a31-4fd3-8c8d-b9d28f0254a5",
   "metadata": {},
   "source": [
    "**Loading Data from a CSV File into a Pandas DataFrame**\n",
    "\n",
    "Let’s assume we have a CSV file containing ice cream sales data. We'll load the data into a Pandas DataFrame and then insert it into the SQLite database."
   ]
  },
  {
   "cell_type": "code",
   "execution_count": 137,
   "id": "0696307a-ffe0-4f76-867c-6a7a5d59c253",
   "metadata": {},
   "outputs": [
    {
     "name": "stdout",
     "output_type": "stream",
     "text": [
      "         Flavor  Sales  Revenue\n",
      "0       Vanilla    100      200\n",
      "1     Chocolate    150      300\n",
      "2    Strawberry     80      160\n",
      "3          Mint     70      140\n",
      "4  Cookie Dough    120      240\n"
     ]
    }
   ],
   "source": [
    "import pandas as pd\n",
    "\n",
    "# Load data from CSV into a DataFrame\n",
    "df_sales = pd.read_csv('ice_cream_sales.csv')\n",
    "\n",
    "# Display the first few rows of the DataFrame\n",
    "print(df_sales.head())\n"
   ]
  },
  {
   "cell_type": "markdown",
   "id": "a0ff6470-dc60-4afc-9132-82d988dbf5fc",
   "metadata": {},
   "source": [
    "**Inserting Data from the DataFrame into the Database**\n",
    "Now that we have the data in a DataFrame, we can insert it into the SQLite database. We’ll use the to_sql() function from Pandas to insert the data directly.\n",
    "\n"
   ]
  },
  {
   "cell_type": "code",
   "execution_count": 140,
   "id": "3d13880d-35fe-41ed-bff7-72bf97269de1",
   "metadata": {},
   "outputs": [
    {
     "name": "stdout",
     "output_type": "stream",
     "text": [
      "Data from CSV has been inserted into the sales table.\n"
     ]
    }
   ],
   "source": [
    "# Insert data from the DataFrame into the sales table\n",
    "df_sales.to_sql('sales', connection, if_exists='replace', index=False)\n",
    "\n",
    "print(\"Data from CSV has been inserted into the sales table.\")\n"
   ]
  },
  {
   "cell_type": "code",
   "execution_count": 142,
   "id": "e6b7ebdd-3a4b-41c7-a38c-3c1f5cc7d7ff",
   "metadata": {},
   "outputs": [
    {
     "name": "stdout",
     "output_type": "stream",
     "text": [
      "All sales data:\n",
      "('Vanilla', 100, 200)\n",
      "('Chocolate', 150, 300)\n",
      "('Strawberry', 80, 160)\n",
      "('Mint', 70, 140)\n",
      "('Cookie Dough', 120, 240)\n"
     ]
    }
   ],
   "source": [
    "\n",
    "# Fetch all data from the sales table\n",
    "cursor.execute(\"SELECT * FROM sales\")\n",
    "rows = cursor.fetchall()\n",
    "\n",
    "# Print the results\n",
    "print(\"All sales data:\")\n",
    "for row in rows:\n",
    "    print(row) "
   ]
  },
  {
   "cell_type": "code",
   "execution_count": 144,
   "id": "d4d6035e-92c9-48e5-b687-d172db0a48a4",
   "metadata": {},
   "outputs": [
    {
     "name": "stdout",
     "output_type": "stream",
     "text": [
      "Data from CSV has been inserted into the flavor_details table.\n"
     ]
    }
   ],
   "source": [
    "# Load flavor details from another CSV file into a DataFrame\n",
    "df_flavor_details = pd.read_csv('flavor_details.csv')\n",
    "\n",
    "# Insert data from the DataFrame into the flavor_details table\n",
    "df_flavor_details.to_sql('flavor_details', connection, if_exists='replace', index=False)\n",
    "\n",
    "print(\"Data from CSV has been inserted into the flavor_details table.\")\n"
   ]
  },
  {
   "cell_type": "code",
   "execution_count": 146,
   "id": "0623e8ee-06ba-499d-b5dd-cc3e098ab35f",
   "metadata": {},
   "outputs": [
    {
     "name": "stdout",
     "output_type": "stream",
     "text": [
      "Sales data:\n",
      "('Vanilla', 100, 200)\n",
      "('Chocolate', 150, 300)\n",
      "('Strawberry', 80, 160)\n",
      "('Mint', 70, 140)\n",
      "('Cookie Dough', 120, 240)\n"
     ]
    }
   ],
   "source": [
    "# Query the sales table to confirm data insertion\n",
    "cursor.execute(\"SELECT * FROM sales\")\n",
    "rows = cursor.fetchall()\n",
    "\n",
    "# Display the data\n",
    "print(\"Sales data:\")\n",
    "for row in rows:\n",
    "    print(row)\n"
   ]
  }
 ],
 "metadata": {
  "kernelspec": {
   "display_name": "Python 3 (ipykernel)",
   "language": "python",
   "name": "python3"
  },
  "language_info": {
   "codemirror_mode": {
    "name": "ipython",
    "version": 3
   },
   "file_extension": ".py",
   "mimetype": "text/x-python",
   "name": "python",
   "nbconvert_exporter": "python",
   "pygments_lexer": "ipython3",
   "version": "3.12.4"
  }
 },
 "nbformat": 4,
 "nbformat_minor": 5
}
