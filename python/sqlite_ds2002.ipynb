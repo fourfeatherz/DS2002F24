{
  "cells": [
    {
      "cell_type": "markdown",
      "id": "209c138b-520f-4a91-b7c7-3d5d0512a6a4",
      "metadata": {
        "id": "209c138b-520f-4a91-b7c7-3d5d0512a6a4"
      },
      "source": [
        "# **Part 1: Introduction to SQLite and Comparisons with Other RDBMS**\n",
        "\n",
        "## **1.1 What is SQLite?**\n",
        "\n",
        "SQLite is a relational database management system (RDBMS) that is embedded into the application that uses it. Unlike other databases, SQLite is serverless, meaning it doesn’t require a separate server process or a service. Instead, the database engine runs as part of the application itself. It is highly portable, making it ideal for applications where simplicity and portability are important.\n",
        "\n",
        "Some features of SQLite include:\n",
        "- **Lightweight and Compact**: The entire database is stored in a single cross-platform disk file.\n",
        "- **Zero Configuration**: It doesn’t need any configuration or setup to get started.\n",
        "- **Cross-Platform**: SQLite databases can be shared between systems with different architectures (e.g., Windows, Linux, macOS).\n",
        "\n",
        "## **1.2 Differences Between SQLite and Other RDBMS (MySQL, SQL Server)**\n",
        "\n",
        "Here is a comparison of SQLite with other popular RDBMS like MySQL and SQL Server:\n",
        "\n",
        "| Feature              | **SQLite**                               | **MySQL**                              | **SQL Server**                        |\n",
        "|----------------------|------------------------------------------|----------------------------------------|---------------------------------------|\n",
        "| **Architecture**      | Serverless, embedded within application  | Client-server model                    | Client-server model                   |\n",
        "| **Concurrency**       | Limited concurrency (single writer)      | Supports many simultaneous connections | Supports many simultaneous connections|\n",
        "| **Scalability**       | Not suited for large-scale applications  | Scalable for large apps                | Highly scalable                       |\n",
        "| **Setup**             | No setup required, built into the app    | Requires server installation           | Requires server installation          |\n",
        "| **Transactions**      | ACID compliant, but lacks fine-grained locking | Fully ACID compliant                   | Fully ACID compliant                  |\n",
        "| **Data Types**        | Dynamic typing                          | Static typing (specific data types)    | Static typing (specific data types)   |\n",
        "| **Storage**           | Single file database                    | Data stored across multiple files      | Data stored across multiple files     |\n",
        "| **Ideal Use Cases**   | Embedded systems, small apps, testing    | Web applications, moderate to large-scale applications | Enterprise-level, large applications  |\n",
        "\n",
        "### **Explanation of the Key Differences**:\n",
        "\n",
        "- **Architecture**: Unlike MySQL and SQL Server, which follow a client-server architecture where the database runs on a server and applications connect to it over a network, SQLite is serverless. The entire database is a single file, and it is embedded directly into the application.\n",
        "  \n",
        "- **Concurrency**: SQLite allows many simultaneous read operations but only one write operation at a time. In contrast, MySQL and SQL Server can handle many concurrent readers and writers, making them better suited for larger, high-traffic applications.\n",
        "  \n",
        "- **Scalability**: While SQLite can handle small to medium-sized applications, it is not ideal for large applications that require heavy concurrency, high availability, or enterprise-level features like replication and load balancing. MySQL and SQL Server, however, are designed to handle such workloads.\n",
        "\n",
        "- **Setup**: SQLite is extremely easy to set up because it doesn’t require any external server. It’s built into the application, so there's no need to install or configure anything. MySQL and SQL Server require server installations and configurations.\n",
        "\n",
        "- **Transactions and Data Integrity**: SQLite is ACID (Atomicity, Consistency, Isolation, Durability) compliant, ensuring data integrity during transactions, but lacks the fine-grained locking mechanisms that MySQL and SQL Server provide for handling highly concurrent writes.\n",
        "\n",
        "- **Data Types**: SQLite uses dynamic typing, which means that data types are not strictly enforced. For example, you could insert a string into an integer field. MySQL and SQL Server use static typing, ensuring that data stored in a column strictly adheres to the defined data type.\n",
        "\n",
        "## **1.3 Limitations of SQLite**\n",
        "\n",
        "While SQLite is powerful and easy to use, it has some key limitations when compared to other RDBMS:\n",
        "\n",
        "1. **Concurrency**: SQLite allows multiple readers but only one writer at a time. This limits its ability to scale to high-concurrency environments, such as web applications with many simultaneous writes.\n",
        "  \n",
        "2. **Size Limitations**: While SQLite databases can grow to be quite large (up to 281 terabytes), performance begins to degrade as the database grows beyond 1TB, making it unsuitable for very large datasets.\n",
        "  \n",
        "3. **No User Management**: Unlike MySQL or SQL Server, which allow you to define users and grant permissions, SQLite does not support user authentication or role-based access control. This makes it less secure in environments with multiple users.\n",
        "  \n",
        "4. **No Stored Procedures or Triggers**: SQLite does not have built-in support for stored procedures or triggers, features commonly used in enterprise databases for complex logic and automation.\n",
        "\n",
        "5. **Limited Data Integrity**: Because of dynamic typing, SQLite does not strictly enforce data types, which can lead to data integrity issues in certain use cases.\n",
        "\n",
        "## **1.4 What is SQLite Really Good For?**\n",
        "\n",
        "Despite its limitations, SQLite has several advantages that make it the right choice for many use cases:\n",
        "\n",
        "- **Mobile Applications**: SQLite is used extensively in mobile applications because it is small, fast, and can easily store local data. Both Android and iOS use SQLite as their default database engine.\n",
        "  \n",
        "- **Embedded Systems**: Devices like TVs, cars, cameras, and other electronics often use SQLite as a lightweight database system for configuration settings and local storage.\n",
        "  \n",
        "- **Testing and Development**: Developers frequently use SQLite as a testing or development database because it’s easy to set up and requires no external dependencies. It allows you to quickly create and manipulate databases without the overhead of a full RDBMS.\n",
        "  \n",
        "- **Browser Data Storage**: Browsers like Mozilla Firefox use SQLite to store local data (e.g., user preferences, history, and cookies). It’s also popular in desktop apps that require simple, local data storage without the complexity of managing a separate server.\n",
        "  \n",
        "- **Data Analysis**: SQLite can be used for small-scale data analysis, as it can store structured data in a simple, self-contained database file that can be queried without any complex setup.\n",
        "\n",
        "---\n",
        "\n",
        "Now that we have a better understanding of SQLite, let’s move on to  But Wait...what is ACID? We didn't talk much about that....creating and interacting with a real-world database example in Part 2!\n"
      ]
    },
    {
      "cell_type": "markdown",
      "id": "ea319368-a2dc-43e1-a7e5-6535e8f44124",
      "metadata": {
        "id": "ea319368-a2dc-43e1-a7e5-6535e8f44124"
      },
      "source": [
        "# **ACID Properties in Databases**\n",
        "\n",
        "ACID is an acronym used to describe the four essential properties that ensure the reliability and integrity of a database system during a transaction. These properties are **Atomicity**, **Consistency**, **Isolation**, and **Durability**.\n",
        "\n",
        "## **1. Atomicity**\n",
        "\n",
        "Atomicity ensures that each transaction is treated as a single, indivisible unit of work. This means that either **all** operations within the transaction are executed successfully, or **none** of them are executed. In case of any error or failure during a transaction, the database must rollback to its previous state, ensuring that partial transactions don’t corrupt the database.\n",
        "\n",
        "- **Example**: If you're transferring money between two accounts, either both the debit and credit operations succeed, or neither happens. If only one operation occurs and the system crashes, the data would become inconsistent.\n",
        "\n",
        "## **2. Consistency**\n",
        "\n",
        "Consistency ensures that a transaction brings the database from one valid state to another, maintaining the predefined rules, constraints, and integrity of the data. After a transaction, the database must remain in a valid state, and any constraints such as primary keys, foreign keys, or unique constraints must still be satisfied.\n",
        "\n",
        "- **Example**: If a bank account's balance cannot go negative, a transaction that attempts to overdraw the account must be rejected. Even if multiple transactions are running, the rules of the system must be followed, ensuring that only valid data persists in the database.\n",
        "\n",
        "## **3. Isolation**\n",
        "\n",
        "Isolation guarantees that concurrent transactions occur independently without interfering with each other. Even if transactions are executed simultaneously, the final outcome should be as if they were executed sequentially. This prevents issues like \"dirty reads\" or \"lost updates,\" where one transaction could read or modify data being used by another transaction.\n",
        "\n",
        "There are multiple levels of isolation, ranging from:\n",
        "- **Read Uncommitted**: Lowest isolation level, allowing dirty reads.\n",
        "- **Serializable**: Highest isolation level, ensuring full isolation but may reduce concurrency.\n",
        "\n",
        "- **Example**: If two users are booking the last seat on a flight at the same time, isolation ensures that only one booking will succeed, preventing double booking.\n",
        "\n",
        "## **4. Durability**\n",
        "\n",
        "Durability guarantees that once a transaction is committed, the changes made by the transaction are permanent, even in the event of a system crash or power failure. The database must ensure that the data is saved to persistent storage (e.g., disk) and can be recovered after a system reboot or crash.\n",
        "\n",
        "- **Example**: If you submit an order on an e-commerce site and the transaction is committed, even if the system crashes immediately after, the order will still be saved and processed once the system is back online.\n",
        "\n",
        "---\n",
        "\n",
        "## **Conclusion**\n",
        "\n",
        "ACID properties are fundamental to ensuring data integrity, reliability, and robustness in a database system. They are especially important for databases that handle financial transactions, user data, and other mission-critical applications. By following the ACID properties, databases ensure that data remains accurate, consistent, and durable in the face of system failures, concurrent transactions, and unforeseen errors.\n"
      ]
    },
    {
      "cell_type": "markdown",
      "id": "ee1269c5-bac1-4362-a41d-da5d3e4be27c",
      "metadata": {
        "id": "ee1269c5-bac1-4362-a41d-da5d3e4be27c"
      },
      "source": [
        "# **Part 2: Setting Up SQLite for the Ice Cream Database**\n",
        "\n",
        "In this section, we'll cover how to set up an SQLite database for the ice cream shop, including creating connections, understanding cursors, and handling database files in both Jupyter notebooks and regular Python scripts.\n",
        "\n",
        "---\n",
        "\n",
        "## **Step 1: Creating a Connection to SQLite**\n",
        "\n",
        "In SQLite, the first thing you need to do is establish a **connection** to the database. The connection serves as the link between your Python code and the SQLite databas and connected!\")\n"
      ]
    },
    {
      "cell_type": "code",
      "execution_count": null,
      "id": "14273944-131d-4495-bb83-e76d7441a090",
      "metadata": {
        "id": "14273944-131d-4495-bb83-e76d7441a090",
        "outputId": "0df517af-7134-410e-f62e-b517b75bf175",
        "colab": {
          "base_uri": "https://localhost:8080/"
        }
      },
      "outputs": [
        {
          "output_type": "stream",
          "name": "stdout",
          "text": [
            "Database created and connected!\n"
          ]
        }
      ],
      "source": [
        "import sqlite3\n",
        "\n",
        "# Create or connect to an SQLite database\n",
        "connection = sqlite3.connect('ice_cream_shop.db')\n",
        "\n",
        "# Check if the connection was successful\n",
        "print(\"Database created and connected!\")"
      ]
    },
    {
      "cell_type": "markdown",
      "id": "d52d8dd1-95a5-422c-8057-be50d267df2d",
      "metadata": {
        "id": "d52d8dd1-95a5-422c-8057-be50d267df2d"
      },
      "source": [
        "\n",
        "The sqlite3.connect() function creates a connection object representing the database.\n",
        "If the file ice_cream_shop.db already exists, SQLite will connect to it. If it doesn’t exist, SQLite will create a new file with that name in the working directory."
      ]
    },
    {
      "cell_type": "markdown",
      "id": "5d14236e-b842-42e3-aa3f-505b7d3b7d7c",
      "metadata": {
        "id": "5d14236e-b842-42e3-aa3f-505b7d3b7d7c"
      },
      "source": [
        "## **Step 2: Understanding the Cursor**\n",
        "\n",
        "Once you've created a connection to the SQLite database, the next thing you'll need is a **cursor** object. The cursor allows you to execute SQL commands and interact with the database.\n",
        "\n"
      ]
    },
    {
      "cell_type": "code",
      "execution_count": null,
      "id": "29599b78-8971-4bb0-b251-bcc4a883f35d",
      "metadata": {
        "id": "29599b78-8971-4bb0-b251-bcc4a883f35d",
        "outputId": "3ee570b1-f9b6-40dc-b186-7a46080fb3a4",
        "colab": {
          "base_uri": "https://localhost:8080/"
        }
      },
      "outputs": [
        {
          "output_type": "stream",
          "name": "stdout",
          "text": [
            "Cursor created!\n"
          ]
        }
      ],
      "source": [
        "# Create a cursor object\n",
        "cursor = connection.cursor()\n",
        "\n",
        "# Explanation\n",
        "print(\"Cursor created!\")"
      ]
    },
    {
      "cell_type": "markdown",
      "id": "57e3e90f-43f3-462c-b422-5e8de6b26084",
      "metadata": {
        "id": "57e3e90f-43f3-462c-b422-5e8de6b26084"
      },
      "source": [
        "**Explanation**:\n",
        "The cursor is like a controller that interacts with the database. It allows you to:\n",
        "Execute SQL queries (e.g., creating tables, inserting data, retrieving records).\n",
        "Fetch results from queries.\n",
        "Without a cursor, your Python code wouldn’t be able to send SQL commands to the database.\n",
        "After you’ve created the cursor, you can start executing SQL commands."
      ]
    },
    {
      "cell_type": "markdown",
      "id": "c3497b9c-5646-4faa-bab8-5ff6a383ddfd",
      "metadata": {
        "id": "c3497b9c-5646-4faa-bab8-5ff6a383ddfd"
      },
      "source": [
        "**Why Do We Need a Cursor?**\n",
        "In SQLite (and other relational databases), the cursor acts as the intermediary between your Python code and the database. It runs SQL queries and fetches results. Think of it as a \"pointer\" that moves through the database.\n",
        "\n",
        "The cursor enables these important functions:\n",
        "\n",
        "- Executing SQL Statements: It allows you to execute SQL statements such as SELECT, INSERT, UPDATE, and DELETE.\n",
        "Fetching Results:\n",
        "- It retrieves the results from a SELECT query, allowing you to process the returned data in your Python code.\n",
        "You must create a cursor for each connection to the database"
      ]
    },
    {
      "cell_type": "markdown",
      "id": "5d1d2fc4-7b29-4dc7-894a-62a03bd2b446",
      "metadata": {
        "id": "5d1d2fc4-7b29-4dc7-894a-62a03bd2b446"
      },
      "source": [
        "**Example: Executing an SQL Query**\n",
        "Let’s use the cursor to create a table for our ice cream sales data:"
      ]
    },
    {
      "cell_type": "code",
      "execution_count": null,
      "id": "64475ebc-d09d-42d7-b1d5-87f724d67cb4",
      "metadata": {
        "id": "64475ebc-d09d-42d7-b1d5-87f724d67cb4",
        "outputId": "4d7da938-4a97-412b-d584-1fd58d42b234",
        "colab": {
          "base_uri": "https://localhost:8080/"
        }
      },
      "outputs": [
        {
          "output_type": "stream",
          "name": "stdout",
          "text": [
            "Sales table created!\n"
          ]
        }
      ],
      "source": [
        "# Create the sales table\n",
        "cursor.execute('''\n",
        "CREATE TABLE IF NOT EXISTS sales (\n",
        "    id INTEGER PRIMARY KEY AUTOINCREMENT,\n",
        "    flavor TEXT NOT NULL,\n",
        "    sales INTEGER,\n",
        "    revenue INTEGER\n",
        ")\n",
        "''')\n",
        "\n",
        "print(\"Sales table created!\")\n"
      ]
    },
    {
      "cell_type": "markdown",
      "id": "b154032a-f7b3-4fd0-a3eb-82252622aa2b",
      "metadata": {
        "id": "b154032a-f7b3-4fd0-a3eb-82252622aa2b"
      },
      "source": [
        "**Explanation:**\n",
        "\n",
        "The SQL statement CREATE TABLE IF NOT EXISTS ensures that the table is only created if it doesn't already exist.\n",
        "The table sales includes four columns:\n",
        "- id: A unique identifier for each record, automatically incremented.\n",
        "- flavor: The flavor of the ice cream (a TEXT field).\n",
        "- sales: The number of ice creams sold.\n",
        "- revenue: The total revenue generated from each flavor.\n",
        "\n",
        "The cursor executes this command to create the sales table in the database.\n",
        "\n",
        "**What Happens If the Table Already Exists?**\n",
        "\n",
        "The **CREATE TABLE IF NOT EXISTS** statement ensures that the table will not be recreated if it already exists in the database. This is useful when you need to rerun your script or notebook without causing errors due to an existing table."
      ]
    },
    {
      "cell_type": "markdown",
      "id": "0c142f10-f212-432b-a91e-72123616f272",
      "metadata": {
        "id": "0c142f10-f212-432b-a91e-72123616f272"
      },
      "source": [
        "**Closing the Cursor**\n",
        "\n",
        "Once you’re done executing SQL commands, it’s a good practice to close the cursor."
      ]
    },
    {
      "cell_type": "code",
      "execution_count": null,
      "id": "84ed0e4a-a864-4324-a3be-b4a3772132a8",
      "metadata": {
        "id": "84ed0e4a-a864-4324-a3be-b4a3772132a8",
        "outputId": "69df772c-fcbd-4102-a3ac-8c2f017ca6fe",
        "colab": {
          "base_uri": "https://localhost:8080/"
        }
      },
      "outputs": [
        {
          "output_type": "stream",
          "name": "stdout",
          "text": [
            "Cursor closed!\n"
          ]
        }
      ],
      "source": [
        "# Close the cursor\n",
        "cursor.close()\n",
        "\n",
        "# Explanation\n",
        "print(\"Cursor closed!\")\n"
      ]
    },
    {
      "cell_type": "markdown",
      "id": "d5584e13-dbd6-437c-a75a-13791726122f",
      "metadata": {
        "id": "d5584e13-dbd6-437c-a75a-13791726122f"
      },
      "source": [
        "\n",
        "\n",
        "## **Step 3: Creating Tables for the Ice Cream Shop**\n",
        "\n",
        "Now that we have a connection and cursor, let’s create the necessary tables for storing ice cream sales data. This table will hold details like the flavor, number of sales, and revenue generated.\n",
        "\n",
        "\n"
      ]
    },
    {
      "cell_type": "code",
      "execution_count": null,
      "id": "31cf0394-f14b-400a-aeb7-ea21bb2c9777",
      "metadata": {
        "id": "31cf0394-f14b-400a-aeb7-ea21bb2c9777",
        "outputId": "9eb1cb23-8c2c-496b-d458-72764cc9b135",
        "colab": {
          "base_uri": "https://localhost:8080/"
        }
      },
      "outputs": [
        {
          "output_type": "stream",
          "name": "stdout",
          "text": [
            "Cursor created!\n",
            "Sales table created!\n"
          ]
        }
      ],
      "source": [
        "# Create the sales table\n",
        "# Create a cursor object\n",
        "cursor = connection.cursor()\n",
        "\n",
        "# Explanation\n",
        "print(\"Cursor created!\")\n",
        "cursor.execute('''\n",
        "CREATE TABLE IF NOT EXISTS sales (\n",
        "    id INTEGER PRIMARY KEY AUTOINCREMENT,\n",
        "    flavor TEXT NOT NULL,\n",
        "    sales INTEGER,\n",
        "    revenue INTEGER\n",
        ")\n",
        "''')\n",
        "\n",
        "print(\"Sales table created!\")"
      ]
    },
    {
      "cell_type": "markdown",
      "id": "46b2cb56-eb28-42a3-a396-d4daf149cba1",
      "metadata": {
        "id": "46b2cb56-eb28-42a3-a396-d4daf149cba1"
      },
      "source": [
        "\n",
        "\n",
        "Let’s create a new table called `flavor_details`, which will store additional information about each ice cream flavor.\n"
      ]
    },
    {
      "cell_type": "code",
      "execution_count": null,
      "id": "739e0ba9-7f08-4920-9a7f-2a4b085efee6",
      "metadata": {
        "id": "739e0ba9-7f08-4920-9a7f-2a4b085efee6",
        "outputId": "90447e43-3c81-46a5-d92a-6a46a88a38be",
        "colab": {
          "base_uri": "https://localhost:8080/"
        }
      },
      "outputs": [
        {
          "output_type": "stream",
          "name": "stdout",
          "text": [
            "Flavor details table created!\n"
          ]
        }
      ],
      "source": [
        "\n",
        "\n",
        "# Create the flavor_details table\n",
        "cursor.execute('''\n",
        "CREATE TABLE IF NOT EXISTS flavor_details (\n",
        "    flavor_id INTEGER PRIMARY KEY AUTOINCREMENT,\n",
        "    flavor TEXT NOT NULL,\n",
        "    category TEXT,\n",
        "    supplier TEXT\n",
        ")\n",
        "''')\n",
        "\n",
        "print(\"Flavor details table created!\")\n"
      ]
    },
    {
      "cell_type": "markdown",
      "id": "ebaf0ecd-2887-492e-83cb-3e60eb6878b0",
      "metadata": {
        "id": "ebaf0ecd-2887-492e-83cb-3e60eb6878b0"
      },
      "source": [
        "Now let's do an insert"
      ]
    },
    {
      "cell_type": "code",
      "execution_count": null,
      "id": "b9123be7-d6a3-4fc9-a51b-512ebcb2aa30",
      "metadata": {
        "id": "b9123be7-d6a3-4fc9-a51b-512ebcb2aa30",
        "outputId": "7796452d-01b8-44ec-bcd8-b5b14e2aab57",
        "colab": {
          "base_uri": "https://localhost:8080/"
        }
      },
      "outputs": [
        {
          "output_type": "stream",
          "name": "stdout",
          "text": [
            "Data inserted into the sales table!\n"
          ]
        }
      ],
      "source": [
        "# Sample data to insert into the sales table\n",
        "sales_data = [\n",
        "    ('Vanilla', 100, 200),\n",
        "    ('Chocolate', 150, 300),\n",
        "    ('Strawberry', 80, 160),\n",
        "    ('Mint', 70, 140),\n",
        "    ('Cookie Dough', 120, 240)\n",
        "]\n",
        "\n",
        "# Insert data into the table\n",
        "cursor.executemany('''\n",
        "INSERT INTO sales (flavor, sales, revenue) VALUES (?, ?, ?)\n",
        "''', sales_data)\n",
        "\n",
        "# Commit the transaction\n",
        "connection.commit()\n",
        "\n",
        "print(\"Data inserted into the sales table!\")\n"
      ]
    },
    {
      "cell_type": "code",
      "execution_count": null,
      "id": "7be11365-6670-4c43-9d3e-fe2951347433",
      "metadata": {
        "id": "7be11365-6670-4c43-9d3e-fe2951347433",
        "outputId": "99b4c0d4-c7c8-4996-ca92-d6b7d6e3c141",
        "colab": {
          "base_uri": "https://localhost:8080/"
        }
      },
      "outputs": [
        {
          "output_type": "stream",
          "name": "stdout",
          "text": [
            "Data inserted into the flavor details table!\n"
          ]
        }
      ],
      "source": [
        "# Sample data for the flavor_details table\n",
        "flavor_details_data = [\n",
        "    ('Vanilla', 'Classic', 'Supplier A'),\n",
        "    ('Chocolate', 'Classic', 'Supplier B'),\n",
        "    ('Strawberry', 'Premium', 'Supplier C'),\n",
        "    ('Mint', 'Classic', 'Supplier A'),\n",
        "    ('Cookie Dough', 'Premium', 'Supplier B')\n",
        "]\n",
        "\n",
        "# Insert data into the flavor_details table\n",
        "cursor.executemany('''\n",
        "INSERT INTO flavor_details (flavor, category, supplier) VALUES (?, ?, ?)\n",
        "''', flavor_details_data)\n",
        "\n",
        "# Commit the transaction\n",
        "connection.commit()\n",
        "\n",
        "print(\"Data inserted into the flavor details table!\")\n"
      ]
    },
    {
      "cell_type": "markdown",
      "id": "87c85991-14b3-415b-94c6-9bae9c9f8609",
      "metadata": {
        "id": "87c85991-14b3-415b-94c6-9bae9c9f8609"
      },
      "source": [
        "**Querying Data in SQLITE**"
      ]
    },
    {
      "cell_type": "markdown",
      "id": "2b4d4185-b06f-4a1f-8243-ff107a3ddd8c",
      "metadata": {
        "id": "2b4d4185-b06f-4a1f-8243-ff107a3ddd8c"
      },
      "source": [
        "## **Step 5: Querying the Data**\n",
        "\n",
        "Once the data is inserted into the `sales` table, we can execute various SQL queries to retrieve and analyze the information. Let’s go through a few examples of queries that provide useful insights.\n",
        "\n",
        "---\n",
        "\n",
        "### **1. Fetch All Data from the Sales Table**\n",
        "\n",
        "\n"
      ]
    },
    {
      "cell_type": "code",
      "execution_count": null,
      "id": "eeb727b1-95df-4c5c-92d2-a4543947acf5",
      "metadata": {
        "id": "eeb727b1-95df-4c5c-92d2-a4543947acf5",
        "outputId": "da938f8a-20c7-4072-e6ff-c33b6bf724a0",
        "colab": {
          "base_uri": "https://localhost:8080/"
        }
      },
      "outputs": [
        {
          "output_type": "stream",
          "name": "stdout",
          "text": [
            "All sales data:\n"
          ]
        }
      ],
      "source": [
        "\n",
        "# Fetch all data from the sales table\n",
        "cursor.execute(\"SELECT * FROM sales\")\n",
        "rows = cursor.fetchall()\n",
        "\n",
        "# Print the results\n",
        "print(\"All sales data:\")\n",
        "for row in rows:\n",
        "    print(row)"
      ]
    },
    {
      "cell_type": "code",
      "execution_count": null,
      "id": "7571863a-8383-46f8-9826-800929cdb424",
      "metadata": {
        "id": "7571863a-8383-46f8-9826-800929cdb424",
        "outputId": "0bd388cf-5693-4ff2-9872-7cfc44ce9879",
        "colab": {
          "base_uri": "https://localhost:8080/"
        }
      },
      "outputs": [
        {
          "output_type": "stream",
          "name": "stdout",
          "text": [
            "Flavor with the highest sales: Chocolate\n"
          ]
        }
      ],
      "source": [
        "# Query for the flavor with the highest sales\n",
        "cursor.execute('''\n",
        "SELECT flavor, MAX(sales) FROM sales\n",
        "''')\n",
        "highest_sales = cursor.fetchone()\n",
        "\n",
        "# Display the result\n",
        "print(f\"Flavor with the highest sales: {highest_sales[0]}\")\n"
      ]
    },
    {
      "cell_type": "markdown",
      "id": "1faf71d6-3b4e-4a79-9096-04858731f33e",
      "metadata": {
        "id": "1faf71d6-3b4e-4a79-9096-04858731f33e"
      },
      "source": [
        "- cursor.fetchall() fetches all the rows returned by the query, and we use a loop to print each row.\n",
        "\n",
        "- The MAX() function in SQL returns the maximum value in a column, which in this case is the highest number of sales.\n",
        "- We use cursor.fetchone() to retrieve the first (and only) result of this query, which gives us the flavor with the most sales.\n",
        "- This query identifies which ice cream flavor has the best performance in terms of sales.\n"
      ]
    },
    {
      "cell_type": "code",
      "execution_count": null,
      "id": "a0a81174-d6f3-4294-b85e-6cc464bcdf4c",
      "metadata": {
        "id": "a0a81174-d6f3-4294-b85e-6cc464bcdf4c",
        "outputId": "b4115ede-f5f0-4da0-f8a1-aae526f790da",
        "colab": {
          "base_uri": "https://localhost:8080/"
        }
      },
      "outputs": [
        {
          "output_type": "stream",
          "name": "stdout",
          "text": [
            "Total revenue: $1040\n"
          ]
        }
      ],
      "source": [
        "# Query for the total revenue\n",
        "cursor.execute('''\n",
        "SELECT SUM(revenue) FROM sales\n",
        "''')\n",
        "total_revenue = cursor.fetchone()[0]\n",
        "\n",
        "# Display the result\n",
        "print(f\"Total revenue: ${total_revenue}\")\n"
      ]
    },
    {
      "cell_type": "markdown",
      "id": "ff53ed06-498e-49b9-adea-4908ddfb6b38",
      "metadata": {
        "id": "ff53ed06-498e-49b9-adea-4908ddfb6b38"
      },
      "source": [
        "- The SUM() function adds up all the values in the revenue column, calculating the total revenue generated by all flavors combined.\n",
        "- We use cursor.fetchone()[0] to get the total revenue since the query returns just one row with one column.\n",
        "- This query provides insight into how much money the ice cream shop has made from all its sales."
      ]
    },
    {
      "cell_type": "code",
      "execution_count": null,
      "id": "36dce074-ae30-4730-bceb-34dedb0e0f76",
      "metadata": {
        "id": "36dce074-ae30-4730-bceb-34dedb0e0f76",
        "outputId": "461f75a5-9586-498c-ab22-ab633b657bba",
        "colab": {
          "base_uri": "https://localhost:8080/"
        }
      },
      "outputs": [
        {
          "output_type": "stream",
          "name": "stdout",
          "text": [
            "Average revenue per flavor: $208.0\n"
          ]
        }
      ],
      "source": [
        "# Query for the average revenue per flavor\n",
        "cursor.execute('''\n",
        "SELECT AVG(revenue) FROM sales\n",
        "''')\n",
        "average_revenue = cursor.fetchone()[0]\n",
        "\n",
        "# Display the result\n",
        "print(f\"Average revenue per flavor: ${average_revenue}\")\n"
      ]
    },
    {
      "cell_type": "code",
      "execution_count": null,
      "id": "e933725d-bb04-4c75-93db-a2a3b9761cde",
      "metadata": {
        "id": "e933725d-bb04-4c75-93db-a2a3b9761cde",
        "outputId": "838cd4b8-90ef-49f4-c9ac-c28202d8b295",
        "colab": {
          "base_uri": "https://localhost:8080/"
        }
      },
      "outputs": [
        {
          "output_type": "stream",
          "name": "stdout",
          "text": [
            "Flavors sorted by sales:\n",
            "Chocolate: 150 sales\n",
            "Cookie Dough: 120 sales\n",
            "Vanilla: 100 sales\n",
            "Strawberry: 80 sales\n",
            "Mint: 70 sales\n"
          ]
        }
      ],
      "source": [
        "# Query to sort flavors by sales in descending order\n",
        "cursor.execute('''\n",
        "SELECT flavor, sales FROM sales ORDER BY sales DESC\n",
        "''')\n",
        "sorted_sales = cursor.fetchall()\n",
        "\n",
        "# Display the results\n",
        "print(\"Flavors sorted by sales:\")\n",
        "for sale in sorted_sales:\n",
        "    print(f\"{sale[0]}: {sale[1]} sales\")\n"
      ]
    },
    {
      "cell_type": "markdown",
      "id": "dce3de4c-8d51-4e7d-a5b6-94b1084d3782",
      "metadata": {
        "id": "dce3de4c-8d51-4e7d-a5b6-94b1084d3782"
      },
      "source": [
        "\n",
        "---\n",
        "\n",
        "### **Summary of Step 5**:\n",
        "\n",
        "This step demonstrates how to:\n",
        "1. **Retrieve all data** from the `sales` table.\n",
        "2. **Find the flavor with the highest sales** using the `MAX()` function.\n",
        "3. **Calculate total revenue** using the `SUM()` function.\n",
        "4. **Find average revenue per flavor** using the `AVG()` function.\n",
        "5. **Sort flavors by sales** in descending order using `ORy anything!\n"
      ]
    },
    {
      "cell_type": "markdown",
      "id": "710945f1-957e-4fd7-971b-01f77ce2a274",
      "metadata": {
        "id": "710945f1-957e-4fd7-971b-01f77ce2a274"
      },
      "source": [
        "# **Step 6: Performing JOIN Queries**\n",
        "\n",
        "In this section, we’ll perform SQL **JOIN** queries to combine data from the `sales` table and the `flavor_details` table. JOINs allow us to retrieve related data from multiple tables in a single query.\n",
        "\n",
        "---\n",
        "\n",
        "### **1. Join Sales and Flavor Details to Get Full Information**\n",
        "\n",
        "Let’s perform an **INNER JOIN** to combine the sales data with additional flavor details like category and supplier.\n",
        "\n",
        "\n"
      ]
    },
    {
      "cell_type": "code",
      "execution_count": null,
      "id": "a1b04809-fc10-4b51-aa76-d168ca61f594",
      "metadata": {
        "id": "a1b04809-fc10-4b51-aa76-d168ca61f594",
        "outputId": "b59e7aa7-ebc8-4de2-c95d-14549b9dd906",
        "colab": {
          "base_uri": "https://localhost:8080/"
        }
      },
      "outputs": [
        {
          "output_type": "stream",
          "name": "stdout",
          "text": [
            "Joined sales and flavor details:\n",
            "('Vanilla', 100, 200, 'Classic', 'Supplier A')\n",
            "('Chocolate', 150, 300, 'Classic', 'Supplier B')\n",
            "('Strawberry', 80, 160, 'Premium', 'Supplier C')\n",
            "('Mint', 70, 140, 'Classic', 'Supplier A')\n",
            "('Cookie Dough', 120, 240, 'Premium', 'Supplier B')\n"
          ]
        }
      ],
      "source": [
        "\n",
        "# Perform a JOIN query between sales and flavor_details\n",
        "cursor.execute('''\n",
        "SELECT sales.flavor, sales.sales, sales.revenue, flavor_details.category, flavor_details.supplier\n",
        "FROM sales\n",
        "JOIN flavor_details ON sales.flavor = flavor_details.flavor\n",
        "''')\n",
        "\n",
        "# Fetch and display the results\n",
        "joined_data = cursor.fetchall()\n",
        "\n",
        "print(\"Joined sales and flavor details:\")\n",
        "for row in joined_data:\n",
        "    print(row)\n"
      ]
    },
    {
      "cell_type": "code",
      "execution_count": null,
      "id": "6dc1bce1-aa17-4ec2-82ab-e6445b9ce775",
      "metadata": {
        "id": "6dc1bce1-aa17-4ec2-82ab-e6445b9ce775",
        "outputId": "0423613c-1389-4bbb-9ad0-7765839eb4ec",
        "colab": {
          "base_uri": "https://localhost:8080/",
          "height": 206
        }
      },
      "outputs": [
        {
          "output_type": "execute_result",
          "data": {
            "text/plain": [
              "   id        flavor  sales  revenue\n",
              "0   1       Vanilla    100      200\n",
              "1   2     Chocolate    150      300\n",
              "2   3    Strawberry     80      160\n",
              "3   4          Mint     70      140\n",
              "4   5  Cookie Dough    120      240"
            ],
            "text/html": [
              "\n",
              "  <div id=\"df-dba9b0a7-401d-4ed5-a0f4-78001c89a1e6\" class=\"colab-df-container\">\n",
              "    <div>\n",
              "<style scoped>\n",
              "    .dataframe tbody tr th:only-of-type {\n",
              "        vertical-align: middle;\n",
              "    }\n",
              "\n",
              "    .dataframe tbody tr th {\n",
              "        vertical-align: top;\n",
              "    }\n",
              "\n",
              "    .dataframe thead th {\n",
              "        text-align: right;\n",
              "    }\n",
              "</style>\n",
              "<table border=\"1\" class=\"dataframe\">\n",
              "  <thead>\n",
              "    <tr style=\"text-align: right;\">\n",
              "      <th></th>\n",
              "      <th>id</th>\n",
              "      <th>flavor</th>\n",
              "      <th>sales</th>\n",
              "      <th>revenue</th>\n",
              "    </tr>\n",
              "  </thead>\n",
              "  <tbody>\n",
              "    <tr>\n",
              "      <th>0</th>\n",
              "      <td>1</td>\n",
              "      <td>Vanilla</td>\n",
              "      <td>100</td>\n",
              "      <td>200</td>\n",
              "    </tr>\n",
              "    <tr>\n",
              "      <th>1</th>\n",
              "      <td>2</td>\n",
              "      <td>Chocolate</td>\n",
              "      <td>150</td>\n",
              "      <td>300</td>\n",
              "    </tr>\n",
              "    <tr>\n",
              "      <th>2</th>\n",
              "      <td>3</td>\n",
              "      <td>Strawberry</td>\n",
              "      <td>80</td>\n",
              "      <td>160</td>\n",
              "    </tr>\n",
              "    <tr>\n",
              "      <th>3</th>\n",
              "      <td>4</td>\n",
              "      <td>Mint</td>\n",
              "      <td>70</td>\n",
              "      <td>140</td>\n",
              "    </tr>\n",
              "    <tr>\n",
              "      <th>4</th>\n",
              "      <td>5</td>\n",
              "      <td>Cookie Dough</td>\n",
              "      <td>120</td>\n",
              "      <td>240</td>\n",
              "    </tr>\n",
              "  </tbody>\n",
              "</table>\n",
              "</div>\n",
              "    <div class=\"colab-df-buttons\">\n",
              "\n",
              "  <div class=\"colab-df-container\">\n",
              "    <button class=\"colab-df-convert\" onclick=\"convertToInteractive('df-dba9b0a7-401d-4ed5-a0f4-78001c89a1e6')\"\n",
              "            title=\"Convert this dataframe to an interactive table.\"\n",
              "            style=\"display:none;\">\n",
              "\n",
              "  <svg xmlns=\"http://www.w3.org/2000/svg\" height=\"24px\" viewBox=\"0 -960 960 960\">\n",
              "    <path d=\"M120-120v-720h720v720H120Zm60-500h600v-160H180v160Zm220 220h160v-160H400v160Zm0 220h160v-160H400v160ZM180-400h160v-160H180v160Zm440 0h160v-160H620v160ZM180-180h160v-160H180v160Zm440 0h160v-160H620v160Z\"/>\n",
              "  </svg>\n",
              "    </button>\n",
              "\n",
              "  <style>\n",
              "    .colab-df-container {\n",
              "      display:flex;\n",
              "      gap: 12px;\n",
              "    }\n",
              "\n",
              "    .colab-df-convert {\n",
              "      background-color: #E8F0FE;\n",
              "      border: none;\n",
              "      border-radius: 50%;\n",
              "      cursor: pointer;\n",
              "      display: none;\n",
              "      fill: #1967D2;\n",
              "      height: 32px;\n",
              "      padding: 0 0 0 0;\n",
              "      width: 32px;\n",
              "    }\n",
              "\n",
              "    .colab-df-convert:hover {\n",
              "      background-color: #E2EBFA;\n",
              "      box-shadow: 0px 1px 2px rgba(60, 64, 67, 0.3), 0px 1px 3px 1px rgba(60, 64, 67, 0.15);\n",
              "      fill: #174EA6;\n",
              "    }\n",
              "\n",
              "    .colab-df-buttons div {\n",
              "      margin-bottom: 4px;\n",
              "    }\n",
              "\n",
              "    [theme=dark] .colab-df-convert {\n",
              "      background-color: #3B4455;\n",
              "      fill: #D2E3FC;\n",
              "    }\n",
              "\n",
              "    [theme=dark] .colab-df-convert:hover {\n",
              "      background-color: #434B5C;\n",
              "      box-shadow: 0px 1px 3px 1px rgba(0, 0, 0, 0.15);\n",
              "      filter: drop-shadow(0px 1px 2px rgba(0, 0, 0, 0.3));\n",
              "      fill: #FFFFFF;\n",
              "    }\n",
              "  </style>\n",
              "\n",
              "    <script>\n",
              "      const buttonEl =\n",
              "        document.querySelector('#df-dba9b0a7-401d-4ed5-a0f4-78001c89a1e6 button.colab-df-convert');\n",
              "      buttonEl.style.display =\n",
              "        google.colab.kernel.accessAllowed ? 'block' : 'none';\n",
              "\n",
              "      async function convertToInteractive(key) {\n",
              "        const element = document.querySelector('#df-dba9b0a7-401d-4ed5-a0f4-78001c89a1e6');\n",
              "        const dataTable =\n",
              "          await google.colab.kernel.invokeFunction('convertToInteractive',\n",
              "                                                    [key], {});\n",
              "        if (!dataTable) return;\n",
              "\n",
              "        const docLinkHtml = 'Like what you see? Visit the ' +\n",
              "          '<a target=\"_blank\" href=https://colab.research.google.com/notebooks/data_table.ipynb>data table notebook</a>'\n",
              "          + ' to learn more about interactive tables.';\n",
              "        element.innerHTML = '';\n",
              "        dataTable['output_type'] = 'display_data';\n",
              "        await google.colab.output.renderOutput(dataTable, element);\n",
              "        const docLink = document.createElement('div');\n",
              "        docLink.innerHTML = docLinkHtml;\n",
              "        element.appendChild(docLink);\n",
              "      }\n",
              "    </script>\n",
              "  </div>\n",
              "\n",
              "\n",
              "<div id=\"df-27aea0e5-6f32-4b3a-98f0-bca38d1c3fe1\">\n",
              "  <button class=\"colab-df-quickchart\" onclick=\"quickchart('df-27aea0e5-6f32-4b3a-98f0-bca38d1c3fe1')\"\n",
              "            title=\"Suggest charts\"\n",
              "            style=\"display:none;\">\n",
              "\n",
              "<svg xmlns=\"http://www.w3.org/2000/svg\" height=\"24px\"viewBox=\"0 0 24 24\"\n",
              "     width=\"24px\">\n",
              "    <g>\n",
              "        <path d=\"M19 3H5c-1.1 0-2 .9-2 2v14c0 1.1.9 2 2 2h14c1.1 0 2-.9 2-2V5c0-1.1-.9-2-2-2zM9 17H7v-7h2v7zm4 0h-2V7h2v10zm4 0h-2v-4h2v4z\"/>\n",
              "    </g>\n",
              "</svg>\n",
              "  </button>\n",
              "\n",
              "<style>\n",
              "  .colab-df-quickchart {\n",
              "      --bg-color: #E8F0FE;\n",
              "      --fill-color: #1967D2;\n",
              "      --hover-bg-color: #E2EBFA;\n",
              "      --hover-fill-color: #174EA6;\n",
              "      --disabled-fill-color: #AAA;\n",
              "      --disabled-bg-color: #DDD;\n",
              "  }\n",
              "\n",
              "  [theme=dark] .colab-df-quickchart {\n",
              "      --bg-color: #3B4455;\n",
              "      --fill-color: #D2E3FC;\n",
              "      --hover-bg-color: #434B5C;\n",
              "      --hover-fill-color: #FFFFFF;\n",
              "      --disabled-bg-color: #3B4455;\n",
              "      --disabled-fill-color: #666;\n",
              "  }\n",
              "\n",
              "  .colab-df-quickchart {\n",
              "    background-color: var(--bg-color);\n",
              "    border: none;\n",
              "    border-radius: 50%;\n",
              "    cursor: pointer;\n",
              "    display: none;\n",
              "    fill: var(--fill-color);\n",
              "    height: 32px;\n",
              "    padding: 0;\n",
              "    width: 32px;\n",
              "  }\n",
              "\n",
              "  .colab-df-quickchart:hover {\n",
              "    background-color: var(--hover-bg-color);\n",
              "    box-shadow: 0 1px 2px rgba(60, 64, 67, 0.3), 0 1px 3px 1px rgba(60, 64, 67, 0.15);\n",
              "    fill: var(--button-hover-fill-color);\n",
              "  }\n",
              "\n",
              "  .colab-df-quickchart-complete:disabled,\n",
              "  .colab-df-quickchart-complete:disabled:hover {\n",
              "    background-color: var(--disabled-bg-color);\n",
              "    fill: var(--disabled-fill-color);\n",
              "    box-shadow: none;\n",
              "  }\n",
              "\n",
              "  .colab-df-spinner {\n",
              "    border: 2px solid var(--fill-color);\n",
              "    border-color: transparent;\n",
              "    border-bottom-color: var(--fill-color);\n",
              "    animation:\n",
              "      spin 1s steps(1) infinite;\n",
              "  }\n",
              "\n",
              "  @keyframes spin {\n",
              "    0% {\n",
              "      border-color: transparent;\n",
              "      border-bottom-color: var(--fill-color);\n",
              "      border-left-color: var(--fill-color);\n",
              "    }\n",
              "    20% {\n",
              "      border-color: transparent;\n",
              "      border-left-color: var(--fill-color);\n",
              "      border-top-color: var(--fill-color);\n",
              "    }\n",
              "    30% {\n",
              "      border-color: transparent;\n",
              "      border-left-color: var(--fill-color);\n",
              "      border-top-color: var(--fill-color);\n",
              "      border-right-color: var(--fill-color);\n",
              "    }\n",
              "    40% {\n",
              "      border-color: transparent;\n",
              "      border-right-color: var(--fill-color);\n",
              "      border-top-color: var(--fill-color);\n",
              "    }\n",
              "    60% {\n",
              "      border-color: transparent;\n",
              "      border-right-color: var(--fill-color);\n",
              "    }\n",
              "    80% {\n",
              "      border-color: transparent;\n",
              "      border-right-color: var(--fill-color);\n",
              "      border-bottom-color: var(--fill-color);\n",
              "    }\n",
              "    90% {\n",
              "      border-color: transparent;\n",
              "      border-bottom-color: var(--fill-color);\n",
              "    }\n",
              "  }\n",
              "</style>\n",
              "\n",
              "  <script>\n",
              "    async function quickchart(key) {\n",
              "      const quickchartButtonEl =\n",
              "        document.querySelector('#' + key + ' button');\n",
              "      quickchartButtonEl.disabled = true;  // To prevent multiple clicks.\n",
              "      quickchartButtonEl.classList.add('colab-df-spinner');\n",
              "      try {\n",
              "        const charts = await google.colab.kernel.invokeFunction(\n",
              "            'suggestCharts', [key], {});\n",
              "      } catch (error) {\n",
              "        console.error('Error during call to suggestCharts:', error);\n",
              "      }\n",
              "      quickchartButtonEl.classList.remove('colab-df-spinner');\n",
              "      quickchartButtonEl.classList.add('colab-df-quickchart-complete');\n",
              "    }\n",
              "    (() => {\n",
              "      let quickchartButtonEl =\n",
              "        document.querySelector('#df-27aea0e5-6f32-4b3a-98f0-bca38d1c3fe1 button');\n",
              "      quickchartButtonEl.style.display =\n",
              "        google.colab.kernel.accessAllowed ? 'block' : 'none';\n",
              "    })();\n",
              "  </script>\n",
              "</div>\n",
              "\n",
              "    </div>\n",
              "  </div>\n"
            ],
            "application/vnd.google.colaboratory.intrinsic+json": {
              "type": "dataframe",
              "variable_name": "df",
              "summary": "{\n  \"name\": \"df\",\n  \"rows\": 5,\n  \"fields\": [\n    {\n      \"column\": \"id\",\n      \"properties\": {\n        \"dtype\": \"number\",\n        \"std\": 1,\n        \"min\": 1,\n        \"max\": 5,\n        \"num_unique_values\": 5,\n        \"samples\": [\n          2,\n          5,\n          3\n        ],\n        \"semantic_type\": \"\",\n        \"description\": \"\"\n      }\n    },\n    {\n      \"column\": \"flavor\",\n      \"properties\": {\n        \"dtype\": \"string\",\n        \"num_unique_values\": 5,\n        \"samples\": [\n          \"Chocolate\",\n          \"Cookie Dough\",\n          \"Strawberry\"\n        ],\n        \"semantic_type\": \"\",\n        \"description\": \"\"\n      }\n    },\n    {\n      \"column\": \"sales\",\n      \"properties\": {\n        \"dtype\": \"number\",\n        \"std\": 32,\n        \"min\": 70,\n        \"max\": 150,\n        \"num_unique_values\": 5,\n        \"samples\": [\n          150,\n          120,\n          80\n        ],\n        \"semantic_type\": \"\",\n        \"description\": \"\"\n      }\n    },\n    {\n      \"column\": \"revenue\",\n      \"properties\": {\n        \"dtype\": \"number\",\n        \"std\": 64,\n        \"min\": 140,\n        \"max\": 300,\n        \"num_unique_values\": 5,\n        \"samples\": [\n          300,\n          240,\n          160\n        ],\n        \"semantic_type\": \"\",\n        \"description\": \"\"\n      }\n    }\n  ]\n}"
            }
          },
          "metadata": {},
          "execution_count": 15
        }
      ],
      "source": [
        "import pandas as pd\n",
        "\n",
        "# Query the sales data into a DataFrame\n",
        "df = pd.read_sql_query('SELECT * FROM sales', connection)\n",
        "\n",
        "# Display the DataFrame\n",
        "df.head()\n"
      ]
    },
    {
      "cell_type": "code",
      "execution_count": null,
      "id": "e5459e47-69d1-467c-881a-ccb45d114313",
      "metadata": {
        "id": "e5459e47-69d1-467c-881a-ccb45d114313",
        "outputId": "2a5c4cd1-4c49-41e3-932e-95466cd7eb5a",
        "colab": {
          "base_uri": "https://localhost:8080/",
          "height": 1000
        }
      },
      "outputs": [
        {
          "output_type": "display_data",
          "data": {
            "text/plain": [
              "<Figure size 1000x600 with 1 Axes>"
            ],
            "image/png": "[encoded data removed]"
          },
          "metadata": {}
        },
        {
          "output_type": "display_data",
          "data": {
            "text/plain": [
              "<Figure size 1000x600 with 1 Axes>"
            ],
            "image/png": "[encoded data removed]"
          },
          "metadata": {}
        }
      ],
      "source": [
        "import matplotlib.pyplot as plt\n",
        "\n",
        "# Plot sales data\n",
        "plt.figure(figsize=(10,6))\n",
        "plt.bar(df['flavor'], df['sales'], color='lightgreen')\n",
        "plt.xlabel('Flavor')\n",
        "plt.ylabel('Sales')\n",
        "plt.title('Ice Cream Sales by Flavor')\n",
        "plt.show()\n",
        "\n",
        "# Plot revenue data\n",
        "plt.figure(figsize=(10,6))\n",
        "plt.bar(df['flavor'], df['revenue'], color='lightblue')\n",
        "plt.xlabel('Flavor')\n",
        "plt.ylabel('Revenue')\n",
        "plt.title('Ice Cream Revenue by Flavor')\n",
        "plt.show()\n"
      ]
    },
    {
      "cell_type": "markdown",
      "id": "3983b2f5-05d2-4158-87d6-d146c78d2a3d",
      "metadata": {
        "id": "3983b2f5-05d2-4158-87d6-d146c78d2a3d"
      },
      "source": [
        "# **Step 7: Emptying the Database and Loading Data from a CSV File**\n",
        "\n",
        "---\n",
        "\n",
        "## **1. Emptying the Existing Tables**"
      ]
    },
    {
      "cell_type": "code",
      "execution_count": null,
      "id": "c46fc1ab-2d27-4311-85be-a3ada7afd79f",
      "metadata": {
        "id": "c46fc1ab-2d27-4311-85be-a3ada7afd79f",
        "outputId": "f337a6de-4995-4982-c401-2d0525624ca4",
        "colab": {
          "base_uri": "https://localhost:8080/"
        }
      },
      "outputs": [
        {
          "output_type": "stream",
          "name": "stdout",
          "text": [
            "All data from sales and flavor_details tables has been deleted.\n"
          ]
        }
      ],
      "source": [
        "# Delete all data from the sales and flavor_details tables\n",
        "cursor.execute(\"DELETE FROM sales\")\n",
        "cursor.execute(\"DELETE FROM flavor_details\")\n",
        "connection.commit()\n",
        "\n",
        "print(\"All data from sales and flavor_details tables has been deleted.\")"
      ]
    },
    {
      "cell_type": "markdown",
      "id": "4d2e3786-3a31-4fd3-8c8d-b9d28f0254a5",
      "metadata": {
        "id": "4d2e3786-3a31-4fd3-8c8d-b9d28f0254a5"
      },
      "source": [
        "**Loading Data from a CSV File into a Pandas DataFrame**\n",
        "\n",
        "Let’s assume we have a CSV file containing ice cream sales data. We'll load the data into a Pandas DataFrame and then insert it into the SQLite database."
      ]
    },
    {
      "cell_type": "code",
      "execution_count": null,
      "id": "0696307a-ffe0-4f76-867c-6a7a5d59c253",
      "metadata": {
        "id": "0696307a-ffe0-4f76-867c-6a7a5d59c253",
        "outputId": "442273fe-4828-466a-ed2b-4094e6b87fdd",
        "colab": {
          "base_uri": "https://localhost:8080/",
          "height": 382
        }
      },
      "outputs": [
        {
          "output_type": "error",
          "ename": "FileNotFoundError",
          "evalue": "[Errno 2] No such file or directory: 'ice_cream_sales.csv'",
          "traceback": [
            "\u001b[0;31m---------------------------------------------------------------------------\u001b[0m",
            "\u001b[0;31mFileNotFoundError\u001b[0m                         Traceback (most recent call last)",
            "\u001b[0;32m<ipython-input-18-1cf15cfd11c7>\u001b[0m in \u001b[0;36m<cell line: 4>\u001b[0;34m()\u001b[0m\n\u001b[1;32m      2\u001b[0m \u001b[0;34m\u001b[0m\u001b[0m\n\u001b[1;32m      3\u001b[0m \u001b[0;31m# Load data from CSV into a DataFrame\u001b[0m\u001b[0;34m\u001b[0m\u001b[0;34m\u001b[0m\u001b[0m\n\u001b[0;32m----> 4\u001b[0;31m \u001b[0mdf_sales\u001b[0m \u001b[0;34m=\u001b[0m \u001b[0mpd\u001b[0m\u001b[0;34m.\u001b[0m\u001b[0mread_csv\u001b[0m\u001b[0;34m(\u001b[0m\u001b[0;34m'ice_cream_sales.csv'\u001b[0m\u001b[0;34m)\u001b[0m\u001b[0;34m\u001b[0m\u001b[0;34m\u001b[0m\u001b[0m\n\u001b[0m\u001b[1;32m      5\u001b[0m \u001b[0;34m\u001b[0m\u001b[0m\n\u001b[1;32m      6\u001b[0m \u001b[0;31m# Display the first few rows of the DataFrame\u001b[0m\u001b[0;34m\u001b[0m\u001b[0;34m\u001b[0m\u001b[0m\n",
            "\u001b[0;32m/usr/local/lib/python3.10/dist-packages/pandas/io/parsers/readers.py\u001b[0m in \u001b[0;36mread_csv\u001b[0;34m(filepath_or_buffer, sep, delimiter, header, names, index_col, usecols, dtype, engine, converters, true_values, false_values, skipinitialspace, skiprows, skipfooter, nrows, na_values, keep_default_na, na_filter, verbose, skip_blank_lines, parse_dates, infer_datetime_format, keep_date_col, date_parser, date_format, dayfirst, cache_dates, iterator, chunksize, compression, thousands, decimal, lineterminator, quotechar, quoting, doublequote, escapechar, comment, encoding, encoding_errors, dialect, on_bad_lines, delim_whitespace, low_memory, memory_map, float_precision, storage_options, dtype_backend)\u001b[0m\n\u001b[1;32m    946\u001b[0m     \u001b[0mkwds\u001b[0m\u001b[0;34m.\u001b[0m\u001b[0mupdate\u001b[0m\u001b[0;34m(\u001b[0m\u001b[0mkwds_defaults\u001b[0m\u001b[0;34m)\u001b[0m\u001b[0;34m\u001b[0m\u001b[0;34m\u001b[0m\u001b[0m\n\u001b[1;32m    947\u001b[0m \u001b[0;34m\u001b[0m\u001b[0m\n\u001b[0;32m--> 948\u001b[0;31m     \u001b[0;32mreturn\u001b[0m \u001b[0m_read\u001b[0m\u001b[0;34m(\u001b[0m\u001b[0mfilepath_or_buffer\u001b[0m\u001b[0;34m,\u001b[0m \u001b[0mkwds\u001b[0m\u001b[0;34m)\u001b[0m\u001b[0;34m\u001b[0m\u001b[0;34m\u001b[0m\u001b[0m\n\u001b[0m\u001b[1;32m    949\u001b[0m \u001b[0;34m\u001b[0m\u001b[0m\n\u001b[1;32m    950\u001b[0m \u001b[0;34m\u001b[0m\u001b[0m\n",
            "\u001b[0;32m/usr/local/lib/python3.10/dist-packages/pandas/io/parsers/readers.py\u001b[0m in \u001b[0;36m_read\u001b[0;34m(filepath_or_buffer, kwds)\u001b[0m\n\u001b[1;32m    609\u001b[0m \u001b[0;34m\u001b[0m\u001b[0m\n\u001b[1;32m    610\u001b[0m     \u001b[0;31m# Create the parser.\u001b[0m\u001b[0;34m\u001b[0m\u001b[0;34m\u001b[0m\u001b[0m\n\u001b[0;32m--> 611\u001b[0;31m     \u001b[0mparser\u001b[0m \u001b[0;34m=\u001b[0m \u001b[0mTextFileReader\u001b[0m\u001b[0;34m(\u001b[0m\u001b[0mfilepath_or_buffer\u001b[0m\u001b[0;34m,\u001b[0m \u001b[0;34m**\u001b[0m\u001b[0mkwds\u001b[0m\u001b[0;34m)\u001b[0m\u001b[0;34m\u001b[0m\u001b[0;34m\u001b[0m\u001b[0m\n\u001b[0m\u001b[1;32m    612\u001b[0m \u001b[0;34m\u001b[0m\u001b[0m\n\u001b[1;32m    613\u001b[0m     \u001b[0;32mif\u001b[0m \u001b[0mchunksize\u001b[0m \u001b[0;32mor\u001b[0m \u001b[0miterator\u001b[0m\u001b[0;34m:\u001b[0m\u001b[0;34m\u001b[0m\u001b[0;34m\u001b[0m\u001b[0m\n",
            "\u001b[0;32m/usr/local/lib/python3.10/dist-packages/pandas/io/parsers/readers.py\u001b[0m in \u001b[0;36m__init__\u001b[0;34m(self, f, engine, **kwds)\u001b[0m\n\u001b[1;32m   1446\u001b[0m \u001b[0;34m\u001b[0m\u001b[0m\n\u001b[1;32m   1447\u001b[0m         \u001b[0mself\u001b[0m\u001b[0;34m.\u001b[0m\u001b[0mhandles\u001b[0m\u001b[0;34m:\u001b[0m \u001b[0mIOHandles\u001b[0m \u001b[0;34m|\u001b[0m \u001b[0;32mNone\u001b[0m \u001b[0;34m=\u001b[0m \u001b[0;32mNone\u001b[0m\u001b[0;34m\u001b[0m\u001b[0;34m\u001b[0m\u001b[0m\n\u001b[0;32m-> 1448\u001b[0;31m         \u001b[0mself\u001b[0m\u001b[0;34m.\u001b[0m\u001b[0m_engine\u001b[0m \u001b[0;34m=\u001b[0m \u001b[0mself\u001b[0m\u001b[0;34m.\u001b[0m\u001b[0m_make_engine\u001b[0m\u001b[0;34m(\u001b[0m\u001b[0mf\u001b[0m\u001b[0;34m,\u001b[0m \u001b[0mself\u001b[0m\u001b[0;34m.\u001b[0m\u001b[0mengine\u001b[0m\u001b[0;34m)\u001b[0m\u001b[0;34m\u001b[0m\u001b[0;34m\u001b[0m\u001b[0m\n\u001b[0m\u001b[1;32m   1449\u001b[0m \u001b[0;34m\u001b[0m\u001b[0m\n\u001b[1;32m   1450\u001b[0m     \u001b[0;32mdef\u001b[0m \u001b[0mclose\u001b[0m\u001b[0;34m(\u001b[0m\u001b[0mself\u001b[0m\u001b[0;34m)\u001b[0m \u001b[0;34m->\u001b[0m \u001b[0;32mNone\u001b[0m\u001b[0;34m:\u001b[0m\u001b[0;34m\u001b[0m\u001b[0;34m\u001b[0m\u001b[0m\n",
            "\u001b[0;32m/usr/local/lib/python3.10/dist-packages/pandas/io/parsers/readers.py\u001b[0m in \u001b[0;36m_make_engine\u001b[0;34m(self, f, engine)\u001b[0m\n\u001b[1;32m   1703\u001b[0m                 \u001b[0;32mif\u001b[0m \u001b[0;34m\"b\"\u001b[0m \u001b[0;32mnot\u001b[0m \u001b[0;32min\u001b[0m \u001b[0mmode\u001b[0m\u001b[0;34m:\u001b[0m\u001b[0;34m\u001b[0m\u001b[0;34m\u001b[0m\u001b[0m\n\u001b[1;32m   1704\u001b[0m                     \u001b[0mmode\u001b[0m \u001b[0;34m+=\u001b[0m \u001b[0;34m\"b\"\u001b[0m\u001b[0;34m\u001b[0m\u001b[0;34m\u001b[0m\u001b[0m\n\u001b[0;32m-> 1705\u001b[0;31m             self.handles = get_handle(\n\u001b[0m\u001b[1;32m   1706\u001b[0m                 \u001b[0mf\u001b[0m\u001b[0;34m,\u001b[0m\u001b[0;34m\u001b[0m\u001b[0;34m\u001b[0m\u001b[0m\n\u001b[1;32m   1707\u001b[0m                 \u001b[0mmode\u001b[0m\u001b[0;34m,\u001b[0m\u001b[0;34m\u001b[0m\u001b[0;34m\u001b[0m\u001b[0m\n",
            "\u001b[0;32m/usr/local/lib/python3.10/dist-packages/pandas/io/common.py\u001b[0m in \u001b[0;36mget_handle\u001b[0;34m(path_or_buf, mode, encoding, compression, memory_map, is_text, errors, storage_options)\u001b[0m\n\u001b[1;32m    861\u001b[0m         \u001b[0;32mif\u001b[0m \u001b[0mioargs\u001b[0m\u001b[0;34m.\u001b[0m\u001b[0mencoding\u001b[0m \u001b[0;32mand\u001b[0m \u001b[0;34m\"b\"\u001b[0m \u001b[0;32mnot\u001b[0m \u001b[0;32min\u001b[0m \u001b[0mioargs\u001b[0m\u001b[0;34m.\u001b[0m\u001b[0mmode\u001b[0m\u001b[0;34m:\u001b[0m\u001b[0;34m\u001b[0m\u001b[0;34m\u001b[0m\u001b[0m\n\u001b[1;32m    862\u001b[0m             \u001b[0;31m# Encoding\u001b[0m\u001b[0;34m\u001b[0m\u001b[0;34m\u001b[0m\u001b[0m\n\u001b[0;32m--> 863\u001b[0;31m             handle = open(\n\u001b[0m\u001b[1;32m    864\u001b[0m                 \u001b[0mhandle\u001b[0m\u001b[0;34m,\u001b[0m\u001b[0;34m\u001b[0m\u001b[0;34m\u001b[0m\u001b[0m\n\u001b[1;32m    865\u001b[0m                 \u001b[0mioargs\u001b[0m\u001b[0;34m.\u001b[0m\u001b[0mmode\u001b[0m\u001b[0;34m,\u001b[0m\u001b[0;34m\u001b[0m\u001b[0;34m\u001b[0m\u001b[0m\n",
            "\u001b[0;31mFileNotFoundError\u001b[0m: [Errno 2] No such file or directory: 'ice_cream_sales.csv'"
          ]
        }
      ],
      "source": [
        "import pandas as pd\n",
        "\n",
        "# Load data from CSV into a DataFrame\n",
        "df_sales = pd.read_csv('ice_cream_sales.csv')\n",
        "\n",
        "# Display the first few rows of the DataFrame\n",
        "print(df_sales.head())\n"
      ]
    },
    {
      "cell_type": "markdown",
      "id": "a0ff6470-dc60-4afc-9132-82d988dbf5fc",
      "metadata": {
        "id": "a0ff6470-dc60-4afc-9132-82d988dbf5fc"
      },
      "source": [
        "**Inserting Data from the DataFrame into the Database**\n",
        "Now that we have the data in a DataFrame, we can insert it into the SQLite database. We’ll use the to_sql() function from Pandas to insert the data directly.\n",
        "\n"
      ]
    },
    {
      "cell_type": "code",
      "execution_count": 1,
      "id": "3d13880d-35fe-41ed-bff7-72bf97269de1",
      "metadata": {
        "id": "3d13880d-35fe-41ed-bff7-72bf97269de1",
        "colab": {
          "base_uri": "https://localhost:8080/",
          "height": 198
        },
        "outputId": "ad9a5b4d-3123-4408-8144-73c672f37a7e"
      },
      "outputs": [
        {
          "output_type": "error",
          "ename": "NameError",
          "evalue": "name 'df_sales' is not defined",
          "traceback": [
            "\u001b[0;31m---------------------------------------------------------------------------\u001b[0m",
            "\u001b[0;31mNameError\u001b[0m                                 Traceback (most recent call last)",
            "\u001b[0;32m<ipython-input-1-b48a1f47db43>\u001b[0m in \u001b[0;36m<cell line: 2>\u001b[0;34m()\u001b[0m\n\u001b[1;32m      1\u001b[0m \u001b[0;31m# Insert data from the DataFrame into the sales table\u001b[0m\u001b[0;34m\u001b[0m\u001b[0;34m\u001b[0m\u001b[0m\n\u001b[0;32m----> 2\u001b[0;31m \u001b[0mdf_sales\u001b[0m\u001b[0;34m.\u001b[0m\u001b[0mto_sql\u001b[0m\u001b[0;34m(\u001b[0m\u001b[0;34m'sales'\u001b[0m\u001b[0;34m,\u001b[0m \u001b[0mconnection\u001b[0m\u001b[0;34m,\u001b[0m \u001b[0mif_exists\u001b[0m\u001b[0;34m=\u001b[0m\u001b[0;34m'replace'\u001b[0m\u001b[0;34m,\u001b[0m \u001b[0mindex\u001b[0m\u001b[0;34m=\u001b[0m\u001b[0;32mFalse\u001b[0m\u001b[0;34m)\u001b[0m\u001b[0;34m\u001b[0m\u001b[0;34m\u001b[0m\u001b[0m\n\u001b[0m\u001b[1;32m      3\u001b[0m \u001b[0;34m\u001b[0m\u001b[0m\n\u001b[1;32m      4\u001b[0m \u001b[0mprint\u001b[0m\u001b[0;34m(\u001b[0m\u001b[0;34m\"Data from CSV has been inserted into the sales table.\"\u001b[0m\u001b[0;34m)\u001b[0m\u001b[0;34m\u001b[0m\u001b[0;34m\u001b[0m\u001b[0m\n",
            "\u001b[0;31mNameError\u001b[0m: name 'df_sales' is not defined"
          ]
        }
      ],
      "source": [
        "# Insert data from the DataFrame into the sales table\n",
        "df_sales.to_sql('sales', connection, if_exists='replace', index=False)\n",
        "\n",
        "print(\"Data from CSV has been inserted into the sales table.\")\n"
      ]
    },
    {
      "cell_type": "code",
      "execution_count": null,
      "id": "e6b7ebdd-3a4b-41c7-a38c-3c1f5cc7d7ff",
      "metadata": {
        "id": "e6b7ebdd-3a4b-41c7-a38c-3c1f5cc7d7ff"
      },
      "outputs": [],
      "source": [
        "\n",
        "# Fetch all data from the sales table\n",
        "cursor.execute(\"SELECT * FROM sales\")\n",
        "rows = cursor.fetchall()\n",
        "\n",
        "# Print the results\n",
        "print(\"All sales data:\")\n",
        "for row in rows:\n",
        "    print(row)"
      ]
    },
    {
      "cell_type": "code",
      "execution_count": null,
      "id": "d4d6035e-92c9-48e5-b687-d172db0a48a4",
      "metadata": {
        "id": "d4d6035e-92c9-48e5-b687-d172db0a48a4"
      },
      "outputs": [],
      "source": [
        "# Load flavor details from another CSV file into a DataFrame\n",
        "df_flavor_details = pd.read_csv('flavor_details.csv')\n",
        "\n",
        "# Insert data from the DataFrame into the flavor_details table\n",
        "df_flavor_details.to_sql('flavor_details', connection, if_exists='replace', index=False)\n",
        "\n",
        "print(\"Data from CSV has been inserted into the flavor_details table.\")\n"
      ]
    },
    {
      "cell_type": "code",
      "execution_count": null,
      "id": "0623e8ee-06ba-499d-b5dd-cc3e098ab35f",
      "metadata": {
        "id": "0623e8ee-06ba-499d-b5dd-cc3e098ab35f"
      },
      "outputs": [],
      "source": [
        "# Query the sales table to confirm data insertion\n",
        "cursor.execute(\"SELECT * FROM sales\")\n",
        "rows = cursor.fetchall()\n",
        "\n",
        "# Display the data\n",
        "print(\"Sales data:\")\n",
        "for row in rows:\n",
        "    print(row)\n"
      ]
    },
    {
      "cell_type": "markdown",
      "metadata": {
        "id": "H-XuC8hpQNn9"
      },
      "source": [
        "\n",
        "\n",
        "```\n",
        "# This is formatted as code\n",
        "```\n",
        "\n",
        "**SQLITE HW**\n"
      ],
      "id": "H-XuC8hpQNn9"
    },
    {
      "cell_type": "code",
      "execution_count": 1,
      "id": "f8e5c257-e595-43a0-8488-241695fd3366",
      "metadata": {
        "id": "f8e5c257-e595-43a0-8488-241695fd3366"
      },
      "outputs": [],
      "source": [
        "import sqlite3\n",
        "\n",
        "# Connect to the SQLite database\n",
        "connectionhw = sqlite3.connect('student_grades.db')\n",
        "\n",
        "# Create a cursor object\n",
        "cursorhw = connectionhw.cursor()"
      ]
    },
    {
      "cell_type": "code",
      "source": [
        "# Creating student table\n",
        "cursorhw.execute('''\n",
        "CREATE TABLE IF NOT EXISTS students (\n",
        "    student_id INTEGER PRIMARY KEY AUTOINCREMENT,\n",
        "    first_name TEXT NOT NULL,\n",
        "    last_name TEXT NOT NULL\n",
        ")\n",
        "''')\n",
        "\n",
        "# Creating grades table\n",
        "cursorhw.execute('''\n",
        "CREATE TABLE IF NOT EXISTS grades (\n",
        "    grade_id INTEGER PRIMARY KEY AUTOINCREMENT,\n",
        "    student_id INTEGER,\n",
        "    subject TEXT NOT NULL,\n",
        "    grade INTEGER NOT NULL,\n",
        "    FOREIGN KEY (student_id) REFERENCES students(student_id)\n",
        ")\n",
        "''')\n",
        "\n",
        "# Commit the changes\n",
        "connectionhw.commit()"
      ],
      "metadata": {
        "id": "13v28HghRYKf"
      },
      "id": "13v28HghRYKf",
      "execution_count": 2,
      "outputs": []
    },
    {
      "cell_type": "code",
      "source": [
        "# Inputting students data\n",
        "students_data = [\n",
        "    ('Alice', 'Johnson'),\n",
        "    ('Bob', 'Smith'),\n",
        "    ('Carol', 'White'),\n",
        "    ('David', 'Brown'),\n",
        "    ('Eve', 'Davis')\n",
        "]\n",
        "\n",
        "cursorhw.executemany('''\n",
        "INSERT INTO students (first_name, last_name) VALUES (?, ?)\n",
        "''', students_data)\n",
        "\n",
        "connectionhw.commit()"
      ],
      "metadata": {
        "id": "3Im0n7O0RnHS"
      },
      "id": "3Im0n7O0RnHS",
      "execution_count": 4,
      "outputs": []
    },
    {
      "cell_type": "code",
      "source": [
        "grades_data = [\n",
        "    (1, 'Math', 95),\n",
        "    (1, 'English', 88),\n",
        "    (1, 'History', 90),\n",
        "    (2, 'Math', 82),\n",
        "    (2, 'English', 76),\n",
        "    (2, 'History', 85),\n",
        "    (3, 'Math', 90),\n",
        "    (3, 'English', 91),\n",
        "    (3, 'History', 88),\n",
        "    (4, 'Math', 78),\n",
        "    (4, 'English', 85),\n",
        "    (4, 'History', 82),\n",
        "    (5, 'Math', 88),\n",
        "    (5, 'English', 79),\n",
        "    (5, 'History', 84)\n",
        "]\n",
        "\n",
        "cursorhw.executemany('''\n",
        "INSERT INTO grades (student_id, subject, grade) VALUES (?, ?, ?)\n",
        "''', grades_data)\n",
        "\n",
        "connectionhw.commit()"
      ],
      "metadata": {
        "id": "mHsb8-SGSdxb"
      },
      "id": "mHsb8-SGSdxb",
      "execution_count": 7,
      "outputs": []
    },
    {
      "cell_type": "code",
      "source": [
        "cursorhw.execute('''\n",
        "SELECT students.first_name, students.last_name, grades.subject, grades.grade\n",
        "FROM students\n",
        "JOIN grades ON students.student_id = grades.student_id\n",
        "''')\n",
        "\n",
        "joined_datahw = cursorhw.fetchall()\n",
        "\n",
        "print(\"Joined students and grades details:\")\n",
        "for row in joined_datahw:\n",
        "    print(row)"
      ],
      "metadata": {
        "colab": {
          "base_uri": "https://localhost:8080/"
        },
        "id": "H4-ct4LvG2KD",
        "outputId": "2e3510f0-4843-4d35-ce5b-a27cd1fb0126"
      },
      "id": "H4-ct4LvG2KD",
      "execution_count": 6,
      "outputs": [
        {
          "output_type": "stream",
          "name": "stdout",
          "text": [
            "Joined students and grades details:\n",
            "('Alice', 'Johnson', 'Math', 95)\n",
            "('Alice', 'Johnson', 'English', 88)\n",
            "('Alice', 'Johnson', 'History', 90)\n",
            "('Bob', 'Smith', 'Math', 82)\n",
            "('Bob', 'Smith', 'English', 76)\n",
            "('Bob', 'Smith', 'History', 85)\n",
            "('Carol', 'White', 'Math', 90)\n",
            "('Carol', 'White', 'English', 91)\n",
            "('Carol', 'White', 'History', 88)\n",
            "('David', 'Brown', 'Math', 78)\n",
            "('David', 'Brown', 'English', 85)\n",
            "('David', 'Brown', 'History', 82)\n",
            "('Eve', 'Davis', 'Math', 88)\n",
            "('Eve', 'Davis', 'English', 79)\n",
            "('Eve', 'Davis', 'History', 84)\n"
          ]
        }
      ]
    },
    {
      "cell_type": "code",
      "source": [
        "cursorhw.execute('''\n",
        "SELECT students.first_name, students.last_name, AVG(grades.grade) as average_grade\n",
        "FROM students\n",
        "JOIN grades ON students.student_id = grades.student_id\n",
        "GROUP BY students.student_id\n",
        "''')\n",
        "avggrades = cursorhw.fetchall()\n",
        "\n",
        "for row in avggrades:\n",
        "    print(row)"
      ],
      "metadata": {
        "colab": {
          "base_uri": "https://localhost:8080/"
        },
        "id": "4mkstPEH1KIL",
        "outputId": "6e25c9e4-9fc9-4e0a-ac87-3bb7f164978e"
      },
      "id": "4mkstPEH1KIL",
      "execution_count": 8,
      "outputs": [
        {
          "output_type": "stream",
          "name": "stdout",
          "text": [
            "('Alice', 'Johnson', 91.0)\n",
            "('Bob', 'Smith', 81.0)\n",
            "('Carol', 'White', 89.66666666666667)\n",
            "('David', 'Brown', 81.66666666666667)\n",
            "('Eve', 'Davis', 83.66666666666667)\n"
          ]
        }
      ]
    },
    {
      "cell_type": "code",
      "source": [
        "cursorhw.execute('''\n",
        "SELECT students.first_name, students.last_name, AVG(grades.grade) as average_grade\n",
        "FROM students\n",
        "JOIN grades ON students.student_id = grades.student_id\n",
        "GROUP BY students.student_id\n",
        "ORDER BY average_grade DESC\n",
        "LIMIT 1\n",
        "''')\n",
        "highestavggrade = cursorhw.fetchone()[0]\n",
        "\n",
        "print(f\"The student with the highest average grade is: {highestavggrade}\")"
      ],
      "metadata": {
        "colab": {
          "base_uri": "https://localhost:8080/"
        },
        "id": "D6FVjy4Y1tDf",
        "outputId": "ae593a84-02a8-42c2-f6b7-78f747248d91"
      },
      "id": "D6FVjy4Y1tDf",
      "execution_count": 9,
      "outputs": [
        {
          "output_type": "stream",
          "name": "stdout",
          "text": [
            "The student with the highest average grade is: Alice\n"
          ]
        }
      ]
    },
    {
      "cell_type": "code",
      "source": [
        "cursorhw.execute('''\n",
        "SELECT AVG(grade) as average_math_grade\n",
        "FROM grades\n",
        "WHERE subject = 'Math'\n",
        "''')\n",
        "mathavggrade = cursorhw.fetchone()[0]\n",
        "\n",
        "print(f\"The average grade for the math subject is: {mathavggrade}\")"
      ],
      "metadata": {
        "colab": {
          "base_uri": "https://localhost:8080/"
        },
        "id": "1PKmEapQ2NLq",
        "outputId": "5de06fd8-b1b3-4ed8-e63d-2a64ca414e12"
      },
      "id": "1PKmEapQ2NLq",
      "execution_count": 10,
      "outputs": [
        {
          "output_type": "stream",
          "name": "stdout",
          "text": [
            "The average grade for the math subject is: 86.6\n"
          ]
        }
      ]
    },
    {
      "cell_type": "code",
      "source": [
        "cursorhw.execute('''\n",
        "SELECT DISTINCT students.first_name, students.last_name\n",
        "FROM students\n",
        "JOIN grades ON students.student_id = grades.student_id\n",
        "WHERE grades.grade > 90\n",
        "''')\n",
        "gradesabove90 = cursorhw.fetchall()\n",
        "\n",
        "for row in gradesabove90:\n",
        "    print(row)"
      ],
      "metadata": {
        "colab": {
          "base_uri": "https://localhost:8080/"
        },
        "id": "66FUw6st3AJV",
        "outputId": "d4ca49dd-4a61-4cac-9d72-d018559e9cfb"
      },
      "id": "66FUw6st3AJV",
      "execution_count": 11,
      "outputs": [
        {
          "output_type": "stream",
          "name": "stdout",
          "text": [
            "('Alice', 'Johnson')\n",
            "('Carol', 'White')\n"
          ]
        }
      ]
    },
    {
      "cell_type": "code",
      "source": [
        "import pandas as pd\n",
        "students_df = pd.read_sql_query('SELECT * FROM students', connectionhw)\n",
        "grades_df = pd.read_sql_query('SELECT * FROM grades', connectionhw)\n",
        "print(students_df)\n",
        "print(grades_df)"
      ],
      "metadata": {
        "colab": {
          "base_uri": "https://localhost:8080/"
        },
        "id": "n22X-mV63nMo",
        "outputId": "a8c937fe-b267-4123-9715-af9057acf030"
      },
      "id": "n22X-mV63nMo",
      "execution_count": 13,
      "outputs": [
        {
          "output_type": "stream",
          "name": "stdout",
          "text": [
            "   student_id first_name last_name\n",
            "0           1      Alice   Johnson\n",
            "1           2        Bob     Smith\n",
            "2           3      Carol     White\n",
            "3           4      David     Brown\n",
            "4           5        Eve     Davis\n",
            "5           6      Alice   Johnson\n",
            "6           7        Bob     Smith\n",
            "7           8      Carol     White\n",
            "8           9      David     Brown\n",
            "9          10        Eve     Davis\n",
            "    grade_id  student_id  subject  grade\n",
            "0          1           1     Math     95\n",
            "1          2           1  English     88\n",
            "2          3           1  History     90\n",
            "3          4           2     Math     82\n",
            "4          5           2  English     76\n",
            "5          6           2  History     85\n",
            "6          7           3     Math     90\n",
            "7          8           3  English     91\n",
            "8          9           3  History     88\n",
            "9         10           4     Math     78\n",
            "10        11           4  English     85\n",
            "11        12           4  History     82\n",
            "12        13           5     Math     88\n",
            "13        14           5  English     79\n",
            "14        15           5  History     84\n",
            "15        16           1     Math     95\n",
            "16        17           1  English     88\n",
            "17        18           1  History     90\n",
            "18        19           2     Math     82\n",
            "19        20           2  English     76\n",
            "20        21           2  History     85\n",
            "21        22           3     Math     90\n",
            "22        23           3  English     91\n",
            "23        24           3  History     88\n",
            "24        25           4     Math     78\n",
            "25        26           4  English     85\n",
            "26        27           4  History     82\n",
            "27        28           5     Math     88\n",
            "28        29           5  English     79\n",
            "29        30           5  History     84\n"
          ]
        }
      ]
    },
    {
      "cell_type": "code",
      "source": [
        "joined = '''\n",
        "SELECT\n",
        "    students.first_name, students.last_name, grades.subject, grades.grade\n",
        "FROM\n",
        "    students\n",
        "JOIN\n",
        "    grades\n",
        "ON\n",
        "    grades.student_id = grades.student_id\n",
        "'''\n",
        "joined_df = pd.read_sql_query(joined, connectionhw)\n",
        "\n",
        "print(joined_df)"
      ],
      "metadata": {
        "id": "95f2R_7LYbez",
        "outputId": "61fb66bf-fb74-48a5-c9ff-1f40a2e240c6",
        "colab": {
          "base_uri": "https://localhost:8080/"
        }
      },
      "id": "95f2R_7LYbez",
      "execution_count": 14,
      "outputs": [
        {
          "output_type": "stream",
          "name": "stdout",
          "text": [
            "    first_name last_name  subject  grade\n",
            "0        Alice   Johnson     Math     95\n",
            "1          Bob     Smith     Math     95\n",
            "2        Carol     White     Math     95\n",
            "3        David     Brown     Math     95\n",
            "4          Eve     Davis     Math     95\n",
            "..         ...       ...      ...    ...\n",
            "295      Alice   Johnson  History     84\n",
            "296        Bob     Smith  History     84\n",
            "297      Carol     White  History     84\n",
            "298      David     Brown  History     84\n",
            "299        Eve     Davis  History     84\n",
            "\n",
            "[300 rows x 4 columns]\n"
          ]
        }
      ]
    },
    {
      "cell_type": "code",
      "source": [
        "cursorhw.execute(\"DELETE FROM students\")\n",
        "cursorhw.execute(\"DELETE FROM grades\")\n",
        "connectionhw.commit()"
      ],
      "metadata": {
        "id": "8F6THRZXZHoQ"
      },
      "id": "8F6THRZXZHoQ",
      "execution_count": 15,
      "outputs": []
    },
    {
      "cell_type": "code",
      "source": [
        "import matplotlib.pyplot as plt\n",
        "\n",
        "# Calculate average grades for each student\n",
        "avg_grades_df = merged_df.groupby(['first_name', 'last_name'])['grade'].mean().reset_index()\n",
        "avg_grades_df.columns = ['First Name', 'Last Name', 'Average Grade']\n",
        "\n",
        "# Plot average grades for each student\n",
        "plt.figure(figsize=(12, 6))\n",
        "plt.bar(avg_grades_df['First Name'] + ' ' + avg_grades_df['Last Name'], avg_grades_df['Average Grade'], color='skyblue')\n",
        "plt.xlabel('Student')\n",
        "plt.ylabel('Average Grade')\n",
        "plt.title('Average Grades for Each Student')\n",
        "plt.xticks(rotation=45)\n",
        "plt.tight_layout()  # Adjust layout to make room for rotated x-axis labels\n",
        "plt.show()"
      ],
      "metadata": {
        "colab": {
          "base_uri": "https://localhost:8080/",
          "height": 607
        },
        "id": "A-q7xb2_4wh8",
        "outputId": "a017e661-28ca-49c2-a6fe-9d1fd72861aa"
      },
      "id": "A-q7xb2_4wh8",
      "execution_count": 21,
      "outputs": [
        {
          "output_type": "display_data",
          "data": {
            "text/plain": [
              "<Figure size 1200x600 with 1 Axes>"
            ],
            "image/png": "[encoded data removed]"
          },
          "metadata": {}
        }
      ]
    },
    {
      "cell_type": "code",
      "source": [
        "import matplotlib.pyplot as plt\n",
        "\n",
        "# Calculate average grades for each subject\n",
        "avg_subject_grades_df = merged_df.groupby('subject')['grade'].mean().reset_index()\n",
        "avg_subject_grades_df.columns = ['Subject', 'Average Grade']\n",
        "\n",
        "# Plot average grade for each subject\n",
        "plt.figure(figsize=(10, 6))\n",
        "plt.bar(avg_subject_grades_df['Subject'], avg_subject_grades_df['Average Grade'], color='red')\n",
        "plt.xlabel('Subject')\n",
        "plt.ylabel('Average Grade')\n",
        "plt.title('Average Grade for Each Subject')\n",
        "plt.xticks(rotation=45)\n",
        "plt.tight_layout()  # Adjust layout to make room for rotated x-axis labels\n",
        "plt.show()"
      ],
      "metadata": {
        "colab": {
          "base_uri": "https://localhost:8080/",
          "height": 607
        },
        "id": "eiU28BBq5awd",
        "outputId": "52d92815-90bb-4736-9df3-2ff8aef65bff"
      },
      "id": "eiU28BBq5awd",
      "execution_count": 23,
      "outputs": [
        {
          "output_type": "display_data",
          "data": {
            "text/plain": [
              "<Figure size 1000x600 with 1 Axes>"
            ],
            "image/png": "[encoded data removed]"
          },
          "metadata": {}
        }
      ]
    },
    {
      "cell_type": "code",
      "source": [
        "import pandas as pd\n",
        "import sqlite3\n",
        "\n",
        "# Connect to the SQLite database\n",
        "connectionhw = sqlite3.connect('student_grades.db')\n",
        "\n",
        "# Execute the query and load the result into a DataFrame\n",
        "query = '''\n",
        "WITH MaxGrades AS (\n",
        "    SELECT subject, MAX(grade) AS max_grade\n",
        "    FROM grades\n",
        "    GROUP BY subject\n",
        ")\n",
        "SELECT g.subject, s.first_name, s.last_name, g.grade\n",
        "FROM MaxGrades mg\n",
        "JOIN grades g ON mg.subject = g.subject AND mg.max_grade = g.grade\n",
        "JOIN students s ON g.student_id = s.student_id\n",
        "'''\n",
        "\n",
        "highest_grades_df = pd.read_sql_query(query, connectionhw)\n",
        "print(highest_grades_df)\n",
        "import matplotlib.pyplot as plt\n",
        "\n",
        "# Create a grouped bar chart\n",
        "plt.figure(figsize=(12, 6))\n",
        "\n",
        "# Get unique subjects\n",
        "subjects = highest_grades_df['subject'].unique()\n",
        "\n",
        "# Number of subjects\n",
        "n_subjects = len(subjects)\n",
        "\n",
        "# Set positions for the bars\n",
        "bar_width = 0.35\n",
        "index = range(n_subjects)\n",
        "\n",
        "# Plot bars\n",
        "for i, subject in enumerate(subjects):\n",
        "    subset = highest_grades_df[highest_grades_df['subject'] == subject]\n",
        "    plt.bar(index[i] + bar_width, subset['grade'].values[0], bar_width, label=f\"{subset['first_name'].values[0]} {subset['last_name'].values[0]}\")\n",
        "\n",
        "# Customize plot\n",
        "plt.xlabel('Subject')\n",
        "plt.ylabel('Highest Grade')\n",
        "plt.title('Student with the Highest Grade in Each Subject')\n",
        "plt.xticks(index, subjects, rotation=45)\n",
        "plt.legend(title='Top Student')\n",
        "plt.tight_layout()\n",
        "\n",
        "# Show plot\n",
        "plt.show()"
      ],
      "metadata": {
        "colab": {
          "base_uri": "https://localhost:8080/",
          "height": 678
        },
        "id": "MSKVul6f5xdZ",
        "outputId": "1e5f975f-7072-4c9b-b49b-a676dba93675"
      },
      "id": "MSKVul6f5xdZ",
      "execution_count": 24,
      "outputs": [
        {
          "output_type": "stream",
          "name": "stdout",
          "text": [
            "   subject first_name last_name  grade\n",
            "0     Math      Alice   Johnson     95\n",
            "1  History      Alice   Johnson     90\n",
            "2  English      Carol     White     91\n"
          ]
        },
        {
          "output_type": "display_data",
          "data": {
            "text/plain": [
              "<Figure size 1200x600 with 1 Axes>"
            ],
            "image/png": "[encoded data removed]"
          },
          "metadata": {}
        }
      ]
    }
  ],
  "metadata": {
    "kernelspec": {
      "display_name": "Python 3 (ipykernel)",
      "language": "python",
      "name": "python3"
    },
    "language_info": {
      "codemirror_mode": {
        "name": "ipython",
        "version": 3
      },
      "file_extension": ".py",
      "mimetype": "text/x-python",
      "name": "python",
      "nbconvert_exporter": "python",
      "pygments_lexer": "ipython3",
      "version": "3.12.4"
    },
    "colab": {
      "provenance": []
    }
  },
  "nbformat": 4,
  "nbformat_minor": 5
}