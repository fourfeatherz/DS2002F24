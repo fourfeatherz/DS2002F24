{
 "cells": [
  {
   "cell_type": "markdown",
   "id": "d83f95a6",
   "metadata": {},
   "source": [
    "## Python Fundamentals\n",
    "\n",
    "This notebook illustrates basic Python programming functionality.\n",
    "\n",
    "<ol>\n",
    "    <li>Fundamental to any programming language is defining variables and assigning values to them.  Everything is actually an <b>object</b> in Python programming; therefore, datatypes are actually <i>classes</i> and variables are <i>instances</i> of these classes (aka, objects). We illustrate working with variables that hold singular (aka Unary) values, as well as various structures for holding multiple values (e.g., Sets, Lists and Dictionaries). We also illustrate how to reference specific values, or ranges of values, within those multi-value data structures. What's more, since multi-value data structures are inherently <i>enumerable</i>, we also demonstrate the syntax for <i>iterating</i> over the values contained within these structures.</li> \n",
    "    <li>Frequently, it becomes necessary to convert (or cast) variable values between datatypes. Since this frequently occurs between numerical and string datatypes, we demonstrate converting both unary and multi-value data structures.</li> \n",
    "    <li>Finally, when functionality that requires three or more lines of code may be utilized more than once within a program, it is customary to <i>encapsulate</i> that functionality within a <b>function</b> that can subsequntly be <i>called</i> multiple times from arbitrary locations within that program.  We will illustrate the syntax for defining functions, and in doing so, we will also demonstrate how to validate the datatype of the values being entered into those functions, and how to raise errors when those validations fail.</li>\n",
    "</ol>\n",
    "\n",
    "### 1.0. Importing Libraries\n",
    "\n",
    "Because Jupyter Notebooks are linear and incremental in nature, any libraries, variables or functions must first be entered into memory by executing the cell in which they first appear before they will be available for use in any subsequent cells.  It is customary to 'import' any required libraries at the top of the notebook where they can be managed in a singular location."
   ]
  },
  {
   "cell_type": "code",
   "execution_count": 8,
   "id": "4d695ea1",
   "metadata": {},
   "outputs": [],
   "source": [
    "import pandas as pd\n",
    "import numpy as np\n",
    "import numbers"
   ]
  },
  {
   "cell_type": "code",
   "execution_count": null,
   "id": "3d29f847-13df-4c81-a0eb-2ca4c2f8d8c8",
   "metadata": {},
   "outputs": [],
   "source": [
    "!pip install beautifulsoup4\n",
    "import beautifulsoup as bs"
   ]
  },
  {
   "cell_type": "markdown",
   "id": "e3dceb92",
   "metadata": {},
   "source": [
    "### 2.0. Variables: Unary Values\n",
    "\n",
    "Here we demonstrate how to declare and assign value to variables that hold singular (aka unary) values.  These include the three numeric datatypes native to the Python language (integers, floats and complex numbers), as well as strings. The **string** datatype is, in fact, a special datatype called a **sequence** [of characters] that is actually an array of individual bytes where each byte represents an individual Unicode character. The **string** datatype is an ordered collection of one or more characters delimitted by either single quotes, double-quotes, or triple-quotes. Since there is no dedicated character datatype in Python, a single character is actually a **string** having a length of one (1)."
   ]
  },
  {
   "cell_type": "code",
   "execution_count": 43,
   "id": "376ea00f",
   "metadata": {
    "scrolled": true
   },
   "outputs": [
    {
     "name": "stdout",
     "output_type": "stream",
     "text": [
      "The variable 'my_integer' contains the value: 42 and is of datatype: '<class 'int'>'\n",
      "The variable 'my_float' contains the value: 3.14 and is of datatype: '<class 'float'>'\n",
      "The variable 'my_complex' contains the value: (2+4j) and is of datatype: '<class 'complex'>'\n"
     ]
    }
   ],
   "source": [
    "my_integer = 42\n",
    "my_float = 3.14\n",
    "my_complex = 2 + 4j\n",
    "\n",
    "print(f\"The variable 'my_integer' contains the value: {my_integer} and is of datatype: '{type(my_integer)}'\")\n",
    "print(f\"The variable 'my_float' contains the value: {my_float} and is of datatype: '{type(my_float)}'\")\n",
    "print(f\"The variable 'my_complex' contains the value: {my_complex} and is of datatype: '{type(my_complex)}'\")"
   ]
  },
  {
   "cell_type": "code",
   "execution_count": 47,
   "id": "82f87d0a",
   "metadata": {},
   "outputs": [
    {
     "name": "stdout",
     "output_type": "stream",
     "text": [
      "The variable 'my_string' contains the value: 'This is an ordered collection of Unicode characters. Delimited by single-quotes' and is of datatype: '<class 'str'>'\n",
      "The variable 'my_string2' contains the value: 'This is a string delimited by double-quotes.' and is of datatype: '<class 'str'>'\n",
      "The variable 'my_string3' contains the value: 'This illustrates how\n",
      "    triple-quotes can be used to delimit\n",
      "    strings where carriage returns and \n",
      "    other white-space formatting make sense.\n",
      "    For example:\n",
      "    \n",
      "    SELECT first_name\n",
      "        , last_name\n",
      "        , middle_initial\n",
      "        , date_of_birth\n",
      "    FROM customers\n",
      "    WHERE last_name LIKE 'M%';\n",
      "' and is of datatype: '<class 'str'>'\n"
     ]
    }
   ],
   "source": [
    "my_string = 'This is an ordered collection of Unicode characters. Delimited by single-quotes'\n",
    "print(f\"The variable 'my_string' contains the value: '{my_string}' and is of datatype: '{type(my_string)}'\")\n",
    "\n",
    "my_string2 = \"This is a string delimited by double-quotes.\"\n",
    "print(f\"The variable 'my_string2' contains the value: '{my_string2}' and is of datatype: '{type(my_string2)}'\")\n",
    "\n",
    "my_string3 = '''This illustrates how\n",
    "    triple-quotes can be used to delimit\n",
    "    strings where carriage returns and \n",
    "    other white-space formatting make sense.\n",
    "    For example:\n",
    "    \n",
    "    SELECT first_name\n",
    "        , last_name\n",
    "        , middle_initial\n",
    "        , date_of_birth\n",
    "    FROM customers\n",
    "    WHERE last_name LIKE 'M%';\n",
    "'''\n",
    "print(f\"The variable 'my_string3' contains the value: '{my_string3}' and is of datatype: '{type(my_string3)}'\")"
   ]
  },
  {
   "cell_type": "markdown",
   "id": "2e9d1f2b",
   "metadata": {},
   "source": [
    "### 3.0. Multi-Value Variables: Sets, Tuples, Lists  and Dictionaries\n",
    "\n",
    "Here we demonstrate declaring and assigning values to multi-value data structures,  Although Sets, Lists and Tuples appear to be quite similar, they differ in how they behave, and how their contents are stored in system memory.  All three data structures can be used to store heterogeneous data (i.e., a mixture of numeric, character and complex data types).\n",
    "\n",
    "#### 3.1. The Set\n",
    "The data elements within a **Set** are unordered. Therefore, being an unordered collection, a **set** does not record element position or order of insertion, and as a result sets don't support indexing, slicing, or other sequence-like behavior. There are actually two types of **set** native to the Python language: **set** which is mutable, and **frozenset** which is immutable (i.e., its contents cannot be altered).  Because the **set** is mutable, its contents can be changed using methods like **add()** and **remove()**.  What's more, sets disallow duplicate values.\n",
    "\n",
    "<p>*If you pay careful attention to the result of executing the cell below you will notice that duplicate values are ignored and some elements appear in a different order than was specified when the variable was declared and populated.*"
   ]
  },
  {
   "cell_type": "code",
   "execution_count": null,
   "id": "e091e7a6",
   "metadata": {},
   "outputs": [],
   "source": [
    "my_set = {0, 1, 2, 3, 'One', 'Two', 'Three', 0, 1, 2, 3}\n",
    "print(f\"The variable 'my_set' contains the value: '{my_set}' and is of datatype: '{type(my_set)}'\")\n",
    "\n",
    "for i in my_set:\n",
    "    print(i)"
   ]
  },
  {
   "cell_type": "markdown",
   "id": "2de6801f",
   "metadata": {},
   "source": [
    "#### 3.2. The Tuple\n",
    "The data elements within a **Tuple** are ordered, and like the *frozensets*, tuples are immutable. However, unlike the **set** a **tuple** can be used to store duplicate values if needed. "
   ]
  },
  {
   "cell_type": "code",
   "execution_count": null,
   "id": "eac7450b",
   "metadata": {},
   "outputs": [],
   "source": [
    "my_tuple = (0, 1, 2, 3, 'One', 'Two', 'Three', 0, 1, 2, 3)\n",
    "print(f\"The variable 'my_tuple' contains the value: '{my_tuple}' and is of datatype: '{type(my_tuple)}'\")\n",
    "\n",
    "for i in my_tuple:\n",
    "    print(i)"
   ]
  },
  {
   "cell_type": "markdown",
   "id": "464fcdb3",
   "metadata": {},
   "source": [
    "#### 3.3 The List\n",
    "The data elements within a **List** are ordered, and they are mutable.  They are *not* stored in contiguous memory spaces, nor do they pre-allocate any space within system memory upon declaration. A **list** is a double-linked sequence that supports both forward and backward traversal. This structure supports inserting new data elements into specific arbitrary positions within the data structure."
   ]
  },
  {
   "cell_type": "code",
   "execution_count": null,
   "id": "76f9abb4",
   "metadata": {
    "scrolled": true
   },
   "outputs": [],
   "source": [
    "my_list = [1, 2.0, 3.14, 'One', 'Two', 'Three']\n",
    "print(f\"The variable 'my_string' contains the value: '{my_list}' and is of datatype: '{type(my_list)}'\")\n",
    "\n",
    "for item in my_list:\n",
    "    print(f\"Item number: {item}\")"
   ]
  },
  {
   "cell_type": "markdown",
   "id": "4a834950",
   "metadata": {},
   "source": [
    "The following cells illustrate how a **List** can be *indexed* (i.e., elements within the collection can be referenced according to their *position* within the collection).\n",
    "* The first cell illustrates referencing the first *position* in the collection; noting that the array is zero-based.\n",
    "* The second and third cells illustrate referencing a *range* of positions (e.g., the first 3 positions, all the positions after the third).\n",
    "* The fourth cell illustrates referencing the second cell from the upper-bound (i.e., the end) of the collection by specifying a negative value."
   ]
  },
  {
   "cell_type": "code",
   "execution_count": null,
   "id": "34d01609",
   "metadata": {},
   "outputs": [],
   "source": [
    "my_list[0]"
   ]
  },
  {
   "cell_type": "code",
   "execution_count": null,
   "id": "7ba0a638",
   "metadata": {},
   "outputs": [],
   "source": [
    "my_list[:3]"
   ]
  },
  {
   "cell_type": "code",
   "execution_count": null,
   "id": "f01dedce",
   "metadata": {},
   "outputs": [],
   "source": [
    "my_list[3:]"
   ]
  },
  {
   "cell_type": "code",
   "execution_count": null,
   "id": "84cb51a0",
   "metadata": {},
   "outputs": [],
   "source": [
    "my_list[-2]"
   ]
  },
  {
   "cell_type": "markdown",
   "id": "d28782c4",
   "metadata": {},
   "source": [
    "#### 3.4 The Dictionary\n",
    "The data elements within a **Dictionary** are ordered, and like the **set** and **list**, are mutable. The **dictionary** differs in that it is a *Mapping* type. In other words, the **dictionary** *maps* a key to a value.  (For example: 0:\"Zero\", 1:\"One\", 2:\"Two\"). **Dictionaries** preserve insertion order; therefore, updating a key will not affect the order. Keys added after deletion are inserted at the end. "
   ]
  },
  {
   "cell_type": "code",
   "execution_count": null,
   "id": "310715f1",
   "metadata": {
    "scrolled": true
   },
   "outputs": [],
   "source": [
    "my_dictionary = {0 : 'John',\n",
    "                 1 : 'Paul',\n",
    "                 2 : 'George',\n",
    "                 3 : 'Pete',\n",
    "                 4 : 'Ringo'\n",
    "                }\n",
    "\n",
    "print(f\"The variable 'my_dictionary' contains the value: '{my_dictionary}' and is of datatype: '{type(my_dictionary)}'\")\n",
    "\n",
    "for i in my_dictionary:\n",
    "    print(f\"Each Item in My Dictionary Contains a Key {i}, and a Value '{my_dictionary[i]}'\")"
   ]
  },
  {
   "cell_type": "code",
   "execution_count": null,
   "id": "743f967f",
   "metadata": {},
   "outputs": [],
   "source": [
    "my_dictionary[2]"
   ]
  },
  {
   "cell_type": "markdown",
   "id": "6d98de2a",
   "metadata": {},
   "source": [
    "### 4.0. Converting Variables Between Datatypes\n",
    "#### 4.1. Converting Integer Values to Strings, and Strings to Integer Values"
   ]
  },
  {
   "cell_type": "code",
   "execution_count": null,
   "id": "1f199fbb",
   "metadata": {},
   "outputs": [],
   "source": [
    "my_integer = 42\n",
    "print(f\"The Value {my_integer} is of datatype '{type(my_integer)}'\")\n",
    "\n",
    "my_string = str(my_integer)\n",
    "print(f\"The Value {my_string} is of datatype '{type(my_string)}'\")\n",
    "\n",
    "my_integer = int(my_string)\n",
    "print(f\"The Value {my_integer} is of datatype '{type(my_integer)}'\")"
   ]
  },
  {
   "cell_type": "markdown",
   "id": "8ddd9e11",
   "metadata": {},
   "source": [
    "#### 4.2. Converting a List of String Values to a List of Floats, and a List of Floats to a List of Strings "
   ]
  },
  {
   "cell_type": "code",
   "execution_count": null,
   "id": "69c763f1",
   "metadata": {},
   "outputs": [],
   "source": [
    "string_list = ['1.01','2.02','3.03','4.04','5.05']\n",
    "float_list = list(map(float, string_list))\n",
    "\n",
    "print(f\"Converted List is: {float_list}\")\n",
    "\n",
    "for i in float_list:\n",
    "    print(f\"The Value {i} is of datatype '{type(i)}'\")"
   ]
  },
  {
   "cell_type": "code",
   "execution_count": null,
   "id": "1a30bc57",
   "metadata": {},
   "outputs": [],
   "source": [
    "string_list = list(map(str, float_list))\n",
    "\n",
    "print(f\"Converted List is: {string_list}\")\n",
    "\n",
    "for i in string_list:\n",
    "    print(f\"The Value {i} is of datatype '{type(i)}'\")"
   ]
  },
  {
   "cell_type": "markdown",
   "id": "b7d388cc",
   "metadata": {},
   "source": [
    "### 5.0. Creating (Defining) Functions\n",
    "\n",
    "Here we *define* (def) and call two simple functions: **add** and **concatenate**, each of which expect three input parameters. Within each function we validate the expected datatype of those inputs (e.g., *add()* expects numeric data, *concatenate()* expects character *string* data).  We implement this validation using the Python-native *isinstance()* method in concert with the *Number* type of the *numbers* library, and the Python-native *str* datatype specification. When any of the inputs is *not* of the expected type, a ValueError is *raised*, otherwise (else) the expected operation is implemented and *returned* using the validated inputs."
   ]
  },
  {
   "cell_type": "code",
   "execution_count": 27,
   "id": "3b74384f",
   "metadata": {},
   "outputs": [],
   "source": [
    "def add(x1, x2, x3):\n",
    "    for x in [x1, x2, x3]:\n",
    "        if isinstance(x, numbers.Number) != True:\n",
    "            raise ValueError(\"Input values must be of a numerical datatype.\")\n",
    "        else:\n",
    "            return x1 + x2 + x3"
   ]
  },
  {
   "cell_type": "code",
   "execution_count": 29,
   "id": "2e2c26eb",
   "metadata": {},
   "outputs": [
    {
     "data": {
      "text/plain": [
       "9"
      ]
     },
     "execution_count": 29,
     "metadata": {},
     "output_type": "execute_result"
    }
   ],
   "source": [
    "add(3,3,3)"
   ]
  },
  {
   "cell_type": "code",
   "execution_count": 31,
   "id": "2f6ecc28",
   "metadata": {},
   "outputs": [
    {
     "ename": "ValueError",
     "evalue": "Input values must be of a numerical datatype.",
     "output_type": "error",
     "traceback": [
      "\u001b[1;31m---------------------------------------------------------------------------\u001b[0m",
      "\u001b[1;31mValueError\u001b[0m                                Traceback (most recent call last)",
      "Cell \u001b[1;32mIn[31], line 1\u001b[0m\n\u001b[1;32m----> 1\u001b[0m \u001b[43madd\u001b[49m\u001b[43m(\u001b[49m\u001b[38;5;124;43m\"\u001b[39;49m\u001b[38;5;124;43mThree\u001b[39;49m\u001b[38;5;124;43m\"\u001b[39;49m\u001b[43m,\u001b[49m\u001b[43m \u001b[49m\u001b[38;5;124;43m\"\u001b[39;49m\u001b[38;5;124;43mThree\u001b[39;49m\u001b[38;5;124;43m\"\u001b[39;49m\u001b[43m,\u001b[49m\u001b[43m \u001b[49m\u001b[38;5;124;43m\"\u001b[39;49m\u001b[38;5;124;43mThree\u001b[39;49m\u001b[38;5;124;43m\"\u001b[39;49m\u001b[43m)\u001b[49m\n",
      "Cell \u001b[1;32mIn[27], line 4\u001b[0m, in \u001b[0;36madd\u001b[1;34m(x1, x2, x3)\u001b[0m\n\u001b[0;32m      2\u001b[0m \u001b[38;5;28;01mfor\u001b[39;00m x \u001b[38;5;129;01min\u001b[39;00m [x1, x2, x3]:\n\u001b[0;32m      3\u001b[0m     \u001b[38;5;28;01mif\u001b[39;00m \u001b[38;5;28misinstance\u001b[39m(x, numbers\u001b[38;5;241m.\u001b[39mNumber) \u001b[38;5;241m!=\u001b[39m \u001b[38;5;28;01mTrue\u001b[39;00m:\n\u001b[1;32m----> 4\u001b[0m         \u001b[38;5;28;01mraise\u001b[39;00m \u001b[38;5;167;01mValueError\u001b[39;00m(\u001b[38;5;124m\"\u001b[39m\u001b[38;5;124mInput values must be of a numerical datatype.\u001b[39m\u001b[38;5;124m\"\u001b[39m)\n\u001b[0;32m      5\u001b[0m     \u001b[38;5;28;01melse\u001b[39;00m:\n\u001b[0;32m      6\u001b[0m         \u001b[38;5;28;01mreturn\u001b[39;00m x1 \u001b[38;5;241m+\u001b[39m x2 \u001b[38;5;241m+\u001b[39m x3\n",
      "\u001b[1;31mValueError\u001b[0m: Input values must be of a numerical datatype."
     ]
    }
   ],
   "source": [
    "add(\"Three\", \"Three\", \"Three\")"
   ]
  },
  {
   "cell_type": "code",
   "execution_count": 33,
   "id": "e0530dd1",
   "metadata": {},
   "outputs": [],
   "source": [
    "def concatenate(str1, str2, str3):\n",
    "    for s in [str1, str2, str3]:\n",
    "        if isinstance(s, str) != True:\n",
    "            raise ValueError(\"Input values must be of the 'string' datatype.\")\n",
    "        else:\n",
    "            return f\"{str1}{str2}{str3}\""
   ]
  },
  {
   "cell_type": "code",
   "execution_count": 35,
   "id": "9c0c6c33",
   "metadata": {},
   "outputs": [
    {
     "data": {
      "text/plain": [
       "'string1string2string3'"
      ]
     },
     "execution_count": 35,
     "metadata": {},
     "output_type": "execute_result"
    }
   ],
   "source": [
    "concatenate(\"string1\", \"string2\", \"string3\")"
   ]
  },
  {
   "cell_type": "code",
   "execution_count": 37,
   "id": "ad953f5c",
   "metadata": {},
   "outputs": [
    {
     "ename": "ValueError",
     "evalue": "Input values must be of the 'string' datatype.",
     "output_type": "error",
     "traceback": [
      "\u001b[1;31m---------------------------------------------------------------------------\u001b[0m",
      "\u001b[1;31mValueError\u001b[0m                                Traceback (most recent call last)",
      "Cell \u001b[1;32mIn[37], line 1\u001b[0m\n\u001b[1;32m----> 1\u001b[0m \u001b[43mconcatenate\u001b[49m\u001b[43m(\u001b[49m\u001b[38;5;241;43m1\u001b[39;49m\u001b[43m,\u001b[49m\u001b[38;5;241;43m2\u001b[39;49m\u001b[43m,\u001b[49m\u001b[38;5;241;43m3\u001b[39;49m\u001b[43m)\u001b[49m\n",
      "Cell \u001b[1;32mIn[33], line 4\u001b[0m, in \u001b[0;36mconcatenate\u001b[1;34m(str1, str2, str3)\u001b[0m\n\u001b[0;32m      2\u001b[0m \u001b[38;5;28;01mfor\u001b[39;00m s \u001b[38;5;129;01min\u001b[39;00m [str1, str2, str3]:\n\u001b[0;32m      3\u001b[0m     \u001b[38;5;28;01mif\u001b[39;00m \u001b[38;5;28misinstance\u001b[39m(s, \u001b[38;5;28mstr\u001b[39m) \u001b[38;5;241m!=\u001b[39m \u001b[38;5;28;01mTrue\u001b[39;00m:\n\u001b[1;32m----> 4\u001b[0m         \u001b[38;5;28;01mraise\u001b[39;00m \u001b[38;5;167;01mValueError\u001b[39;00m(\u001b[38;5;124m\"\u001b[39m\u001b[38;5;124mInput values must be of the \u001b[39m\u001b[38;5;124m'\u001b[39m\u001b[38;5;124mstring\u001b[39m\u001b[38;5;124m'\u001b[39m\u001b[38;5;124m datatype.\u001b[39m\u001b[38;5;124m\"\u001b[39m)\n\u001b[0;32m      5\u001b[0m     \u001b[38;5;28;01melse\u001b[39;00m:\n\u001b[0;32m      6\u001b[0m         \u001b[38;5;28;01mreturn\u001b[39;00m \u001b[38;5;124mf\u001b[39m\u001b[38;5;124m\"\u001b[39m\u001b[38;5;132;01m{\u001b[39;00mstr1\u001b[38;5;132;01m}\u001b[39;00m\u001b[38;5;132;01m{\u001b[39;00mstr2\u001b[38;5;132;01m}\u001b[39;00m\u001b[38;5;132;01m{\u001b[39;00mstr3\u001b[38;5;132;01m}\u001b[39;00m\u001b[38;5;124m\"\u001b[39m\n",
      "\u001b[1;31mValueError\u001b[0m: Input values must be of the 'string' datatype."
     ]
    }
   ],
   "source": [
    "concatenate(1,2,3)"
   ]
  },
  {
   "cell_type": "code",
   "execution_count": null,
   "id": "75cf131d-c3da-477b-b20f-e9775beca5c1",
   "metadata": {},
   "outputs": [],
   "source": []
  }
 ],
 "metadata": {
  "kernelspec": {
   "display_name": "Python 3 (ipykernel)",
   "language": "python",
   "name": "python3"
  },
  "language_info": {
   "codemirror_mode": {
    "name": "ipython",
    "version": 3
   },
   "file_extension": ".py",
   "mimetype": "text/x-python",
   "name": "python",
   "nbconvert_exporter": "python",
   "pygments_lexer": "ipython3",
   "version": "3.12.4"
  }
 },
 "nbformat": 4,
 "nbformat_minor": 5
}
