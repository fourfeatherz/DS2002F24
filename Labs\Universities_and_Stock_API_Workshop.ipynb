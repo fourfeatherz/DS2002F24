{
  "cells": [
    {
      "cell_type": "markdown",
      "metadata": {
        "id": "view-in-github",
        "colab_type": "text"
      },
      "source": [
        "<a href=\"https://colab.research.google.com/github/fourfeatherz/DS2002F24/blob/main/Labs%5CUniversities_and_Stock_API_Workshop.ipynb\" target=\"_parent\"><img src=\"https://colab.research.google.com/assets/colab-badge.svg\" alt=\"Open In Colab\"/></a>"
      ]
    },
    {
      "cell_type": "markdown",
      "metadata": {
        "id": "YHwTFoDB04MH"
      },
      "source": [
        "# Using API Calls in Python with JSON and DataFrames - University Data Example\n",
        "In this notebook, we will make API requests to the Hipolabs Universities API, parse the JSON response, and convert it into Pandas DataFrames for analysis and visualization."
      ],
      "id": "YHwTFoDB04MH"
    },
    {
      "cell_type": "markdown",
      "metadata": {
        "id": "CDPNEdDF04MJ"
      },
      "source": [
        "### Step 1: Making the API Call to Fetch University Data"
      ],
      "id": "CDPNEdDF04MJ"
    },
    {
      "cell_type": "code",
      "execution_count": null,
      "metadata": {
        "id": "pY6qqMVA04MJ"
      },
      "outputs": [],
      "source": [
        "import requests\n",
        "import json\n",
        "import pandas as pd\n",
        "\n",
        "# API endpoint for fetching universities\n",
        "url = \"http://universities.hipolabs.com/search?country=United%20States\"\n",
        "\n",
        "# Make the GET request\n",
        "response = requests.get(url)\n",
        "\n",
        "# Check the status code\n",
        "if response.status_code == 200:\n",
        "    print(\"API request successful!\")\n",
        "else:\n",
        "    print(f\"Failed to retrieve data: {response.status_code}\")"
      ],
      "id": "pY6qqMVA04MJ"
    },
    {
      "cell_type": "markdown",
      "metadata": {
        "id": "N7564Ydt04MK"
      },
      "source": [
        "### Step 2: Parsing the JSON Response"
      ],
      "id": "N7564Ydt04MK"
    },
    {
      "cell_type": "code",
      "execution_count": null,
      "metadata": {
        "id": "VnNhC0LN04MK"
      },
      "outputs": [],
      "source": [
        "# Parse the JSON response\n",
        "university_data = response.json()\n",
        "\n",
        "# Pretty-print the first university\n",
        "print(json.dumps(university_data[0], indent=2))"
      ],
      "id": "VnNhC0LN04MK"
    },
    {
      "cell_type": "markdown",
      "metadata": {
        "id": "LpvYuFhm04MK"
      },
      "source": [
        "### Step 3: Converting the JSON Data to a DataFrame"
      ],
      "id": "LpvYuFhm04MK"
    },
    {
      "cell_type": "code",
      "execution_count": null,
      "metadata": {
        "id": "6TXNwd7L04MK"
      },
      "outputs": [],
      "source": [
        "# Convert JSON data to a DataFrame\n",
        "df = pd.DataFrame(university_data)\n",
        "\n",
        "# Display the first few rows of the DataFrame\n",
        "print(df.head())\n",
        "df"
      ],
      "id": "6TXNwd7L04MK"
    },
    {
      "cell_type": "markdown",
      "metadata": {
        "id": "u_DHkVg004ML"
      },
      "source": [
        "### Step 4: Basic Data Analysis"
      ],
      "id": "u_DHkVg004ML"
    },
    {
      "cell_type": "code",
      "execution_count": null,
      "metadata": {
        "id": "ovs5UIKs04ML"
      },
      "outputs": [],
      "source": [
        "# Count the number of universities by state\n",
        "state_counts = df['state-province'].value_counts()\n",
        "print(state_counts)"
      ],
      "id": "ovs5UIKs04ML"
    },
    {
      "cell_type": "markdown",
      "metadata": {
        "id": "cAPYEMN304ML"
      },
      "source": [
        "### Step 5: Data Visualization"
      ],
      "id": "cAPYEMN304ML"
    },
    {
      "cell_type": "code",
      "execution_count": null,
      "metadata": {
        "id": "g7yUOl-804ML"
      },
      "outputs": [],
      "source": [
        "import matplotlib.pyplot as plt\n",
        "\n",
        "# Plot the number of universities per state\n",
        "state_counts.plot(kind='bar', figsize=(10, 6))\n",
        "plt.title(\"Number of Universities per State\")\n",
        "plt.xlabel(\"State\")\n",
        "plt.ylabel(\"Number of Universities\")\n",
        "plt.show()"
      ],
      "id": "g7yUOl-804ML"
    },
    {
      "cell_type": "markdown",
      "metadata": {
        "id": "WhSWvUWS04ML"
      },
      "source": [
        "### Step 6: Extending to Multiple Countries"
      ],
      "id": "WhSWvUWS04ML"
    },
    {
      "cell_type": "code",
      "execution_count": null,
      "metadata": {
        "id": "ctTMYEJp04ML"
      },
      "outputs": [],
      "source": [
        "countries = [\"United States\", \"Canada\", \"Australia\", \"United Kingdom\"]\n",
        "university_list = []\n",
        "\n",
        "for country in countries:\n",
        "    response = requests.get(f\"http://universities.hipolabs.com/search?country={country}\")\n",
        "    data = response.json()\n",
        "\n",
        "    for uni in data:\n",
        "        uni['country'] = country\n",
        "        university_list.append(uni)\n",
        "\n",
        "# Convert to DataFrame\n",
        "df_universities = pd.DataFrame(university_list)\n",
        "\n",
        "# Display the first few rows\n",
        "print(df_universities.head())"
      ],
      "id": "ctTMYEJp04ML"
    },
    {
      "cell_type": "markdown",
      "metadata": {
        "id": "PIgW1_1p04ML"
      },
      "source": [
        "### Step 7: Visualizing University Counts by Country"
      ],
      "id": "PIgW1_1p04ML"
    },
    {
      "cell_type": "code",
      "execution_count": null,
      "metadata": {
        "id": "TLQPcYvY04ML"
      },
      "outputs": [],
      "source": [
        "# Count the number of universities per country\n",
        "country_counts = df_universities['country'].value_counts()\n",
        "\n",
        "# Plot the data\n",
        "country_counts.plot(kind='bar', figsize=(10, 6))\n",
        "plt.title(\"Number of Universities per Country\")\n",
        "plt.xlabel(\"Country\")\n",
        "plt.ylabel(\"Number of Universities\")\n",
        "plt.show()"
      ],
      "id": "TLQPcYvY04ML"
    },
    {
      "cell_type": "markdown",
      "source": [
        "###Step 8: Customizing the Workshop\n",
        "\n",
        "You can experiment further by:\n",
        "\n",
        "\n",
        "\n",
        "*   Fetching data for specific regions.\n",
        "*   Analyzing other attributes such as university domains.\n",
        "*   Creating visualizations to compare universities in different regions.\n",
        "\n"
      ],
      "metadata": {
        "id": "b-dBnRNT1MQF"
      },
      "id": "b-dBnRNT1MQF"
    },
    {
      "cell_type": "markdown",
      "source": [
        "For the followig you will need to get your API key from  https://financeapi.net/\n",
        "Examine the demo page and sample data to be returned"
      ],
      "metadata": {
        "id": "iwD_LJNy2L7u"
      },
      "id": "iwD_LJNy2L7u"
    },
    {
      "cell_type": "code",
      "source": [
        "import json\n",
        "import pandas as pd\n",
        "import json\n",
        "import requests"
      ],
      "metadata": {
        "id": "80xOdsHQ2SzU"
      },
      "id": "80xOdsHQ2SzU",
      "execution_count": null,
      "outputs": []
    },
    {
      "cell_type": "code",
      "source": [
        "#get stock from the user\n",
        "stock=input()"
      ],
      "metadata": {
        "id": "qdoW9lbM2Wes"
      },
      "id": "qdoW9lbM2Wes",
      "execution_count": null,
      "outputs": []
    },
    {
      "cell_type": "code",
      "source": [
        "print(\"The Stock we will research is:\" + stock)"
      ],
      "metadata": {
        "id": "Jb5ddkbl2YWF"
      },
      "id": "Jb5ddkbl2YWF",
      "execution_count": null,
      "outputs": []
    },
    {
      "cell_type": "code",
      "source": [
        "apikey=\"yourkey\"\n",
        "\n",
        "url = \"https://yfapi.net/v6/finance/quote\"\n",
        "\n",
        "querystring = {\"symbols\":stock}\n",
        "\n",
        "headers = {\n",
        "    'x-api-key': apikey\n",
        "    }\n",
        "\n",
        "response = requests.request(\"GET\", url, headers=headers, params=querystring)\n",
        "\n",
        "print(response.text)"
      ],
      "metadata": {
        "id": "pFKgjZlO2atU"
      },
      "id": "pFKgjZlO2atU",
      "execution_count": null,
      "outputs": []
    },
    {
      "cell_type": "code",
      "source": [
        "#print the company name and price\n",
        "stock_json = response.json()\n",
        "print(stock_json['quoteResponse']['result'][0][\"longName\"] + \" Price:$\" + str(stock_json['quoteResponse']['result'][0][\"regularMarketPrice\"]))"
      ],
      "metadata": {
        "id": "SVJqBY7y2eSs"
      },
      "id": "SVJqBY7y2eSs",
      "execution_count": null,
      "outputs": []
    },
    {
      "cell_type": "markdown",
      "source": [
        "Ask the user for a list of stocks and pass that answer back to the user\n"
      ],
      "metadata": {
        "id": "9sqZZPI12leh"
      },
      "id": "9sqZZPI12leh"
    }
  ],
  "metadata": {
    "kernelspec": {
      "display_name": "Python 3",
      "language": "python",
      "name": "python3"
    },
    "language_info": {
      "codemirror_mode": {
        "name": "ipython",
        "version": 3
      },
      "file_extension": ".py",
      "mimetype": "text/x-python",
      "name": "python",
      "nbconvert_exporter": "python",
      "version": "3.8.10"
    },
    "colab": {
      "provenance": [],
      "include_colab_link": true
    }
  },
  "nbformat": 4,
  "nbformat_minor": 5
}