{
  "nbformat": 4,
  "nbformat_minor": 0,
  "metadata": {
    "colab": {
      "provenance": [],
      "authorship_tag": "ABX9TyM7ntJabUy2tgq9KvftrFBa",
      "include_colab_link": true
    },
    "kernelspec": {
      "name": "python3",
      "display_name": "Python 3"
    },
    "language_info": {
      "name": "python"
    }
  },
  "cells": [
    {
      "cell_type": "markdown",
      "metadata": {
        "id": "view-in-github",
        "colab_type": "text"
      },
      "source": [
        "<a href=\"https://colab.research.google.com/github/fourfeatherz/DS2002F24/blob/main/decks/Working_with_CSV.ipynb\" target=\"_parent\"><img src=\"https://colab.research.google.com/assets/colab-badge.svg\" alt=\"Open In Colab\"/></a>"
      ]
    },
    {
      "cell_type": "code",
      "execution_count": null,
      "metadata": {
        "id": "RyJLNMM9pv9i"
      },
      "outputs": [],
      "source": []
    },
    {
      "cell_type": "markdown",
      "source": [
        "Taken from -->https://www.geeksforgeeks.org/working-csv-files-python/"
      ],
      "metadata": {
        "id": "75sPPGCqp7CY"
      }
    },
    {
      "cell_type": "markdown",
      "source": [
        "**What is a CSV File?**\n",
        "CSV (Comma Separated Values) is a simple file format used to store tabular data, such as a spreadsheet or database.A CSV file stores tabular data (numbers and text) in plain text.\n",
        "* Each line of the file is a data record.\n",
        "\n",
        "* Each record consists of one or more fields, separated by commas. For working CSV files in Python, there is an inbuilt module called **CSV**."
      ],
      "metadata": {
        "id": "sYfU4NJEp_xS"
      }
    },
    {
      "cell_type": "markdown",
      "source": [
        "**Reading a CSV file**\n",
        "\n",
        "Reading from a CSV file is done using the reader object. The CSV file is opened as a text file with Python’s built-in open() function, which returns a file object. In this example, we first open the CSV file in READ mode, file object is converted to csv.reader object and further operation takes place. Code and detailed explanation is given below. You can grab the file from [here on Kaggle](https://www.kaggle.com/datasets/khoongweihao/aaplcsv)"
      ],
      "metadata": {
        "id": "sp8mUp41qfRp"
      }
    },
    {
      "cell_type": "code",
      "source": [],
      "metadata": {
        "id": "93y7CrANrIQ3"
      },
      "execution_count": null,
      "outputs": []
    },
    {
      "cell_type": "code",
      "source": [
        "# importing csv module\n",
        "import csv\n",
        "\n",
        "# csv file name\n",
        "filename = \"AAPL.csv\"\n",
        "\n",
        "# initializing the titles and rows list\n",
        "fields = []\n",
        "rows = []\n",
        "\n",
        "# reading csv file\n",
        "with open(filename, 'r') as csvfile:\n",
        "    # creating a csv reader object\n",
        "    csvreader = csv.reader(csvfile)\n",
        "\n",
        "    # extracting field names through first row\n",
        "    fields = next(csvreader)\n",
        "\n",
        "    # extracting each data row one by one\n",
        "    for row in csvreader:\n",
        "        rows.append(row)\n",
        "\n",
        "    # get total number of rows\n",
        "    print(\"Total no. of rows: %d\" % (csvreader.line_num))\n",
        "\n",
        "# printing the field names\n",
        "print('Field names are:' + ', '.join(field for field in fields))\n",
        "\n",
        "# printing first 5 rows\n",
        "print('\\nFirst 5 rows are:\\n')\n",
        "for row in rows[:5]:\n",
        "    # parsing each column of a row\n",
        "    for col in row:\n",
        "        print(\"%10s\" % col, end=\" \"),\n",
        "    print('\\n')\n"
      ],
      "metadata": {
        "colab": {
          "base_uri": "https://localhost:8080/"
        },
        "id": "34jC1fCDqnU5",
        "outputId": "bc2a83e7-3b28-4576-c5e1-f61d086a1a71"
      },
      "execution_count": 3,
      "outputs": [
        {
          "output_type": "stream",
          "name": "stdout",
          "text": [
            "Total no. of rows: 185\n",
            "Field names are:Date, Open, High, Low, Close, Adj Close, Volume\n",
            "\n",
            "First 5 rows are:\n",
            "\n",
            "2014-09-29 100.589996 100.690002  98.040001  99.620003  93.514290  142718700 \n",
            "\n",
            "2014-10-06  99.949997 102.379997  98.309998 100.730003  94.556244  280258200 \n",
            "\n",
            "2014-10-13 101.330002 101.779999  95.180000  97.669998  91.683792  358539800 \n",
            "\n",
            "2014-10-20  98.320000 105.489998  98.220001 105.220001  98.771042  358532900 \n",
            "\n",
            "2014-10-27 104.849998 108.040001 104.699997 108.000000 101.380676  220230600 \n",
            "\n"
          ]
        }
      ]
    },
    {
      "cell_type": "code",
      "source": [
        "print(\"Total no. of rows: %d\"%(csvreader.line_num))"
      ],
      "metadata": {
        "colab": {
          "base_uri": "https://localhost:8080/"
        },
        "id": "W1Tj8l4hr3vj",
        "outputId": "45ef77ad-2ba5-48d0-bfad-35ec877e7f4d"
      },
      "execution_count": 4,
      "outputs": [
        {
          "output_type": "stream",
          "name": "stdout",
          "text": [
            "Total no. of rows: 185\n"
          ]
        }
      ]
    },
    {
      "cell_type": "markdown",
      "source": [
        "**Reading CSV Files Into a Dictionary With csv**\n",
        "\n",
        "We can read a CSV file into a dictionary using the csv module in Python and the csv.DictReader class. Here’s an example:\n",
        "\n",
        "Suppose, we have a employees.csv file and content inside it will be:\n",
        "\n",
        ">name,department,birthday_month\n",
        ">\n",
        ">John Smith,HR,July\n",
        ">\n",
        ">Alice Johnson,IT,October\n",
        ">\n",
        ">Bob Williams,Finance,January\n"
      ],
      "metadata": {
        "id": "53OolAkPsMM7"
      }
    },
    {
      "cell_type": "code",
      "source": [
        "import csv\n",
        "\n",
        "# Open the CSV file for reading\n",
        "with open('employees.csv', mode='r') as file:\n",
        "    # Create a CSV reader with DictReader\n",
        "    csv_reader = csv.DictReader(file)\n",
        "\n",
        "    # Initialize an empty list to store the dictionaries\n",
        "    data_list = []\n",
        "\n",
        "    # Iterate through each row in the CSV file\n",
        "    for row in csv_reader:\n",
        "        # Append each row (as a dictionary) to the list\n",
        "        data_list.append(row)\n",
        "\n",
        "# Print the list of dictionaries\n",
        "for data in data_list:\n",
        "    print(data)\n"
      ],
      "metadata": {
        "colab": {
          "base_uri": "https://localhost:8080/"
        },
        "id": "zucl2_-KtCjz",
        "outputId": "6f751ab8-e3b5-47bd-fd31-5276fc0e0d6d"
      },
      "execution_count": 5,
      "outputs": [
        {
          "output_type": "stream",
          "name": "stdout",
          "text": [
            "{'name': 'John Smith', 'department': 'HR', 'birthday_month': 'July'}\n",
            "{'name': 'Alice Johnson', 'department': 'IT', 'birthday_month': 'October'}\n",
            "{'name': 'Bob Williams', 'department': 'Finance', 'birthday_month': 'January'}\n"
          ]
        }
      ]
    },
    {
      "cell_type": "markdown",
      "source": [
        "**Writing to a CSV file**\n",
        "\n",
        "To write to a CSV file, we first open the CSV file in WRITE mode. The file object is converted to csv.writer object and further operations takes place. ."
      ],
      "metadata": {
        "id": "S1wjP9sutXbw"
      }
    },
    {
      "cell_type": "code",
      "source": [
        "# importing the csv module\n",
        "import csv\n",
        "# field names\n",
        "fields = ['Name', 'Branch', 'Year', 'CGPA']\n",
        "# data rows of csv file\n",
        "rows = [['Nikhil', 'COE', '2', '9.0'],\n",
        "        ['Sanchit', 'COE', '2', '9.1'],\n",
        "        ['Aditya', 'IT', '2', '9.3'],\n",
        "        ['Sagar', 'SE', '1', '9.5'],\n",
        "        ['Prateek', 'MCE', '3', '7.8'],\n",
        "        ['Sahil', 'EP', '2', '9.1']]\n",
        "# name of csv file\n",
        "filename = \"university_records.csv\"\n",
        "# writing to csv file\n",
        "with open(filename, 'w') as csvfile:\n",
        "    # creating a csv writer object\n",
        "    csvwriter = csv.writer(csvfile)\n",
        "    # writing the fields\n",
        "    csvwriter.writerow(fields)\n",
        "    # writing the data rows\n",
        "    csvwriter.writerows(rows)\n"
      ],
      "metadata": {
        "id": "k1tDW_mTtcle"
      },
      "execution_count": 6,
      "outputs": []
    },
    {
      "cell_type": "markdown",
      "source": [
        "**Writing a dictionary to a CSV file**\n",
        "To write a dictionary to a CSV file, the file object (csvfile) is converted to a DictWriter object."
      ],
      "metadata": {
        "id": "9HGz2owEtskA"
      }
    },
    {
      "cell_type": "code",
      "source": [
        "# importing the csv module\n",
        "import csv\n",
        "\n",
        "# my data rows as dictionary objects\n",
        "mydict = [{'branch': 'COE', 'cgpa': '9.0',\n",
        "           'name': 'Nikhil', 'year': '2'},\n",
        "          {'branch': 'COE', 'cgpa': '9.1',\n",
        "           'name': 'Sanchit', 'year': '2'},\n",
        "          {'branch': 'IT', 'cgpa': '9.3',\n",
        "           'name': 'Aditya', 'year': '2'},\n",
        "          {'branch': 'SE', 'cgpa': '9.5',\n",
        "           'name': 'Sagar', 'year': '1'},\n",
        "          {'branch': 'MCE', 'cgpa': '7.8',\n",
        "           'name': 'Prateek', 'year': '3'},\n",
        "          {'branch': 'EP', 'cgpa': '9.1',\n",
        "           'name': 'Sahil', 'year': '2'}]\n",
        "\n",
        "# field names\n",
        "fields = ['name', 'branch', 'year', 'cgpa']\n",
        "\n",
        "# name of csv file\n",
        "filename = \"university_records2.csv\"\n",
        "\n",
        "# writing to csv file\n",
        "with open(filename, 'w') as csvfile:\n",
        "    # creating a csv dict writer object\n",
        "    writer = csv.DictWriter(csvfile, fieldnames=fields)\n",
        "\n",
        "    # writing headers (field names)\n",
        "    writer.writeheader()\n",
        "\n",
        "    # writing data rows\n",
        "    writer.writerows(mydict)\n"
      ],
      "metadata": {
        "id": "vUsaVwRQtvwb"
      },
      "execution_count": 8,
      "outputs": []
    }
  ]
}