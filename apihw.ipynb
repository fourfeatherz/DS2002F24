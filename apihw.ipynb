{
  "nbformat": 4,
  "nbformat_minor": 0,
  "metadata": {
    "colab": {
      "provenance": [],
      "authorship_tag": "ABX9TyOwAt7byjrCcugfTNJfdxLQ",
      "include_colab_link": true
    },
    "kernelspec": {
      "name": "python3",
      "display_name": "Python 3"
    },
    "language_info": {
      "name": "python"
    }
  },
  "cells": [
    {
      "cell_type": "markdown",
      "metadata": {
        "id": "view-in-github",
        "colab_type": "text"
      },
      "source": [
        "<a href=\"https://colab.research.google.com/github/rixprakash/DS2002F24/blob/main/apihw.ipynb\" target=\"_parent\"><img src=\"https://colab.research.google.com/assets/colab-badge.svg\" alt=\"Open In Colab\"/></a>"
      ]
    },
    {
      "cell_type": "code",
      "source": [
        "import requests\n",
        "\n",
        "apikey = \"maeundD0dq1ZlJPU0OQHCXorzXNtNtJ2TOqRKOi9\"\n",
        "\n",
        "user_input = input(\"Enter stock symbols separated by commas:\")\n",
        "stocks = user_input.split(\",\")\n",
        "stock_symbols = \",\".join(stocks)\n",
        "\n",
        "url = \"https://yfapi.net/v6/finance/quote\"\n",
        "\n",
        "querystring = {\"symbols\": stock_symbols}\n",
        "\n",
        "headers = {\n",
        "    'x-api-key': apikey\n",
        "}\n",
        "\n",
        "response = requests.request(\"GET\", url, headers=headers, params=querystring)\n",
        "stock_json = response.json()\n",
        "\n",
        "stocks_data = []\n",
        "\n",
        "for stock in stock_json['quoteResponse']['result']:\n",
        "    stock_data = {\n",
        "        \"Ticker Symbol\": stock.get(\"symbol\", \"N/A\"),\n",
        "        \"Stock Name\": stock.get(\"longName\", \"N/A\"),\n",
        "        \"Current Market Price\": stock.get(\"regularMarketPrice\", \"N/A\"),\n",
        "        \"52 Week High\": stock.get(\"fiftyTwoWeekHigh\", \"N/A\"),\n",
        "        \"52 Week Low\": stock.get(\"fiftyTwoWeekLow\", \"N/A\")\n",
        "    }\n",
        "    stocks_data.append(stock_data)\n",
        "\n",
        "\n",
        "df = pd.DataFrame(stocks_data)\n",
        "#df.to_csv('stock_data.csv', index=False)\n",
        "\n",
        "urlrec = \"https://yfapi.net/v6/finance/recommendationbysymbol\"\n",
        "responserec = requests.get(urlrec, headers=headers)\n",
        "\n",
        "# Check if the request was successful\n",
        "if response.status_code == 200:\n",
        "    # Parse the JSON response\n",
        "    datarec = responserec.json()\n",
        "\n",
        "    # Extract the stock tickers\n",
        "    recommended_symbols = datarec['finance']['result'][0]['recommendedSymbols']\n",
        "    tickers = [symbol['symbol'] for symbol in recommended_symbols]\n",
        "\n",
        "    # Get the first five stock tickers\n",
        "    top_five_tickers = tickers[:5]\n",
        "\n",
        "    print(\"Top five stock tickers:\", top_five_tickers)\n",
        "else:\n",
        "    print(\"Error:\", response.status_code, response.text)\n",
        "\n"
      ],
      "metadata": {
        "colab": {
          "base_uri": "https://localhost:8080/",
          "height": 233
        },
        "id": "jZ_0dfF6rcVl",
        "outputId": "e68dc9ee-78a6-4ead-b39e-2aa73475f3ac"
      },
      "execution_count": 15,
      "outputs": [
        {
          "name": "stdout",
          "output_type": "stream",
          "text": [
            "Enter stock symbols separated by commas:aapl,msft,meta\n"
          ]
        },
        {
          "output_type": "error",
          "ename": "KeyError",
          "evalue": "'finance'",
          "traceback": [
            "\u001b[0;31m---------------------------------------------------------------------------\u001b[0m",
            "\u001b[0;31mKeyError\u001b[0m                                  Traceback (most recent call last)",
            "\u001b[0;32m<ipython-input-15-a39627713d58>\u001b[0m in \u001b[0;36m<cell line: 40>\u001b[0;34m()\u001b[0m\n\u001b[1;32m     43\u001b[0m \u001b[0;34m\u001b[0m\u001b[0m\n\u001b[1;32m     44\u001b[0m     \u001b[0;31m# Extract the stock tickers\u001b[0m\u001b[0;34m\u001b[0m\u001b[0;34m\u001b[0m\u001b[0m\n\u001b[0;32m---> 45\u001b[0;31m     \u001b[0mrecommended_symbols\u001b[0m \u001b[0;34m=\u001b[0m \u001b[0mdatarec\u001b[0m\u001b[0;34m[\u001b[0m\u001b[0;34m'finance'\u001b[0m\u001b[0;34m]\u001b[0m\u001b[0;34m[\u001b[0m\u001b[0;34m'result'\u001b[0m\u001b[0;34m]\u001b[0m\u001b[0;34m[\u001b[0m\u001b[0;36m0\u001b[0m\u001b[0;34m]\u001b[0m\u001b[0;34m[\u001b[0m\u001b[0;34m'recommendedSymbols'\u001b[0m\u001b[0;34m]\u001b[0m\u001b[0;34m\u001b[0m\u001b[0;34m\u001b[0m\u001b[0m\n\u001b[0m\u001b[1;32m     46\u001b[0m     \u001b[0mtickers\u001b[0m \u001b[0;34m=\u001b[0m \u001b[0;34m[\u001b[0m\u001b[0msymbol\u001b[0m\u001b[0;34m[\u001b[0m\u001b[0;34m'symbol'\u001b[0m\u001b[0;34m]\u001b[0m \u001b[0;32mfor\u001b[0m \u001b[0msymbol\u001b[0m \u001b[0;32min\u001b[0m \u001b[0mrecommended_symbols\u001b[0m\u001b[0;34m]\u001b[0m\u001b[0;34m\u001b[0m\u001b[0;34m\u001b[0m\u001b[0m\n\u001b[1;32m     47\u001b[0m \u001b[0;34m\u001b[0m\u001b[0m\n",
            "\u001b[0;31mKeyError\u001b[0m: 'finance'"
          ]
        }
      ]
    },
    {
      "cell_type": "code",
      "source": [
        "datarec"
      ],
      "metadata": {
        "colab": {
          "base_uri": "https://localhost:8080/"
        },
        "id": "eAgx6C6UtMUV",
        "outputId": "c1e2d997-d476-4bda-80d2-d43ed478e1cf"
      },
      "execution_count": 16,
      "outputs": [
        {
          "output_type": "execute_result",
          "data": {
            "text/plain": [
              "{'message': 'Missing Authentication Token',\n",
              " 'hint': 'Sign up for API key https://financeapi.net/tutorial'}"
            ]
          },
          "metadata": {},
          "execution_count": 16
        }
      ]
    },
    {
      "cell_type": "code",
      "source": [
        "import requests\n",
        "\n",
        "# Define the URL\n",
        "url = \"https://yfapi.net/v6/finance/recommendationbysymbol\"\n",
        "\n",
        "# Define the headers (you might need an API key depending on the service)\n",
        "headers = {\n",
        "    \"x-api-key\": \"maeundD0dq1ZlJPU0OQHCXorzXNtNtJ2TOqRKOi9\"  # Replace with your actual API key\n",
        "}\n",
        "\n",
        "# Make a GET request to the URL\n",
        "response = requests.get(url, headers=headers)\n",
        "\n",
        "# Check if the request was successful\n",
        "if response.status_code == 200:\n",
        "    # Parse the JSON response\n",
        "    data = response.json()\n",
        "\n",
        "    # Extract the stock tickers\n",
        "    recommended_symbols = data['finance']['result'][0]['recommendedSymbols']\n",
        "    tickers = [symbol['symbol'] for symbol in recommended_symbols]\n",
        "\n",
        "    # Get the first five stock tickers\n",
        "    top_five_tickers = tickers[:5]\n",
        "\n",
        "    print(\"Top five stock tickers:\", top_five_tickers)\n",
        "else:\n",
        "    print(\"Error:\", response.status_code, response.text)\n"
      ],
      "metadata": {
        "colab": {
          "base_uri": "https://localhost:8080/"
        },
        "id": "OE-abIxeyzhY",
        "outputId": "42940098-9e88-47c6-800a-8c16dc1eea3e"
      },
      "execution_count": 13,
      "outputs": [
        {
          "output_type": "stream",
          "name": "stdout",
          "text": [
            "Error: 403 {\"message\":\"Missing Authentication Token\",\"hint\":\"Sign up for API key https://financeapi.net/tutorial\"}\n"
          ]
        }
      ]
    }
  ]
}